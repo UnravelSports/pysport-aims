{
 "cells": [
  {
   "cell_type": "markdown",
   "metadata": {},
   "source": [
    "#### **we first starting by importing the loader**"
   ]
  },
  {
   "cell_type": "code",
   "execution_count": null,
   "metadata": {},
   "outputs": [],
   "source": [
    "from kloppy import pff #import the loader which is commonly the name of the data provider."
   ]
  },
  {
   "cell_type": "markdown",
   "metadata": {},
   "source": [
    "##### **Path to the necessaries files to load with kolppy, the final match (game_id=10517) of the 2022 world cup.**"
   ]
  },
  {
   "cell_type": "code",
   "execution_count": 4,
   "metadata": {},
   "outputs": [],
   "source": [
    "roster = \"/home/student/Documents/AIMS/Intership/pysport/first_week/data/10517_roster.json\"\n",
    "metadata = \"/home/student/Documents/AIMS/Intership/pysport/first_week/data/10517_metadata.json\"\n",
    "raw_data = \"/home/student/Documents/AIMS/Intership/pysport/first_week/data/pff_10517.jsonl.bz2\""
   ]
  },
  {
   "cell_type": "markdown",
   "metadata": {},
   "source": [
    "##### **using the path variables and the load_tracking() function of the pff loader, we load the game data.**"
   ]
  },
  {
   "cell_type": "code",
   "execution_count": null,
   "metadata": {},
   "outputs": [],
   "source": [
    "dataset = pff.load_tracking(\n",
    "    meta_data= metadata,\n",
    "    roster_meta_data= roster,\n",
    "    raw_data = raw_data,\n",
    "    # Optional Parameters\n",
    "    coordinates = \"pff\", # here we specify that we are going to use the pff pitch size and  orientation\n",
    "    sample_rate = None, # we keep the number of laded frame as given by the provider number of frame per second ()\n",
    "    limit = None # We load the total frames available wich are around (5400 seconds * 25 frames per second)\n",
    ")"
   ]
  },
  {
   "cell_type": "code",
   "execution_count": 67,
   "metadata": {},
   "outputs": [
    {
     "name": "stdout",
     "output_type": "stream",
     "text": [
      "Te dataset contains 130308 frames. \n",
      "This is the record of around 86.87 min of the 2022 football final world cup \n"
     ]
    }
   ],
   "source": [
    "# let take a look of how many frames it contains\n",
    "print(f\"Te dataset contains {len(dataset)} frames. \")\n",
    "# we first start by cheking the approximative number of minute recorded\n",
    "def what_is_this(frame_rate=25):\n",
    "    total_recorded_time  = len(dataset)/frame_rate\n",
    "    time_in_min = total_recorded_time/60 # to get the result in minutes\n",
    "    print(f\"This is the record of around {time_in_min:0.2f} min of the 2022 football final world cup \")\n",
    "\n",
    "what_is_this()"
   ]
  },
  {
   "cell_type": "markdown",
   "metadata": {},
   "source": [
    "##### **Strange... it seems like the number of frames doesn't match with our excpectation**"
   ]
  },
  {
   "cell_type": "markdown",
   "metadata": {},
   "source": [
    "##### **Assumptions**\n",
    "- the number of frame is not 25 per second but less than this.\n",
    "- the provider doesn't provide record of the entire game."
   ]
  },
  {
   "cell_type": "code",
   "execution_count": 40,
   "metadata": {},
   "outputs": [
    {
     "name": "stdout",
     "output_type": "stream",
     "text": [
      "This is a TRACKING dataset.\n"
     ]
    }
   ],
   "source": [
    "# let go into attribute of the data_loaded\n",
    "def of_type(data):\n",
    "    return data.dataset_type.name\n",
    "\n",
    "print(f\"This is a {of_type(dataset)} dataset.\")"
   ]
  },
  {
   "cell_type": "markdown",
   "metadata": {},
   "source": [
    "##### **implement some functions available on Tracking Dataset to navigate within the data**"
   ]
  },
  {
   "cell_type": "code",
   "execution_count": 68,
   "metadata": {},
   "outputs": [
    {
     "name": "stdout",
     "output_type": "stream",
     "text": [
      "\u001b[31mType:\u001b[39m        Metadata\n",
      "\u001b[31mString form:\u001b[39m Metadata(periods=[Period(id=1, start_timestamp=datetime.timedelta(seconds=154, microseconds=48782 <...> .utc), game_week=8, game_id=10517, home_coach=None, away_coach=None, officials=[], attributes={})\n",
      "\u001b[31mFile:\u001b[39m        ~/miniconda3/envs/pysport_env/lib/python3.11/site-packages/kloppy/domain/models/common.py\n",
      "\u001b[31mDocstring:\u001b[39m  \n",
      "Metadata for a dataset.\n",
      "\n",
      "Metadata is additional information about the dataset that is not part of\n",
      "the actual data. It includes information about the teams, the pitch\n",
      "dimensions, the orientation, the provider, and more.\n",
      "\n",
      "Attributes:\n",
      "    game_id: Game id of the game from the provider.\n",
      "    date: Date of the game.\n",
      "    game_week: Game week (or match day) of the game. It can also be the stage\n",
      "        (ex: \"8th Finals\"), if the game is happening during a cup or a play-off.\n",
      "    periods: List of [`Period`][kloppy.domain.models.common.Period] entities.\n",
      "    teams: `[home_team, away_team]`.\n",
      "    coordinate_system: The coordinate system in which the data is provided.\n",
      "    pitch_dimensions: The dimensions of the pitch.\n",
      "    orientation: The attacking direction of each team.\n",
      "    flags: Flags describing what optional data is available in the dataset.\n",
      "    provider: The provider of the dataset.\n",
      "    score: The final score of the match.\n",
      "    frame_rate: The frame rate (in Hertz) at which the data was recorded.\n",
      "        Only for tracking data.\n",
      "    attributes: Additional metadata."
     ]
    }
   ],
   "source": [
    "# exploration of metadata variabes\n",
    "dataset.metadata?"
   ]
  },
  {
   "cell_type": "code",
   "execution_count": null,
   "metadata": {},
   "outputs": [],
   "source": [
    "# this give us some variable to handle informations about the game store in metadata \n",
    "# here we see that we can access the game_id, the date were the match was play the stage of the competion or the game_week\n",
    "# the informations about the teams, the final score and important ploting information like the pitch dimension the attacking orientation and the cordinate system.\n",
    "# Also we have extra information like the provider the frame_rate and the periods. "
   ]
  },
  {
   "cell_type": "code",
   "execution_count": 97,
   "metadata": {},
   "outputs": [
    {
     "name": "stdout",
     "output_type": "stream",
     "text": [
      "The 2022 football final word cups final was played the 2022-12-18 at 15:00:00\n",
      "score: None\n"
     ]
    }
   ],
   "source": [
    "# Let remember when was the 2022 football final word cup\n",
    "print(f\"The 2022 football final word cups final was played the {dataset.metadata.date.date()} at {dataset.metadata.date.time() }\")\n",
    "print(f\"score: {dataset.metadata.score}\")"
   ]
  },
  {
   "cell_type": "markdown",
   "metadata": {},
   "source": [
    "**ahaaa the final score is not provided....**"
   ]
  },
  {
   "cell_type": "code",
   "execution_count": 98,
   "metadata": {},
   "outputs": [
    {
     "data": {
      "text/plain": [
       "list"
      ]
     },
     "execution_count": 98,
     "metadata": {},
     "output_type": "execute_result"
    }
   ],
   "source": [
    "# let check what we can have with the teams variable\n",
    "teams = dataset.metadata.teams # as precise up there we expect here a list of two variable the home and the away team\n",
    "type(teams)"
   ]
  },
  {
   "cell_type": "code",
   "execution_count": 88,
   "metadata": {},
   "outputs": [
    {
     "name": "stdout",
     "output_type": "stream",
     "text": [
      "object of type: Team \n",
      "or more precisely <class 'kloppy.domain.models.common.Team'>\n"
     ]
    }
   ],
   "source": [
    "# what type of variable is a team\n",
    "print(f\"object of type: {teams[0].__class__.__name__} \\nor more precisely {type(teams[0])}\")"
   ]
  },
  {
   "cell_type": "code",
   "execution_count": 91,
   "metadata": {},
   "outputs": [
    {
     "name": "stdout",
     "output_type": "stream",
     "text": [
      "\u001b[31mType:\u001b[39m        Team\n",
      "\u001b[31mString form:\u001b[39m Argentina\n",
      "\u001b[31mFile:\u001b[39m        ~/miniconda3/envs/pysport_env/lib/python3.11/site-packages/kloppy/domain/models/common.py\n",
      "\u001b[31mDocstring:\u001b[39m  \n",
      "A team in a match.\n",
      "\n",
      "Attributes:\n",
      "    team_id (str): Identifier given by the provider.\n",
      "    name (str): Readable name of the team.\n",
      "    ground (Ground): The team's ground (home or away).\n",
      "    players (List[Player]): The team's players.\n",
      "    starting_formation (FormationType, optional): The team's starting formation."
     ]
    }
   ],
   "source": [
    "# wath are the attribute of a team ?\n",
    "home_team ,away_team = teams\n",
    "home_team?"
   ]
  },
  {
   "cell_type": "code",
   "execution_count": 99,
   "metadata": {},
   "outputs": [
    {
     "name": "stdout",
     "output_type": "stream",
     "text": [
      "this was a match between Argentina and France\n",
      "None None\n"
     ]
    }
   ],
   "source": [
    "# here we see that we can access the team name,ID,starting formation, if the team play as home or away team and the list of player of the team.\n",
    "print(f\"this was a match between {home_team.name} and {away_team.name}\")\n",
    "print(home_team.starting_formation,away_team.starting_formation)"
   ]
  },
  {
   "cell_type": "code",
   "execution_count": null,
   "metadata": {},
   "outputs": [],
   "source": [
    "# even the starting formations are not provided"
   ]
  },
  {
   "cell_type": "code",
   "execution_count": null,
   "metadata": {},
   "outputs": [
    {
     "data": {
      "text/plain": [
       "[Player(player_id='13222', team=Team(team_id='364', name='Argentina', ground=home, starting_formation=None, formations=<TimeContainer>, players=[..., Player(player_id='8058', team=..., jersey_no=21, first_name=None, last_name=None, name='Paulo Dybala', starting=None, starting_position=<PositionType.Striker: ('Striker', 'ST', 'Attacker')>, positions=<TimeContainer>, attributes={}), Player(player_id='8025', team=..., jersey_no=3, first_name=None, last_name=None, name='Nicolas Tagliafico', starting=None, starting_position=<PositionType.LeftBack: ('Left Back', 'LB', 'FullBack')>, positions=<TimeContainer>, attributes={}), Player(player_id='1389', team=..., jersey_no=15, first_name=None, last_name=None, name='Angel Correa', starting=None, starting_position=<PositionType.Striker: ('Striker', 'ST', 'Attacker')>, positions=<TimeContainer>, attributes={}), Player(player_id='10715', team=..., jersey_no=9, first_name=None, last_name=None, name='Julian Alvarez', starting=None, starting_position=<PositionType.Striker: ('Striker', 'ST', 'Attacker')>, positions=<TimeContainer>, attributes={}), Player(player_id='8023', team=..., jersey_no=25, first_name=None, last_name=None, name='Lisandro Martinez', starting=None, starting_position=<PositionType.LeftCenterBack: ('Left Center Back', 'LCB', 'CenterBack')>, positions=<TimeContainer>, attributes={}), Player(player_id='1706', team=..., jersey_no=12, first_name=None, last_name=None, name='Geronimo Rulli', starting=None, starting_position=<PositionType.Goalkeeper: ('Goalkeeper', 'GK', None)>, positions=<TimeContainer>, attributes={}), Player(player_id='5116', team=..., jersey_no=13, first_name=None, last_name=None, name='Cristian Romero', starting=None, starting_position=<PositionType.RightCenterBack: ('Right Center Back', 'RCB', 'CenterBack')>, positions=<TimeContainer>, attributes={}), Player(player_id='144', team=..., jersey_no=23, first_name=None, last_name=None, name='Emiliano Martínez', starting=None, starting_position=<PositionType.Goalkeeper: ('Goalkeeper', 'GK', None)>, positions=<TimeContainer>, attributes={}), Player(player_id='1877', team=..., jersey_no=18, first_name=None, last_name=None, name='Guido Rodríguez', starting=None, starting_position=<PositionType.DefensiveMidfield: ('Defensive Midfield', 'DM', 'Midfielder')>, positions=<TimeContainer>, attributes={}), Player(player_id='8420', team=..., jersey_no=17, first_name=None, last_name=None, name='Papu Gómez', starting=None, starting_position=<PositionType.AttackingMidfield: ('Attacking Midfield', 'AM', 'Midfielder')>, positions=<TimeContainer>, attributes={}), Player(player_id='7757', team=..., jersey_no=16, first_name=None, last_name=None, name='Thiago Almada', starting=None, starting_position=<PositionType.AttackingMidfield: ('Attacking Midfield', 'AM', 'Midfielder')>, positions=<TimeContainer>, attributes={}), Player(player_id='453', team=..., jersey_no=20, first_name=None, last_name=None, name='Alexis Mac Allister', starting=None, starting_position=<PositionType.CenterMidfield: ('Center Midfield', 'CM', 'CentralMidfield')>, positions=<TimeContainer>, attributes={}), Player(player_id='3856', team=..., jersey_no=5, first_name=None, last_name=None, name='Leandro Paredes', starting=None, starting_position=<PositionType.DefensiveMidfield: ('Defensive Midfield', 'DM', 'Midfielder')>, positions=<TimeContainer>, attributes={}), Player(player_id='9178', team=..., jersey_no=8, first_name=None, last_name=None, name='Marcos Acuña', starting=None, starting_position=<PositionType.LeftBack: ('Left Back', 'LB', 'FullBack')>, positions=<TimeContainer>, attributes={}), Player(player_id='4590', team=..., jersey_no=14, first_name=None, last_name=None, name='Exequiel Palacios', starting=None, starting_position=<PositionType.CenterMidfield: ('Center Midfield', 'CM', 'CentralMidfield')>, positions=<TimeContainer>, attributes={}), Player(player_id='13903', team=..., jersey_no=1, first_name=None, last_name=None, name='Franco Armani', starting=None, starting_position=<PositionType.Goalkeeper: ('Goalkeeper', 'GK', None)>, positions=<TimeContainer>, attributes={}), Player(player_id='8138', team=..., jersey_no=22, first_name=None, last_name=None, name='Lautaro Martinez', starting=None, starting_position=<PositionType.Striker: ('Striker', 'ST', 'Attacker')>, positions=<TimeContainer>, attributes={}), Player(player_id='11856', team=..., jersey_no=24, first_name=None, last_name=None, name='Enzo Fernandez', starting=None, starting_position=<PositionType.CenterMidfield: ('Center Midfield', 'CM', 'CentralMidfield')>, positions=<TimeContainer>, attributes={}), Player(player_id='13226', team=..., jersey_no=6, first_name=None, last_name=None, name='German Pezzella', starting=None, starting_position=<PositionType.RightCenterBack: ('Right Center Back', 'RCB', 'CenterBack')>, positions=<TimeContainer>, attributes={}), Player(player_id='6895', team=..., jersey_no=7, first_name=None, last_name=None, name='Rodrigo de Paul', starting=None, starting_position=<PositionType.CenterMidfield: ('Center Midfield', 'CM', 'CentralMidfield')>, positions=<TimeContainer>, attributes={}), Player(player_id='3868', team=..., jersey_no=11, first_name=None, last_name=None, name='Ángel Di María', starting=None, starting_position=<PositionType.LeftWing: ('Left Wing', 'LW', 'WideMidfield')>, positions=<TimeContainer>, attributes={}), Player(player_id='68', team=..., jersey_no=2, first_name=None, last_name=None, name='Juan Foyth', starting=None, starting_position=<PositionType.RightBack: ('Right Back', 'RB', 'FullBack')>, positions=<TimeContainer>, attributes={}), Player(player_id='11', team=..., jersey_no=19, first_name=None, last_name=None, name='Nicolás Otamendi', starting=None, starting_position=<PositionType.LeftCenterBack: ('Left Center Back', 'LCB', 'CenterBack')>, positions=<TimeContainer>, attributes={}), Player(player_id='1531', team=..., jersey_no=10, first_name=None, last_name=None, name='Lionel Messi', starting=None, starting_position=<PositionType.RightWing: ('Right Wing', 'RW', 'WideMidfield')>, positions=<TimeContainer>, attributes={}), Player(player_id='8419', team=..., jersey_no=4, first_name=None, last_name=None, name='Gonzalo Montiel', starting=None, starting_position=<PositionType.RightBack: ('Right Back', 'RB', 'FullBack')>, positions=<TimeContainer>, attributes={})]), jersey_no=26, first_name=None, last_name=None, name='Nahuel Molina', starting=None, starting_position=<PositionType.RightBack: ('Right Back', 'RB', 'FullBack')>, positions=<TimeContainer>, attributes={}),\n",
       " Player(player_id='8058', team=Team(team_id='364', name='Argentina', ground=home, starting_formation=None, formations=<TimeContainer>, players=[Player(player_id='13222', team=..., jersey_no=26, first_name=None, last_name=None, name='Nahuel Molina', starting=None, starting_position=<PositionType.RightBack: ('Right Back', 'RB', 'FullBack')>, positions=<TimeContainer>, attributes={}), ..., Player(player_id='8025', team=..., jersey_no=3, first_name=None, last_name=None, name='Nicolas Tagliafico', starting=None, starting_position=<PositionType.LeftBack: ('Left Back', 'LB', 'FullBack')>, positions=<TimeContainer>, attributes={}), Player(player_id='1389', team=..., jersey_no=15, first_name=None, last_name=None, name='Angel Correa', starting=None, starting_position=<PositionType.Striker: ('Striker', 'ST', 'Attacker')>, positions=<TimeContainer>, attributes={}), Player(player_id='10715', team=..., jersey_no=9, first_name=None, last_name=None, name='Julian Alvarez', starting=None, starting_position=<PositionType.Striker: ('Striker', 'ST', 'Attacker')>, positions=<TimeContainer>, attributes={}), Player(player_id='8023', team=..., jersey_no=25, first_name=None, last_name=None, name='Lisandro Martinez', starting=None, starting_position=<PositionType.LeftCenterBack: ('Left Center Back', 'LCB', 'CenterBack')>, positions=<TimeContainer>, attributes={}), Player(player_id='1706', team=..., jersey_no=12, first_name=None, last_name=None, name='Geronimo Rulli', starting=None, starting_position=<PositionType.Goalkeeper: ('Goalkeeper', 'GK', None)>, positions=<TimeContainer>, attributes={}), Player(player_id='5116', team=..., jersey_no=13, first_name=None, last_name=None, name='Cristian Romero', starting=None, starting_position=<PositionType.RightCenterBack: ('Right Center Back', 'RCB', 'CenterBack')>, positions=<TimeContainer>, attributes={}), Player(player_id='144', team=..., jersey_no=23, first_name=None, last_name=None, name='Emiliano Martínez', starting=None, starting_position=<PositionType.Goalkeeper: ('Goalkeeper', 'GK', None)>, positions=<TimeContainer>, attributes={}), Player(player_id='1877', team=..., jersey_no=18, first_name=None, last_name=None, name='Guido Rodríguez', starting=None, starting_position=<PositionType.DefensiveMidfield: ('Defensive Midfield', 'DM', 'Midfielder')>, positions=<TimeContainer>, attributes={}), Player(player_id='8420', team=..., jersey_no=17, first_name=None, last_name=None, name='Papu Gómez', starting=None, starting_position=<PositionType.AttackingMidfield: ('Attacking Midfield', 'AM', 'Midfielder')>, positions=<TimeContainer>, attributes={}), Player(player_id='7757', team=..., jersey_no=16, first_name=None, last_name=None, name='Thiago Almada', starting=None, starting_position=<PositionType.AttackingMidfield: ('Attacking Midfield', 'AM', 'Midfielder')>, positions=<TimeContainer>, attributes={}), Player(player_id='453', team=..., jersey_no=20, first_name=None, last_name=None, name='Alexis Mac Allister', starting=None, starting_position=<PositionType.CenterMidfield: ('Center Midfield', 'CM', 'CentralMidfield')>, positions=<TimeContainer>, attributes={}), Player(player_id='3856', team=..., jersey_no=5, first_name=None, last_name=None, name='Leandro Paredes', starting=None, starting_position=<PositionType.DefensiveMidfield: ('Defensive Midfield', 'DM', 'Midfielder')>, positions=<TimeContainer>, attributes={}), Player(player_id='9178', team=..., jersey_no=8, first_name=None, last_name=None, name='Marcos Acuña', starting=None, starting_position=<PositionType.LeftBack: ('Left Back', 'LB', 'FullBack')>, positions=<TimeContainer>, attributes={}), Player(player_id='4590', team=..., jersey_no=14, first_name=None, last_name=None, name='Exequiel Palacios', starting=None, starting_position=<PositionType.CenterMidfield: ('Center Midfield', 'CM', 'CentralMidfield')>, positions=<TimeContainer>, attributes={}), Player(player_id='13903', team=..., jersey_no=1, first_name=None, last_name=None, name='Franco Armani', starting=None, starting_position=<PositionType.Goalkeeper: ('Goalkeeper', 'GK', None)>, positions=<TimeContainer>, attributes={}), Player(player_id='8138', team=..., jersey_no=22, first_name=None, last_name=None, name='Lautaro Martinez', starting=None, starting_position=<PositionType.Striker: ('Striker', 'ST', 'Attacker')>, positions=<TimeContainer>, attributes={}), Player(player_id='11856', team=..., jersey_no=24, first_name=None, last_name=None, name='Enzo Fernandez', starting=None, starting_position=<PositionType.CenterMidfield: ('Center Midfield', 'CM', 'CentralMidfield')>, positions=<TimeContainer>, attributes={}), Player(player_id='13226', team=..., jersey_no=6, first_name=None, last_name=None, name='German Pezzella', starting=None, starting_position=<PositionType.RightCenterBack: ('Right Center Back', 'RCB', 'CenterBack')>, positions=<TimeContainer>, attributes={}), Player(player_id='6895', team=..., jersey_no=7, first_name=None, last_name=None, name='Rodrigo de Paul', starting=None, starting_position=<PositionType.CenterMidfield: ('Center Midfield', 'CM', 'CentralMidfield')>, positions=<TimeContainer>, attributes={}), Player(player_id='3868', team=..., jersey_no=11, first_name=None, last_name=None, name='Ángel Di María', starting=None, starting_position=<PositionType.LeftWing: ('Left Wing', 'LW', 'WideMidfield')>, positions=<TimeContainer>, attributes={}), Player(player_id='68', team=..., jersey_no=2, first_name=None, last_name=None, name='Juan Foyth', starting=None, starting_position=<PositionType.RightBack: ('Right Back', 'RB', 'FullBack')>, positions=<TimeContainer>, attributes={}), Player(player_id='11', team=..., jersey_no=19, first_name=None, last_name=None, name='Nicolás Otamendi', starting=None, starting_position=<PositionType.LeftCenterBack: ('Left Center Back', 'LCB', 'CenterBack')>, positions=<TimeContainer>, attributes={}), Player(player_id='1531', team=..., jersey_no=10, first_name=None, last_name=None, name='Lionel Messi', starting=None, starting_position=<PositionType.RightWing: ('Right Wing', 'RW', 'WideMidfield')>, positions=<TimeContainer>, attributes={}), Player(player_id='8419', team=..., jersey_no=4, first_name=None, last_name=None, name='Gonzalo Montiel', starting=None, starting_position=<PositionType.RightBack: ('Right Back', 'RB', 'FullBack')>, positions=<TimeContainer>, attributes={})]), jersey_no=21, first_name=None, last_name=None, name='Paulo Dybala', starting=None, starting_position=<PositionType.Striker: ('Striker', 'ST', 'Attacker')>, positions=<TimeContainer>, attributes={}),\n",
       " Player(player_id='8025', team=Team(team_id='364', name='Argentina', ground=home, starting_formation=None, formations=<TimeContainer>, players=[Player(player_id='13222', team=..., jersey_no=26, first_name=None, last_name=None, name='Nahuel Molina', starting=None, starting_position=<PositionType.RightBack: ('Right Back', 'RB', 'FullBack')>, positions=<TimeContainer>, attributes={}), Player(player_id='8058', team=..., jersey_no=21, first_name=None, last_name=None, name='Paulo Dybala', starting=None, starting_position=<PositionType.Striker: ('Striker', 'ST', 'Attacker')>, positions=<TimeContainer>, attributes={}), ..., Player(player_id='1389', team=..., jersey_no=15, first_name=None, last_name=None, name='Angel Correa', starting=None, starting_position=<PositionType.Striker: ('Striker', 'ST', 'Attacker')>, positions=<TimeContainer>, attributes={}), Player(player_id='10715', team=..., jersey_no=9, first_name=None, last_name=None, name='Julian Alvarez', starting=None, starting_position=<PositionType.Striker: ('Striker', 'ST', 'Attacker')>, positions=<TimeContainer>, attributes={}), Player(player_id='8023', team=..., jersey_no=25, first_name=None, last_name=None, name='Lisandro Martinez', starting=None, starting_position=<PositionType.LeftCenterBack: ('Left Center Back', 'LCB', 'CenterBack')>, positions=<TimeContainer>, attributes={}), Player(player_id='1706', team=..., jersey_no=12, first_name=None, last_name=None, name='Geronimo Rulli', starting=None, starting_position=<PositionType.Goalkeeper: ('Goalkeeper', 'GK', None)>, positions=<TimeContainer>, attributes={}), Player(player_id='5116', team=..., jersey_no=13, first_name=None, last_name=None, name='Cristian Romero', starting=None, starting_position=<PositionType.RightCenterBack: ('Right Center Back', 'RCB', 'CenterBack')>, positions=<TimeContainer>, attributes={}), Player(player_id='144', team=..., jersey_no=23, first_name=None, last_name=None, name='Emiliano Martínez', starting=None, starting_position=<PositionType.Goalkeeper: ('Goalkeeper', 'GK', None)>, positions=<TimeContainer>, attributes={}), Player(player_id='1877', team=..., jersey_no=18, first_name=None, last_name=None, name='Guido Rodríguez', starting=None, starting_position=<PositionType.DefensiveMidfield: ('Defensive Midfield', 'DM', 'Midfielder')>, positions=<TimeContainer>, attributes={}), Player(player_id='8420', team=..., jersey_no=17, first_name=None, last_name=None, name='Papu Gómez', starting=None, starting_position=<PositionType.AttackingMidfield: ('Attacking Midfield', 'AM', 'Midfielder')>, positions=<TimeContainer>, attributes={}), Player(player_id='7757', team=..., jersey_no=16, first_name=None, last_name=None, name='Thiago Almada', starting=None, starting_position=<PositionType.AttackingMidfield: ('Attacking Midfield', 'AM', 'Midfielder')>, positions=<TimeContainer>, attributes={}), Player(player_id='453', team=..., jersey_no=20, first_name=None, last_name=None, name='Alexis Mac Allister', starting=None, starting_position=<PositionType.CenterMidfield: ('Center Midfield', 'CM', 'CentralMidfield')>, positions=<TimeContainer>, attributes={}), Player(player_id='3856', team=..., jersey_no=5, first_name=None, last_name=None, name='Leandro Paredes', starting=None, starting_position=<PositionType.DefensiveMidfield: ('Defensive Midfield', 'DM', 'Midfielder')>, positions=<TimeContainer>, attributes={}), Player(player_id='9178', team=..., jersey_no=8, first_name=None, last_name=None, name='Marcos Acuña', starting=None, starting_position=<PositionType.LeftBack: ('Left Back', 'LB', 'FullBack')>, positions=<TimeContainer>, attributes={}), Player(player_id='4590', team=..., jersey_no=14, first_name=None, last_name=None, name='Exequiel Palacios', starting=None, starting_position=<PositionType.CenterMidfield: ('Center Midfield', 'CM', 'CentralMidfield')>, positions=<TimeContainer>, attributes={}), Player(player_id='13903', team=..., jersey_no=1, first_name=None, last_name=None, name='Franco Armani', starting=None, starting_position=<PositionType.Goalkeeper: ('Goalkeeper', 'GK', None)>, positions=<TimeContainer>, attributes={}), Player(player_id='8138', team=..., jersey_no=22, first_name=None, last_name=None, name='Lautaro Martinez', starting=None, starting_position=<PositionType.Striker: ('Striker', 'ST', 'Attacker')>, positions=<TimeContainer>, attributes={}), Player(player_id='11856', team=..., jersey_no=24, first_name=None, last_name=None, name='Enzo Fernandez', starting=None, starting_position=<PositionType.CenterMidfield: ('Center Midfield', 'CM', 'CentralMidfield')>, positions=<TimeContainer>, attributes={}), Player(player_id='13226', team=..., jersey_no=6, first_name=None, last_name=None, name='German Pezzella', starting=None, starting_position=<PositionType.RightCenterBack: ('Right Center Back', 'RCB', 'CenterBack')>, positions=<TimeContainer>, attributes={}), Player(player_id='6895', team=..., jersey_no=7, first_name=None, last_name=None, name='Rodrigo de Paul', starting=None, starting_position=<PositionType.CenterMidfield: ('Center Midfield', 'CM', 'CentralMidfield')>, positions=<TimeContainer>, attributes={}), Player(player_id='3868', team=..., jersey_no=11, first_name=None, last_name=None, name='Ángel Di María', starting=None, starting_position=<PositionType.LeftWing: ('Left Wing', 'LW', 'WideMidfield')>, positions=<TimeContainer>, attributes={}), Player(player_id='68', team=..., jersey_no=2, first_name=None, last_name=None, name='Juan Foyth', starting=None, starting_position=<PositionType.RightBack: ('Right Back', 'RB', 'FullBack')>, positions=<TimeContainer>, attributes={}), Player(player_id='11', team=..., jersey_no=19, first_name=None, last_name=None, name='Nicolás Otamendi', starting=None, starting_position=<PositionType.LeftCenterBack: ('Left Center Back', 'LCB', 'CenterBack')>, positions=<TimeContainer>, attributes={}), Player(player_id='1531', team=..., jersey_no=10, first_name=None, last_name=None, name='Lionel Messi', starting=None, starting_position=<PositionType.RightWing: ('Right Wing', 'RW', 'WideMidfield')>, positions=<TimeContainer>, attributes={}), Player(player_id='8419', team=..., jersey_no=4, first_name=None, last_name=None, name='Gonzalo Montiel', starting=None, starting_position=<PositionType.RightBack: ('Right Back', 'RB', 'FullBack')>, positions=<TimeContainer>, attributes={})]), jersey_no=3, first_name=None, last_name=None, name='Nicolas Tagliafico', starting=None, starting_position=<PositionType.LeftBack: ('Left Back', 'LB', 'FullBack')>, positions=<TimeContainer>, attributes={}),\n",
       " Player(player_id='1389', team=Team(team_id='364', name='Argentina', ground=home, starting_formation=None, formations=<TimeContainer>, players=[Player(player_id='13222', team=..., jersey_no=26, first_name=None, last_name=None, name='Nahuel Molina', starting=None, starting_position=<PositionType.RightBack: ('Right Back', 'RB', 'FullBack')>, positions=<TimeContainer>, attributes={}), Player(player_id='8058', team=..., jersey_no=21, first_name=None, last_name=None, name='Paulo Dybala', starting=None, starting_position=<PositionType.Striker: ('Striker', 'ST', 'Attacker')>, positions=<TimeContainer>, attributes={}), Player(player_id='8025', team=..., jersey_no=3, first_name=None, last_name=None, name='Nicolas Tagliafico', starting=None, starting_position=<PositionType.LeftBack: ('Left Back', 'LB', 'FullBack')>, positions=<TimeContainer>, attributes={}), ..., Player(player_id='10715', team=..., jersey_no=9, first_name=None, last_name=None, name='Julian Alvarez', starting=None, starting_position=<PositionType.Striker: ('Striker', 'ST', 'Attacker')>, positions=<TimeContainer>, attributes={}), Player(player_id='8023', team=..., jersey_no=25, first_name=None, last_name=None, name='Lisandro Martinez', starting=None, starting_position=<PositionType.LeftCenterBack: ('Left Center Back', 'LCB', 'CenterBack')>, positions=<TimeContainer>, attributes={}), Player(player_id='1706', team=..., jersey_no=12, first_name=None, last_name=None, name='Geronimo Rulli', starting=None, starting_position=<PositionType.Goalkeeper: ('Goalkeeper', 'GK', None)>, positions=<TimeContainer>, attributes={}), Player(player_id='5116', team=..., jersey_no=13, first_name=None, last_name=None, name='Cristian Romero', starting=None, starting_position=<PositionType.RightCenterBack: ('Right Center Back', 'RCB', 'CenterBack')>, positions=<TimeContainer>, attributes={}), Player(player_id='144', team=..., jersey_no=23, first_name=None, last_name=None, name='Emiliano Martínez', starting=None, starting_position=<PositionType.Goalkeeper: ('Goalkeeper', 'GK', None)>, positions=<TimeContainer>, attributes={}), Player(player_id='1877', team=..., jersey_no=18, first_name=None, last_name=None, name='Guido Rodríguez', starting=None, starting_position=<PositionType.DefensiveMidfield: ('Defensive Midfield', 'DM', 'Midfielder')>, positions=<TimeContainer>, attributes={}), Player(player_id='8420', team=..., jersey_no=17, first_name=None, last_name=None, name='Papu Gómez', starting=None, starting_position=<PositionType.AttackingMidfield: ('Attacking Midfield', 'AM', 'Midfielder')>, positions=<TimeContainer>, attributes={}), Player(player_id='7757', team=..., jersey_no=16, first_name=None, last_name=None, name='Thiago Almada', starting=None, starting_position=<PositionType.AttackingMidfield: ('Attacking Midfield', 'AM', 'Midfielder')>, positions=<TimeContainer>, attributes={}), Player(player_id='453', team=..., jersey_no=20, first_name=None, last_name=None, name='Alexis Mac Allister', starting=None, starting_position=<PositionType.CenterMidfield: ('Center Midfield', 'CM', 'CentralMidfield')>, positions=<TimeContainer>, attributes={}), Player(player_id='3856', team=..., jersey_no=5, first_name=None, last_name=None, name='Leandro Paredes', starting=None, starting_position=<PositionType.DefensiveMidfield: ('Defensive Midfield', 'DM', 'Midfielder')>, positions=<TimeContainer>, attributes={}), Player(player_id='9178', team=..., jersey_no=8, first_name=None, last_name=None, name='Marcos Acuña', starting=None, starting_position=<PositionType.LeftBack: ('Left Back', 'LB', 'FullBack')>, positions=<TimeContainer>, attributes={}), Player(player_id='4590', team=..., jersey_no=14, first_name=None, last_name=None, name='Exequiel Palacios', starting=None, starting_position=<PositionType.CenterMidfield: ('Center Midfield', 'CM', 'CentralMidfield')>, positions=<TimeContainer>, attributes={}), Player(player_id='13903', team=..., jersey_no=1, first_name=None, last_name=None, name='Franco Armani', starting=None, starting_position=<PositionType.Goalkeeper: ('Goalkeeper', 'GK', None)>, positions=<TimeContainer>, attributes={}), Player(player_id='8138', team=..., jersey_no=22, first_name=None, last_name=None, name='Lautaro Martinez', starting=None, starting_position=<PositionType.Striker: ('Striker', 'ST', 'Attacker')>, positions=<TimeContainer>, attributes={}), Player(player_id='11856', team=..., jersey_no=24, first_name=None, last_name=None, name='Enzo Fernandez', starting=None, starting_position=<PositionType.CenterMidfield: ('Center Midfield', 'CM', 'CentralMidfield')>, positions=<TimeContainer>, attributes={}), Player(player_id='13226', team=..., jersey_no=6, first_name=None, last_name=None, name='German Pezzella', starting=None, starting_position=<PositionType.RightCenterBack: ('Right Center Back', 'RCB', 'CenterBack')>, positions=<TimeContainer>, attributes={}), Player(player_id='6895', team=..., jersey_no=7, first_name=None, last_name=None, name='Rodrigo de Paul', starting=None, starting_position=<PositionType.CenterMidfield: ('Center Midfield', 'CM', 'CentralMidfield')>, positions=<TimeContainer>, attributes={}), Player(player_id='3868', team=..., jersey_no=11, first_name=None, last_name=None, name='Ángel Di María', starting=None, starting_position=<PositionType.LeftWing: ('Left Wing', 'LW', 'WideMidfield')>, positions=<TimeContainer>, attributes={}), Player(player_id='68', team=..., jersey_no=2, first_name=None, last_name=None, name='Juan Foyth', starting=None, starting_position=<PositionType.RightBack: ('Right Back', 'RB', 'FullBack')>, positions=<TimeContainer>, attributes={}), Player(player_id='11', team=..., jersey_no=19, first_name=None, last_name=None, name='Nicolás Otamendi', starting=None, starting_position=<PositionType.LeftCenterBack: ('Left Center Back', 'LCB', 'CenterBack')>, positions=<TimeContainer>, attributes={}), Player(player_id='1531', team=..., jersey_no=10, first_name=None, last_name=None, name='Lionel Messi', starting=None, starting_position=<PositionType.RightWing: ('Right Wing', 'RW', 'WideMidfield')>, positions=<TimeContainer>, attributes={}), Player(player_id='8419', team=..., jersey_no=4, first_name=None, last_name=None, name='Gonzalo Montiel', starting=None, starting_position=<PositionType.RightBack: ('Right Back', 'RB', 'FullBack')>, positions=<TimeContainer>, attributes={})]), jersey_no=15, first_name=None, last_name=None, name='Angel Correa', starting=None, starting_position=<PositionType.Striker: ('Striker', 'ST', 'Attacker')>, positions=<TimeContainer>, attributes={}),\n",
       " Player(player_id='10715', team=Team(team_id='364', name='Argentina', ground=home, starting_formation=None, formations=<TimeContainer>, players=[Player(player_id='13222', team=..., jersey_no=26, first_name=None, last_name=None, name='Nahuel Molina', starting=None, starting_position=<PositionType.RightBack: ('Right Back', 'RB', 'FullBack')>, positions=<TimeContainer>, attributes={}), Player(player_id='8058', team=..., jersey_no=21, first_name=None, last_name=None, name='Paulo Dybala', starting=None, starting_position=<PositionType.Striker: ('Striker', 'ST', 'Attacker')>, positions=<TimeContainer>, attributes={}), Player(player_id='8025', team=..., jersey_no=3, first_name=None, last_name=None, name='Nicolas Tagliafico', starting=None, starting_position=<PositionType.LeftBack: ('Left Back', 'LB', 'FullBack')>, positions=<TimeContainer>, attributes={}), Player(player_id='1389', team=..., jersey_no=15, first_name=None, last_name=None, name='Angel Correa', starting=None, starting_position=<PositionType.Striker: ('Striker', 'ST', 'Attacker')>, positions=<TimeContainer>, attributes={}), ..., Player(player_id='8023', team=..., jersey_no=25, first_name=None, last_name=None, name='Lisandro Martinez', starting=None, starting_position=<PositionType.LeftCenterBack: ('Left Center Back', 'LCB', 'CenterBack')>, positions=<TimeContainer>, attributes={}), Player(player_id='1706', team=..., jersey_no=12, first_name=None, last_name=None, name='Geronimo Rulli', starting=None, starting_position=<PositionType.Goalkeeper: ('Goalkeeper', 'GK', None)>, positions=<TimeContainer>, attributes={}), Player(player_id='5116', team=..., jersey_no=13, first_name=None, last_name=None, name='Cristian Romero', starting=None, starting_position=<PositionType.RightCenterBack: ('Right Center Back', 'RCB', 'CenterBack')>, positions=<TimeContainer>, attributes={}), Player(player_id='144', team=..., jersey_no=23, first_name=None, last_name=None, name='Emiliano Martínez', starting=None, starting_position=<PositionType.Goalkeeper: ('Goalkeeper', 'GK', None)>, positions=<TimeContainer>, attributes={}), Player(player_id='1877', team=..., jersey_no=18, first_name=None, last_name=None, name='Guido Rodríguez', starting=None, starting_position=<PositionType.DefensiveMidfield: ('Defensive Midfield', 'DM', 'Midfielder')>, positions=<TimeContainer>, attributes={}), Player(player_id='8420', team=..., jersey_no=17, first_name=None, last_name=None, name='Papu Gómez', starting=None, starting_position=<PositionType.AttackingMidfield: ('Attacking Midfield', 'AM', 'Midfielder')>, positions=<TimeContainer>, attributes={}), Player(player_id='7757', team=..., jersey_no=16, first_name=None, last_name=None, name='Thiago Almada', starting=None, starting_position=<PositionType.AttackingMidfield: ('Attacking Midfield', 'AM', 'Midfielder')>, positions=<TimeContainer>, attributes={}), Player(player_id='453', team=..., jersey_no=20, first_name=None, last_name=None, name='Alexis Mac Allister', starting=None, starting_position=<PositionType.CenterMidfield: ('Center Midfield', 'CM', 'CentralMidfield')>, positions=<TimeContainer>, attributes={}), Player(player_id='3856', team=..., jersey_no=5, first_name=None, last_name=None, name='Leandro Paredes', starting=None, starting_position=<PositionType.DefensiveMidfield: ('Defensive Midfield', 'DM', 'Midfielder')>, positions=<TimeContainer>, attributes={}), Player(player_id='9178', team=..., jersey_no=8, first_name=None, last_name=None, name='Marcos Acuña', starting=None, starting_position=<PositionType.LeftBack: ('Left Back', 'LB', 'FullBack')>, positions=<TimeContainer>, attributes={}), Player(player_id='4590', team=..., jersey_no=14, first_name=None, last_name=None, name='Exequiel Palacios', starting=None, starting_position=<PositionType.CenterMidfield: ('Center Midfield', 'CM', 'CentralMidfield')>, positions=<TimeContainer>, attributes={}), Player(player_id='13903', team=..., jersey_no=1, first_name=None, last_name=None, name='Franco Armani', starting=None, starting_position=<PositionType.Goalkeeper: ('Goalkeeper', 'GK', None)>, positions=<TimeContainer>, attributes={}), Player(player_id='8138', team=..., jersey_no=22, first_name=None, last_name=None, name='Lautaro Martinez', starting=None, starting_position=<PositionType.Striker: ('Striker', 'ST', 'Attacker')>, positions=<TimeContainer>, attributes={}), Player(player_id='11856', team=..., jersey_no=24, first_name=None, last_name=None, name='Enzo Fernandez', starting=None, starting_position=<PositionType.CenterMidfield: ('Center Midfield', 'CM', 'CentralMidfield')>, positions=<TimeContainer>, attributes={}), Player(player_id='13226', team=..., jersey_no=6, first_name=None, last_name=None, name='German Pezzella', starting=None, starting_position=<PositionType.RightCenterBack: ('Right Center Back', 'RCB', 'CenterBack')>, positions=<TimeContainer>, attributes={}), Player(player_id='6895', team=..., jersey_no=7, first_name=None, last_name=None, name='Rodrigo de Paul', starting=None, starting_position=<PositionType.CenterMidfield: ('Center Midfield', 'CM', 'CentralMidfield')>, positions=<TimeContainer>, attributes={}), Player(player_id='3868', team=..., jersey_no=11, first_name=None, last_name=None, name='Ángel Di María', starting=None, starting_position=<PositionType.LeftWing: ('Left Wing', 'LW', 'WideMidfield')>, positions=<TimeContainer>, attributes={}), Player(player_id='68', team=..., jersey_no=2, first_name=None, last_name=None, name='Juan Foyth', starting=None, starting_position=<PositionType.RightBack: ('Right Back', 'RB', 'FullBack')>, positions=<TimeContainer>, attributes={}), Player(player_id='11', team=..., jersey_no=19, first_name=None, last_name=None, name='Nicolás Otamendi', starting=None, starting_position=<PositionType.LeftCenterBack: ('Left Center Back', 'LCB', 'CenterBack')>, positions=<TimeContainer>, attributes={}), Player(player_id='1531', team=..., jersey_no=10, first_name=None, last_name=None, name='Lionel Messi', starting=None, starting_position=<PositionType.RightWing: ('Right Wing', 'RW', 'WideMidfield')>, positions=<TimeContainer>, attributes={}), Player(player_id='8419', team=..., jersey_no=4, first_name=None, last_name=None, name='Gonzalo Montiel', starting=None, starting_position=<PositionType.RightBack: ('Right Back', 'RB', 'FullBack')>, positions=<TimeContainer>, attributes={})]), jersey_no=9, first_name=None, last_name=None, name='Julian Alvarez', starting=None, starting_position=<PositionType.Striker: ('Striker', 'ST', 'Attacker')>, positions=<TimeContainer>, attributes={}),\n",
       " Player(player_id='8023', team=Team(team_id='364', name='Argentina', ground=home, starting_formation=None, formations=<TimeContainer>, players=[Player(player_id='13222', team=..., jersey_no=26, first_name=None, last_name=None, name='Nahuel Molina', starting=None, starting_position=<PositionType.RightBack: ('Right Back', 'RB', 'FullBack')>, positions=<TimeContainer>, attributes={}), Player(player_id='8058', team=..., jersey_no=21, first_name=None, last_name=None, name='Paulo Dybala', starting=None, starting_position=<PositionType.Striker: ('Striker', 'ST', 'Attacker')>, positions=<TimeContainer>, attributes={}), Player(player_id='8025', team=..., jersey_no=3, first_name=None, last_name=None, name='Nicolas Tagliafico', starting=None, starting_position=<PositionType.LeftBack: ('Left Back', 'LB', 'FullBack')>, positions=<TimeContainer>, attributes={}), Player(player_id='1389', team=..., jersey_no=15, first_name=None, last_name=None, name='Angel Correa', starting=None, starting_position=<PositionType.Striker: ('Striker', 'ST', 'Attacker')>, positions=<TimeContainer>, attributes={}), Player(player_id='10715', team=..., jersey_no=9, first_name=None, last_name=None, name='Julian Alvarez', starting=None, starting_position=<PositionType.Striker: ('Striker', 'ST', 'Attacker')>, positions=<TimeContainer>, attributes={}), ..., Player(player_id='1706', team=..., jersey_no=12, first_name=None, last_name=None, name='Geronimo Rulli', starting=None, starting_position=<PositionType.Goalkeeper: ('Goalkeeper', 'GK', None)>, positions=<TimeContainer>, attributes={}), Player(player_id='5116', team=..., jersey_no=13, first_name=None, last_name=None, name='Cristian Romero', starting=None, starting_position=<PositionType.RightCenterBack: ('Right Center Back', 'RCB', 'CenterBack')>, positions=<TimeContainer>, attributes={}), Player(player_id='144', team=..., jersey_no=23, first_name=None, last_name=None, name='Emiliano Martínez', starting=None, starting_position=<PositionType.Goalkeeper: ('Goalkeeper', 'GK', None)>, positions=<TimeContainer>, attributes={}), Player(player_id='1877', team=..., jersey_no=18, first_name=None, last_name=None, name='Guido Rodríguez', starting=None, starting_position=<PositionType.DefensiveMidfield: ('Defensive Midfield', 'DM', 'Midfielder')>, positions=<TimeContainer>, attributes={}), Player(player_id='8420', team=..., jersey_no=17, first_name=None, last_name=None, name='Papu Gómez', starting=None, starting_position=<PositionType.AttackingMidfield: ('Attacking Midfield', 'AM', 'Midfielder')>, positions=<TimeContainer>, attributes={}), Player(player_id='7757', team=..., jersey_no=16, first_name=None, last_name=None, name='Thiago Almada', starting=None, starting_position=<PositionType.AttackingMidfield: ('Attacking Midfield', 'AM', 'Midfielder')>, positions=<TimeContainer>, attributes={}), Player(player_id='453', team=..., jersey_no=20, first_name=None, last_name=None, name='Alexis Mac Allister', starting=None, starting_position=<PositionType.CenterMidfield: ('Center Midfield', 'CM', 'CentralMidfield')>, positions=<TimeContainer>, attributes={}), Player(player_id='3856', team=..., jersey_no=5, first_name=None, last_name=None, name='Leandro Paredes', starting=None, starting_position=<PositionType.DefensiveMidfield: ('Defensive Midfield', 'DM', 'Midfielder')>, positions=<TimeContainer>, attributes={}), Player(player_id='9178', team=..., jersey_no=8, first_name=None, last_name=None, name='Marcos Acuña', starting=None, starting_position=<PositionType.LeftBack: ('Left Back', 'LB', 'FullBack')>, positions=<TimeContainer>, attributes={}), Player(player_id='4590', team=..., jersey_no=14, first_name=None, last_name=None, name='Exequiel Palacios', starting=None, starting_position=<PositionType.CenterMidfield: ('Center Midfield', 'CM', 'CentralMidfield')>, positions=<TimeContainer>, attributes={}), Player(player_id='13903', team=..., jersey_no=1, first_name=None, last_name=None, name='Franco Armani', starting=None, starting_position=<PositionType.Goalkeeper: ('Goalkeeper', 'GK', None)>, positions=<TimeContainer>, attributes={}), Player(player_id='8138', team=..., jersey_no=22, first_name=None, last_name=None, name='Lautaro Martinez', starting=None, starting_position=<PositionType.Striker: ('Striker', 'ST', 'Attacker')>, positions=<TimeContainer>, attributes={}), Player(player_id='11856', team=..., jersey_no=24, first_name=None, last_name=None, name='Enzo Fernandez', starting=None, starting_position=<PositionType.CenterMidfield: ('Center Midfield', 'CM', 'CentralMidfield')>, positions=<TimeContainer>, attributes={}), Player(player_id='13226', team=..., jersey_no=6, first_name=None, last_name=None, name='German Pezzella', starting=None, starting_position=<PositionType.RightCenterBack: ('Right Center Back', 'RCB', 'CenterBack')>, positions=<TimeContainer>, attributes={}), Player(player_id='6895', team=..., jersey_no=7, first_name=None, last_name=None, name='Rodrigo de Paul', starting=None, starting_position=<PositionType.CenterMidfield: ('Center Midfield', 'CM', 'CentralMidfield')>, positions=<TimeContainer>, attributes={}), Player(player_id='3868', team=..., jersey_no=11, first_name=None, last_name=None, name='Ángel Di María', starting=None, starting_position=<PositionType.LeftWing: ('Left Wing', 'LW', 'WideMidfield')>, positions=<TimeContainer>, attributes={}), Player(player_id='68', team=..., jersey_no=2, first_name=None, last_name=None, name='Juan Foyth', starting=None, starting_position=<PositionType.RightBack: ('Right Back', 'RB', 'FullBack')>, positions=<TimeContainer>, attributes={}), Player(player_id='11', team=..., jersey_no=19, first_name=None, last_name=None, name='Nicolás Otamendi', starting=None, starting_position=<PositionType.LeftCenterBack: ('Left Center Back', 'LCB', 'CenterBack')>, positions=<TimeContainer>, attributes={}), Player(player_id='1531', team=..., jersey_no=10, first_name=None, last_name=None, name='Lionel Messi', starting=None, starting_position=<PositionType.RightWing: ('Right Wing', 'RW', 'WideMidfield')>, positions=<TimeContainer>, attributes={}), Player(player_id='8419', team=..., jersey_no=4, first_name=None, last_name=None, name='Gonzalo Montiel', starting=None, starting_position=<PositionType.RightBack: ('Right Back', 'RB', 'FullBack')>, positions=<TimeContainer>, attributes={})]), jersey_no=25, first_name=None, last_name=None, name='Lisandro Martinez', starting=None, starting_position=<PositionType.LeftCenterBack: ('Left Center Back', 'LCB', 'CenterBack')>, positions=<TimeContainer>, attributes={}),\n",
       " Player(player_id='1706', team=Team(team_id='364', name='Argentina', ground=home, starting_formation=None, formations=<TimeContainer>, players=[Player(player_id='13222', team=..., jersey_no=26, first_name=None, last_name=None, name='Nahuel Molina', starting=None, starting_position=<PositionType.RightBack: ('Right Back', 'RB', 'FullBack')>, positions=<TimeContainer>, attributes={}), Player(player_id='8058', team=..., jersey_no=21, first_name=None, last_name=None, name='Paulo Dybala', starting=None, starting_position=<PositionType.Striker: ('Striker', 'ST', 'Attacker')>, positions=<TimeContainer>, attributes={}), Player(player_id='8025', team=..., jersey_no=3, first_name=None, last_name=None, name='Nicolas Tagliafico', starting=None, starting_position=<PositionType.LeftBack: ('Left Back', 'LB', 'FullBack')>, positions=<TimeContainer>, attributes={}), Player(player_id='1389', team=..., jersey_no=15, first_name=None, last_name=None, name='Angel Correa', starting=None, starting_position=<PositionType.Striker: ('Striker', 'ST', 'Attacker')>, positions=<TimeContainer>, attributes={}), Player(player_id='10715', team=..., jersey_no=9, first_name=None, last_name=None, name='Julian Alvarez', starting=None, starting_position=<PositionType.Striker: ('Striker', 'ST', 'Attacker')>, positions=<TimeContainer>, attributes={}), Player(player_id='8023', team=..., jersey_no=25, first_name=None, last_name=None, name='Lisandro Martinez', starting=None, starting_position=<PositionType.LeftCenterBack: ('Left Center Back', 'LCB', 'CenterBack')>, positions=<TimeContainer>, attributes={}), ..., Player(player_id='5116', team=..., jersey_no=13, first_name=None, last_name=None, name='Cristian Romero', starting=None, starting_position=<PositionType.RightCenterBack: ('Right Center Back', 'RCB', 'CenterBack')>, positions=<TimeContainer>, attributes={}), Player(player_id='144', team=..., jersey_no=23, first_name=None, last_name=None, name='Emiliano Martínez', starting=None, starting_position=<PositionType.Goalkeeper: ('Goalkeeper', 'GK', None)>, positions=<TimeContainer>, attributes={}), Player(player_id='1877', team=..., jersey_no=18, first_name=None, last_name=None, name='Guido Rodríguez', starting=None, starting_position=<PositionType.DefensiveMidfield: ('Defensive Midfield', 'DM', 'Midfielder')>, positions=<TimeContainer>, attributes={}), Player(player_id='8420', team=..., jersey_no=17, first_name=None, last_name=None, name='Papu Gómez', starting=None, starting_position=<PositionType.AttackingMidfield: ('Attacking Midfield', 'AM', 'Midfielder')>, positions=<TimeContainer>, attributes={}), Player(player_id='7757', team=..., jersey_no=16, first_name=None, last_name=None, name='Thiago Almada', starting=None, starting_position=<PositionType.AttackingMidfield: ('Attacking Midfield', 'AM', 'Midfielder')>, positions=<TimeContainer>, attributes={}), Player(player_id='453', team=..., jersey_no=20, first_name=None, last_name=None, name='Alexis Mac Allister', starting=None, starting_position=<PositionType.CenterMidfield: ('Center Midfield', 'CM', 'CentralMidfield')>, positions=<TimeContainer>, attributes={}), Player(player_id='3856', team=..., jersey_no=5, first_name=None, last_name=None, name='Leandro Paredes', starting=None, starting_position=<PositionType.DefensiveMidfield: ('Defensive Midfield', 'DM', 'Midfielder')>, positions=<TimeContainer>, attributes={}), Player(player_id='9178', team=..., jersey_no=8, first_name=None, last_name=None, name='Marcos Acuña', starting=None, starting_position=<PositionType.LeftBack: ('Left Back', 'LB', 'FullBack')>, positions=<TimeContainer>, attributes={}), Player(player_id='4590', team=..., jersey_no=14, first_name=None, last_name=None, name='Exequiel Palacios', starting=None, starting_position=<PositionType.CenterMidfield: ('Center Midfield', 'CM', 'CentralMidfield')>, positions=<TimeContainer>, attributes={}), Player(player_id='13903', team=..., jersey_no=1, first_name=None, last_name=None, name='Franco Armani', starting=None, starting_position=<PositionType.Goalkeeper: ('Goalkeeper', 'GK', None)>, positions=<TimeContainer>, attributes={}), Player(player_id='8138', team=..., jersey_no=22, first_name=None, last_name=None, name='Lautaro Martinez', starting=None, starting_position=<PositionType.Striker: ('Striker', 'ST', 'Attacker')>, positions=<TimeContainer>, attributes={}), Player(player_id='11856', team=..., jersey_no=24, first_name=None, last_name=None, name='Enzo Fernandez', starting=None, starting_position=<PositionType.CenterMidfield: ('Center Midfield', 'CM', 'CentralMidfield')>, positions=<TimeContainer>, attributes={}), Player(player_id='13226', team=..., jersey_no=6, first_name=None, last_name=None, name='German Pezzella', starting=None, starting_position=<PositionType.RightCenterBack: ('Right Center Back', 'RCB', 'CenterBack')>, positions=<TimeContainer>, attributes={}), Player(player_id='6895', team=..., jersey_no=7, first_name=None, last_name=None, name='Rodrigo de Paul', starting=None, starting_position=<PositionType.CenterMidfield: ('Center Midfield', 'CM', 'CentralMidfield')>, positions=<TimeContainer>, attributes={}), Player(player_id='3868', team=..., jersey_no=11, first_name=None, last_name=None, name='Ángel Di María', starting=None, starting_position=<PositionType.LeftWing: ('Left Wing', 'LW', 'WideMidfield')>, positions=<TimeContainer>, attributes={}), Player(player_id='68', team=..., jersey_no=2, first_name=None, last_name=None, name='Juan Foyth', starting=None, starting_position=<PositionType.RightBack: ('Right Back', 'RB', 'FullBack')>, positions=<TimeContainer>, attributes={}), Player(player_id='11', team=..., jersey_no=19, first_name=None, last_name=None, name='Nicolás Otamendi', starting=None, starting_position=<PositionType.LeftCenterBack: ('Left Center Back', 'LCB', 'CenterBack')>, positions=<TimeContainer>, attributes={}), Player(player_id='1531', team=..., jersey_no=10, first_name=None, last_name=None, name='Lionel Messi', starting=None, starting_position=<PositionType.RightWing: ('Right Wing', 'RW', 'WideMidfield')>, positions=<TimeContainer>, attributes={}), Player(player_id='8419', team=..., jersey_no=4, first_name=None, last_name=None, name='Gonzalo Montiel', starting=None, starting_position=<PositionType.RightBack: ('Right Back', 'RB', 'FullBack')>, positions=<TimeContainer>, attributes={})]), jersey_no=12, first_name=None, last_name=None, name='Geronimo Rulli', starting=None, starting_position=<PositionType.Goalkeeper: ('Goalkeeper', 'GK', None)>, positions=<TimeContainer>, attributes={}),\n",
       " Player(player_id='5116', team=Team(team_id='364', name='Argentina', ground=home, starting_formation=None, formations=<TimeContainer>, players=[Player(player_id='13222', team=..., jersey_no=26, first_name=None, last_name=None, name='Nahuel Molina', starting=None, starting_position=<PositionType.RightBack: ('Right Back', 'RB', 'FullBack')>, positions=<TimeContainer>, attributes={}), Player(player_id='8058', team=..., jersey_no=21, first_name=None, last_name=None, name='Paulo Dybala', starting=None, starting_position=<PositionType.Striker: ('Striker', 'ST', 'Attacker')>, positions=<TimeContainer>, attributes={}), Player(player_id='8025', team=..., jersey_no=3, first_name=None, last_name=None, name='Nicolas Tagliafico', starting=None, starting_position=<PositionType.LeftBack: ('Left Back', 'LB', 'FullBack')>, positions=<TimeContainer>, attributes={}), Player(player_id='1389', team=..., jersey_no=15, first_name=None, last_name=None, name='Angel Correa', starting=None, starting_position=<PositionType.Striker: ('Striker', 'ST', 'Attacker')>, positions=<TimeContainer>, attributes={}), Player(player_id='10715', team=..., jersey_no=9, first_name=None, last_name=None, name='Julian Alvarez', starting=None, starting_position=<PositionType.Striker: ('Striker', 'ST', 'Attacker')>, positions=<TimeContainer>, attributes={}), Player(player_id='8023', team=..., jersey_no=25, first_name=None, last_name=None, name='Lisandro Martinez', starting=None, starting_position=<PositionType.LeftCenterBack: ('Left Center Back', 'LCB', 'CenterBack')>, positions=<TimeContainer>, attributes={}), Player(player_id='1706', team=..., jersey_no=12, first_name=None, last_name=None, name='Geronimo Rulli', starting=None, starting_position=<PositionType.Goalkeeper: ('Goalkeeper', 'GK', None)>, positions=<TimeContainer>, attributes={}), ..., Player(player_id='144', team=..., jersey_no=23, first_name=None, last_name=None, name='Emiliano Martínez', starting=None, starting_position=<PositionType.Goalkeeper: ('Goalkeeper', 'GK', None)>, positions=<TimeContainer>, attributes={}), Player(player_id='1877', team=..., jersey_no=18, first_name=None, last_name=None, name='Guido Rodríguez', starting=None, starting_position=<PositionType.DefensiveMidfield: ('Defensive Midfield', 'DM', 'Midfielder')>, positions=<TimeContainer>, attributes={}), Player(player_id='8420', team=..., jersey_no=17, first_name=None, last_name=None, name='Papu Gómez', starting=None, starting_position=<PositionType.AttackingMidfield: ('Attacking Midfield', 'AM', 'Midfielder')>, positions=<TimeContainer>, attributes={}), Player(player_id='7757', team=..., jersey_no=16, first_name=None, last_name=None, name='Thiago Almada', starting=None, starting_position=<PositionType.AttackingMidfield: ('Attacking Midfield', 'AM', 'Midfielder')>, positions=<TimeContainer>, attributes={}), Player(player_id='453', team=..., jersey_no=20, first_name=None, last_name=None, name='Alexis Mac Allister', starting=None, starting_position=<PositionType.CenterMidfield: ('Center Midfield', 'CM', 'CentralMidfield')>, positions=<TimeContainer>, attributes={}), Player(player_id='3856', team=..., jersey_no=5, first_name=None, last_name=None, name='Leandro Paredes', starting=None, starting_position=<PositionType.DefensiveMidfield: ('Defensive Midfield', 'DM', 'Midfielder')>, positions=<TimeContainer>, attributes={}), Player(player_id='9178', team=..., jersey_no=8, first_name=None, last_name=None, name='Marcos Acuña', starting=None, starting_position=<PositionType.LeftBack: ('Left Back', 'LB', 'FullBack')>, positions=<TimeContainer>, attributes={}), Player(player_id='4590', team=..., jersey_no=14, first_name=None, last_name=None, name='Exequiel Palacios', starting=None, starting_position=<PositionType.CenterMidfield: ('Center Midfield', 'CM', 'CentralMidfield')>, positions=<TimeContainer>, attributes={}), Player(player_id='13903', team=..., jersey_no=1, first_name=None, last_name=None, name='Franco Armani', starting=None, starting_position=<PositionType.Goalkeeper: ('Goalkeeper', 'GK', None)>, positions=<TimeContainer>, attributes={}), Player(player_id='8138', team=..., jersey_no=22, first_name=None, last_name=None, name='Lautaro Martinez', starting=None, starting_position=<PositionType.Striker: ('Striker', 'ST', 'Attacker')>, positions=<TimeContainer>, attributes={}), Player(player_id='11856', team=..., jersey_no=24, first_name=None, last_name=None, name='Enzo Fernandez', starting=None, starting_position=<PositionType.CenterMidfield: ('Center Midfield', 'CM', 'CentralMidfield')>, positions=<TimeContainer>, attributes={}), Player(player_id='13226', team=..., jersey_no=6, first_name=None, last_name=None, name='German Pezzella', starting=None, starting_position=<PositionType.RightCenterBack: ('Right Center Back', 'RCB', 'CenterBack')>, positions=<TimeContainer>, attributes={}), Player(player_id='6895', team=..., jersey_no=7, first_name=None, last_name=None, name='Rodrigo de Paul', starting=None, starting_position=<PositionType.CenterMidfield: ('Center Midfield', 'CM', 'CentralMidfield')>, positions=<TimeContainer>, attributes={}), Player(player_id='3868', team=..., jersey_no=11, first_name=None, last_name=None, name='Ángel Di María', starting=None, starting_position=<PositionType.LeftWing: ('Left Wing', 'LW', 'WideMidfield')>, positions=<TimeContainer>, attributes={}), Player(player_id='68', team=..., jersey_no=2, first_name=None, last_name=None, name='Juan Foyth', starting=None, starting_position=<PositionType.RightBack: ('Right Back', 'RB', 'FullBack')>, positions=<TimeContainer>, attributes={}), Player(player_id='11', team=..., jersey_no=19, first_name=None, last_name=None, name='Nicolás Otamendi', starting=None, starting_position=<PositionType.LeftCenterBack: ('Left Center Back', 'LCB', 'CenterBack')>, positions=<TimeContainer>, attributes={}), Player(player_id='1531', team=..., jersey_no=10, first_name=None, last_name=None, name='Lionel Messi', starting=None, starting_position=<PositionType.RightWing: ('Right Wing', 'RW', 'WideMidfield')>, positions=<TimeContainer>, attributes={}), Player(player_id='8419', team=..., jersey_no=4, first_name=None, last_name=None, name='Gonzalo Montiel', starting=None, starting_position=<PositionType.RightBack: ('Right Back', 'RB', 'FullBack')>, positions=<TimeContainer>, attributes={})]), jersey_no=13, first_name=None, last_name=None, name='Cristian Romero', starting=None, starting_position=<PositionType.RightCenterBack: ('Right Center Back', 'RCB', 'CenterBack')>, positions=<TimeContainer>, attributes={}),\n",
       " Player(player_id='144', team=Team(team_id='364', name='Argentina', ground=home, starting_formation=None, formations=<TimeContainer>, players=[Player(player_id='13222', team=..., jersey_no=26, first_name=None, last_name=None, name='Nahuel Molina', starting=None, starting_position=<PositionType.RightBack: ('Right Back', 'RB', 'FullBack')>, positions=<TimeContainer>, attributes={}), Player(player_id='8058', team=..., jersey_no=21, first_name=None, last_name=None, name='Paulo Dybala', starting=None, starting_position=<PositionType.Striker: ('Striker', 'ST', 'Attacker')>, positions=<TimeContainer>, attributes={}), Player(player_id='8025', team=..., jersey_no=3, first_name=None, last_name=None, name='Nicolas Tagliafico', starting=None, starting_position=<PositionType.LeftBack: ('Left Back', 'LB', 'FullBack')>, positions=<TimeContainer>, attributes={}), Player(player_id='1389', team=..., jersey_no=15, first_name=None, last_name=None, name='Angel Correa', starting=None, starting_position=<PositionType.Striker: ('Striker', 'ST', 'Attacker')>, positions=<TimeContainer>, attributes={}), Player(player_id='10715', team=..., jersey_no=9, first_name=None, last_name=None, name='Julian Alvarez', starting=None, starting_position=<PositionType.Striker: ('Striker', 'ST', 'Attacker')>, positions=<TimeContainer>, attributes={}), Player(player_id='8023', team=..., jersey_no=25, first_name=None, last_name=None, name='Lisandro Martinez', starting=None, starting_position=<PositionType.LeftCenterBack: ('Left Center Back', 'LCB', 'CenterBack')>, positions=<TimeContainer>, attributes={}), Player(player_id='1706', team=..., jersey_no=12, first_name=None, last_name=None, name='Geronimo Rulli', starting=None, starting_position=<PositionType.Goalkeeper: ('Goalkeeper', 'GK', None)>, positions=<TimeContainer>, attributes={}), Player(player_id='5116', team=..., jersey_no=13, first_name=None, last_name=None, name='Cristian Romero', starting=None, starting_position=<PositionType.RightCenterBack: ('Right Center Back', 'RCB', 'CenterBack')>, positions=<TimeContainer>, attributes={}), ..., Player(player_id='1877', team=..., jersey_no=18, first_name=None, last_name=None, name='Guido Rodríguez', starting=None, starting_position=<PositionType.DefensiveMidfield: ('Defensive Midfield', 'DM', 'Midfielder')>, positions=<TimeContainer>, attributes={}), Player(player_id='8420', team=..., jersey_no=17, first_name=None, last_name=None, name='Papu Gómez', starting=None, starting_position=<PositionType.AttackingMidfield: ('Attacking Midfield', 'AM', 'Midfielder')>, positions=<TimeContainer>, attributes={}), Player(player_id='7757', team=..., jersey_no=16, first_name=None, last_name=None, name='Thiago Almada', starting=None, starting_position=<PositionType.AttackingMidfield: ('Attacking Midfield', 'AM', 'Midfielder')>, positions=<TimeContainer>, attributes={}), Player(player_id='453', team=..., jersey_no=20, first_name=None, last_name=None, name='Alexis Mac Allister', starting=None, starting_position=<PositionType.CenterMidfield: ('Center Midfield', 'CM', 'CentralMidfield')>, positions=<TimeContainer>, attributes={}), Player(player_id='3856', team=..., jersey_no=5, first_name=None, last_name=None, name='Leandro Paredes', starting=None, starting_position=<PositionType.DefensiveMidfield: ('Defensive Midfield', 'DM', 'Midfielder')>, positions=<TimeContainer>, attributes={}), Player(player_id='9178', team=..., jersey_no=8, first_name=None, last_name=None, name='Marcos Acuña', starting=None, starting_position=<PositionType.LeftBack: ('Left Back', 'LB', 'FullBack')>, positions=<TimeContainer>, attributes={}), Player(player_id='4590', team=..., jersey_no=14, first_name=None, last_name=None, name='Exequiel Palacios', starting=None, starting_position=<PositionType.CenterMidfield: ('Center Midfield', 'CM', 'CentralMidfield')>, positions=<TimeContainer>, attributes={}), Player(player_id='13903', team=..., jersey_no=1, first_name=None, last_name=None, name='Franco Armani', starting=None, starting_position=<PositionType.Goalkeeper: ('Goalkeeper', 'GK', None)>, positions=<TimeContainer>, attributes={}), Player(player_id='8138', team=..., jersey_no=22, first_name=None, last_name=None, name='Lautaro Martinez', starting=None, starting_position=<PositionType.Striker: ('Striker', 'ST', 'Attacker')>, positions=<TimeContainer>, attributes={}), Player(player_id='11856', team=..., jersey_no=24, first_name=None, last_name=None, name='Enzo Fernandez', starting=None, starting_position=<PositionType.CenterMidfield: ('Center Midfield', 'CM', 'CentralMidfield')>, positions=<TimeContainer>, attributes={}), Player(player_id='13226', team=..., jersey_no=6, first_name=None, last_name=None, name='German Pezzella', starting=None, starting_position=<PositionType.RightCenterBack: ('Right Center Back', 'RCB', 'CenterBack')>, positions=<TimeContainer>, attributes={}), Player(player_id='6895', team=..., jersey_no=7, first_name=None, last_name=None, name='Rodrigo de Paul', starting=None, starting_position=<PositionType.CenterMidfield: ('Center Midfield', 'CM', 'CentralMidfield')>, positions=<TimeContainer>, attributes={}), Player(player_id='3868', team=..., jersey_no=11, first_name=None, last_name=None, name='Ángel Di María', starting=None, starting_position=<PositionType.LeftWing: ('Left Wing', 'LW', 'WideMidfield')>, positions=<TimeContainer>, attributes={}), Player(player_id='68', team=..., jersey_no=2, first_name=None, last_name=None, name='Juan Foyth', starting=None, starting_position=<PositionType.RightBack: ('Right Back', 'RB', 'FullBack')>, positions=<TimeContainer>, attributes={}), Player(player_id='11', team=..., jersey_no=19, first_name=None, last_name=None, name='Nicolás Otamendi', starting=None, starting_position=<PositionType.LeftCenterBack: ('Left Center Back', 'LCB', 'CenterBack')>, positions=<TimeContainer>, attributes={}), Player(player_id='1531', team=..., jersey_no=10, first_name=None, last_name=None, name='Lionel Messi', starting=None, starting_position=<PositionType.RightWing: ('Right Wing', 'RW', 'WideMidfield')>, positions=<TimeContainer>, attributes={}), Player(player_id='8419', team=..., jersey_no=4, first_name=None, last_name=None, name='Gonzalo Montiel', starting=None, starting_position=<PositionType.RightBack: ('Right Back', 'RB', 'FullBack')>, positions=<TimeContainer>, attributes={})]), jersey_no=23, first_name=None, last_name=None, name='Emiliano Martínez', starting=None, starting_position=<PositionType.Goalkeeper: ('Goalkeeper', 'GK', None)>, positions=<TimeContainer>, attributes={}),\n",
       " Player(player_id='1877', team=Team(team_id='364', name='Argentina', ground=home, starting_formation=None, formations=<TimeContainer>, players=[Player(player_id='13222', team=..., jersey_no=26, first_name=None, last_name=None, name='Nahuel Molina', starting=None, starting_position=<PositionType.RightBack: ('Right Back', 'RB', 'FullBack')>, positions=<TimeContainer>, attributes={}), Player(player_id='8058', team=..., jersey_no=21, first_name=None, last_name=None, name='Paulo Dybala', starting=None, starting_position=<PositionType.Striker: ('Striker', 'ST', 'Attacker')>, positions=<TimeContainer>, attributes={}), Player(player_id='8025', team=..., jersey_no=3, first_name=None, last_name=None, name='Nicolas Tagliafico', starting=None, starting_position=<PositionType.LeftBack: ('Left Back', 'LB', 'FullBack')>, positions=<TimeContainer>, attributes={}), Player(player_id='1389', team=..., jersey_no=15, first_name=None, last_name=None, name='Angel Correa', starting=None, starting_position=<PositionType.Striker: ('Striker', 'ST', 'Attacker')>, positions=<TimeContainer>, attributes={}), Player(player_id='10715', team=..., jersey_no=9, first_name=None, last_name=None, name='Julian Alvarez', starting=None, starting_position=<PositionType.Striker: ('Striker', 'ST', 'Attacker')>, positions=<TimeContainer>, attributes={}), Player(player_id='8023', team=..., jersey_no=25, first_name=None, last_name=None, name='Lisandro Martinez', starting=None, starting_position=<PositionType.LeftCenterBack: ('Left Center Back', 'LCB', 'CenterBack')>, positions=<TimeContainer>, attributes={}), Player(player_id='1706', team=..., jersey_no=12, first_name=None, last_name=None, name='Geronimo Rulli', starting=None, starting_position=<PositionType.Goalkeeper: ('Goalkeeper', 'GK', None)>, positions=<TimeContainer>, attributes={}), Player(player_id='5116', team=..., jersey_no=13, first_name=None, last_name=None, name='Cristian Romero', starting=None, starting_position=<PositionType.RightCenterBack: ('Right Center Back', 'RCB', 'CenterBack')>, positions=<TimeContainer>, attributes={}), Player(player_id='144', team=..., jersey_no=23, first_name=None, last_name=None, name='Emiliano Martínez', starting=None, starting_position=<PositionType.Goalkeeper: ('Goalkeeper', 'GK', None)>, positions=<TimeContainer>, attributes={}), ..., Player(player_id='8420', team=..., jersey_no=17, first_name=None, last_name=None, name='Papu Gómez', starting=None, starting_position=<PositionType.AttackingMidfield: ('Attacking Midfield', 'AM', 'Midfielder')>, positions=<TimeContainer>, attributes={}), Player(player_id='7757', team=..., jersey_no=16, first_name=None, last_name=None, name='Thiago Almada', starting=None, starting_position=<PositionType.AttackingMidfield: ('Attacking Midfield', 'AM', 'Midfielder')>, positions=<TimeContainer>, attributes={}), Player(player_id='453', team=..., jersey_no=20, first_name=None, last_name=None, name='Alexis Mac Allister', starting=None, starting_position=<PositionType.CenterMidfield: ('Center Midfield', 'CM', 'CentralMidfield')>, positions=<TimeContainer>, attributes={}), Player(player_id='3856', team=..., jersey_no=5, first_name=None, last_name=None, name='Leandro Paredes', starting=None, starting_position=<PositionType.DefensiveMidfield: ('Defensive Midfield', 'DM', 'Midfielder')>, positions=<TimeContainer>, attributes={}), Player(player_id='9178', team=..., jersey_no=8, first_name=None, last_name=None, name='Marcos Acuña', starting=None, starting_position=<PositionType.LeftBack: ('Left Back', 'LB', 'FullBack')>, positions=<TimeContainer>, attributes={}), Player(player_id='4590', team=..., jersey_no=14, first_name=None, last_name=None, name='Exequiel Palacios', starting=None, starting_position=<PositionType.CenterMidfield: ('Center Midfield', 'CM', 'CentralMidfield')>, positions=<TimeContainer>, attributes={}), Player(player_id='13903', team=..., jersey_no=1, first_name=None, last_name=None, name='Franco Armani', starting=None, starting_position=<PositionType.Goalkeeper: ('Goalkeeper', 'GK', None)>, positions=<TimeContainer>, attributes={}), Player(player_id='8138', team=..., jersey_no=22, first_name=None, last_name=None, name='Lautaro Martinez', starting=None, starting_position=<PositionType.Striker: ('Striker', 'ST', 'Attacker')>, positions=<TimeContainer>, attributes={}), Player(player_id='11856', team=..., jersey_no=24, first_name=None, last_name=None, name='Enzo Fernandez', starting=None, starting_position=<PositionType.CenterMidfield: ('Center Midfield', 'CM', 'CentralMidfield')>, positions=<TimeContainer>, attributes={}), Player(player_id='13226', team=..., jersey_no=6, first_name=None, last_name=None, name='German Pezzella', starting=None, starting_position=<PositionType.RightCenterBack: ('Right Center Back', 'RCB', 'CenterBack')>, positions=<TimeContainer>, attributes={}), Player(player_id='6895', team=..., jersey_no=7, first_name=None, last_name=None, name='Rodrigo de Paul', starting=None, starting_position=<PositionType.CenterMidfield: ('Center Midfield', 'CM', 'CentralMidfield')>, positions=<TimeContainer>, attributes={}), Player(player_id='3868', team=..., jersey_no=11, first_name=None, last_name=None, name='Ángel Di María', starting=None, starting_position=<PositionType.LeftWing: ('Left Wing', 'LW', 'WideMidfield')>, positions=<TimeContainer>, attributes={}), Player(player_id='68', team=..., jersey_no=2, first_name=None, last_name=None, name='Juan Foyth', starting=None, starting_position=<PositionType.RightBack: ('Right Back', 'RB', 'FullBack')>, positions=<TimeContainer>, attributes={}), Player(player_id='11', team=..., jersey_no=19, first_name=None, last_name=None, name='Nicolás Otamendi', starting=None, starting_position=<PositionType.LeftCenterBack: ('Left Center Back', 'LCB', 'CenterBack')>, positions=<TimeContainer>, attributes={}), Player(player_id='1531', team=..., jersey_no=10, first_name=None, last_name=None, name='Lionel Messi', starting=None, starting_position=<PositionType.RightWing: ('Right Wing', 'RW', 'WideMidfield')>, positions=<TimeContainer>, attributes={}), Player(player_id='8419', team=..., jersey_no=4, first_name=None, last_name=None, name='Gonzalo Montiel', starting=None, starting_position=<PositionType.RightBack: ('Right Back', 'RB', 'FullBack')>, positions=<TimeContainer>, attributes={})]), jersey_no=18, first_name=None, last_name=None, name='Guido Rodríguez', starting=None, starting_position=<PositionType.DefensiveMidfield: ('Defensive Midfield', 'DM', 'Midfielder')>, positions=<TimeContainer>, attributes={}),\n",
       " Player(player_id='8420', team=Team(team_id='364', name='Argentina', ground=home, starting_formation=None, formations=<TimeContainer>, players=[Player(player_id='13222', team=..., jersey_no=26, first_name=None, last_name=None, name='Nahuel Molina', starting=None, starting_position=<PositionType.RightBack: ('Right Back', 'RB', 'FullBack')>, positions=<TimeContainer>, attributes={}), Player(player_id='8058', team=..., jersey_no=21, first_name=None, last_name=None, name='Paulo Dybala', starting=None, starting_position=<PositionType.Striker: ('Striker', 'ST', 'Attacker')>, positions=<TimeContainer>, attributes={}), Player(player_id='8025', team=..., jersey_no=3, first_name=None, last_name=None, name='Nicolas Tagliafico', starting=None, starting_position=<PositionType.LeftBack: ('Left Back', 'LB', 'FullBack')>, positions=<TimeContainer>, attributes={}), Player(player_id='1389', team=..., jersey_no=15, first_name=None, last_name=None, name='Angel Correa', starting=None, starting_position=<PositionType.Striker: ('Striker', 'ST', 'Attacker')>, positions=<TimeContainer>, attributes={}), Player(player_id='10715', team=..., jersey_no=9, first_name=None, last_name=None, name='Julian Alvarez', starting=None, starting_position=<PositionType.Striker: ('Striker', 'ST', 'Attacker')>, positions=<TimeContainer>, attributes={}), Player(player_id='8023', team=..., jersey_no=25, first_name=None, last_name=None, name='Lisandro Martinez', starting=None, starting_position=<PositionType.LeftCenterBack: ('Left Center Back', 'LCB', 'CenterBack')>, positions=<TimeContainer>, attributes={}), Player(player_id='1706', team=..., jersey_no=12, first_name=None, last_name=None, name='Geronimo Rulli', starting=None, starting_position=<PositionType.Goalkeeper: ('Goalkeeper', 'GK', None)>, positions=<TimeContainer>, attributes={}), Player(player_id='5116', team=..., jersey_no=13, first_name=None, last_name=None, name='Cristian Romero', starting=None, starting_position=<PositionType.RightCenterBack: ('Right Center Back', 'RCB', 'CenterBack')>, positions=<TimeContainer>, attributes={}), Player(player_id='144', team=..., jersey_no=23, first_name=None, last_name=None, name='Emiliano Martínez', starting=None, starting_position=<PositionType.Goalkeeper: ('Goalkeeper', 'GK', None)>, positions=<TimeContainer>, attributes={}), Player(player_id='1877', team=..., jersey_no=18, first_name=None, last_name=None, name='Guido Rodríguez', starting=None, starting_position=<PositionType.DefensiveMidfield: ('Defensive Midfield', 'DM', 'Midfielder')>, positions=<TimeContainer>, attributes={}), ..., Player(player_id='7757', team=..., jersey_no=16, first_name=None, last_name=None, name='Thiago Almada', starting=None, starting_position=<PositionType.AttackingMidfield: ('Attacking Midfield', 'AM', 'Midfielder')>, positions=<TimeContainer>, attributes={}), Player(player_id='453', team=..., jersey_no=20, first_name=None, last_name=None, name='Alexis Mac Allister', starting=None, starting_position=<PositionType.CenterMidfield: ('Center Midfield', 'CM', 'CentralMidfield')>, positions=<TimeContainer>, attributes={}), Player(player_id='3856', team=..., jersey_no=5, first_name=None, last_name=None, name='Leandro Paredes', starting=None, starting_position=<PositionType.DefensiveMidfield: ('Defensive Midfield', 'DM', 'Midfielder')>, positions=<TimeContainer>, attributes={}), Player(player_id='9178', team=..., jersey_no=8, first_name=None, last_name=None, name='Marcos Acuña', starting=None, starting_position=<PositionType.LeftBack: ('Left Back', 'LB', 'FullBack')>, positions=<TimeContainer>, attributes={}), Player(player_id='4590', team=..., jersey_no=14, first_name=None, last_name=None, name='Exequiel Palacios', starting=None, starting_position=<PositionType.CenterMidfield: ('Center Midfield', 'CM', 'CentralMidfield')>, positions=<TimeContainer>, attributes={}), Player(player_id='13903', team=..., jersey_no=1, first_name=None, last_name=None, name='Franco Armani', starting=None, starting_position=<PositionType.Goalkeeper: ('Goalkeeper', 'GK', None)>, positions=<TimeContainer>, attributes={}), Player(player_id='8138', team=..., jersey_no=22, first_name=None, last_name=None, name='Lautaro Martinez', starting=None, starting_position=<PositionType.Striker: ('Striker', 'ST', 'Attacker')>, positions=<TimeContainer>, attributes={}), Player(player_id='11856', team=..., jersey_no=24, first_name=None, last_name=None, name='Enzo Fernandez', starting=None, starting_position=<PositionType.CenterMidfield: ('Center Midfield', 'CM', 'CentralMidfield')>, positions=<TimeContainer>, attributes={}), Player(player_id='13226', team=..., jersey_no=6, first_name=None, last_name=None, name='German Pezzella', starting=None, starting_position=<PositionType.RightCenterBack: ('Right Center Back', 'RCB', 'CenterBack')>, positions=<TimeContainer>, attributes={}), Player(player_id='6895', team=..., jersey_no=7, first_name=None, last_name=None, name='Rodrigo de Paul', starting=None, starting_position=<PositionType.CenterMidfield: ('Center Midfield', 'CM', 'CentralMidfield')>, positions=<TimeContainer>, attributes={}), Player(player_id='3868', team=..., jersey_no=11, first_name=None, last_name=None, name='Ángel Di María', starting=None, starting_position=<PositionType.LeftWing: ('Left Wing', 'LW', 'WideMidfield')>, positions=<TimeContainer>, attributes={}), Player(player_id='68', team=..., jersey_no=2, first_name=None, last_name=None, name='Juan Foyth', starting=None, starting_position=<PositionType.RightBack: ('Right Back', 'RB', 'FullBack')>, positions=<TimeContainer>, attributes={}), Player(player_id='11', team=..., jersey_no=19, first_name=None, last_name=None, name='Nicolás Otamendi', starting=None, starting_position=<PositionType.LeftCenterBack: ('Left Center Back', 'LCB', 'CenterBack')>, positions=<TimeContainer>, attributes={}), Player(player_id='1531', team=..., jersey_no=10, first_name=None, last_name=None, name='Lionel Messi', starting=None, starting_position=<PositionType.RightWing: ('Right Wing', 'RW', 'WideMidfield')>, positions=<TimeContainer>, attributes={}), Player(player_id='8419', team=..., jersey_no=4, first_name=None, last_name=None, name='Gonzalo Montiel', starting=None, starting_position=<PositionType.RightBack: ('Right Back', 'RB', 'FullBack')>, positions=<TimeContainer>, attributes={})]), jersey_no=17, first_name=None, last_name=None, name='Papu Gómez', starting=None, starting_position=<PositionType.AttackingMidfield: ('Attacking Midfield', 'AM', 'Midfielder')>, positions=<TimeContainer>, attributes={}),\n",
       " Player(player_id='7757', team=Team(team_id='364', name='Argentina', ground=home, starting_formation=None, formations=<TimeContainer>, players=[Player(player_id='13222', team=..., jersey_no=26, first_name=None, last_name=None, name='Nahuel Molina', starting=None, starting_position=<PositionType.RightBack: ('Right Back', 'RB', 'FullBack')>, positions=<TimeContainer>, attributes={}), Player(player_id='8058', team=..., jersey_no=21, first_name=None, last_name=None, name='Paulo Dybala', starting=None, starting_position=<PositionType.Striker: ('Striker', 'ST', 'Attacker')>, positions=<TimeContainer>, attributes={}), Player(player_id='8025', team=..., jersey_no=3, first_name=None, last_name=None, name='Nicolas Tagliafico', starting=None, starting_position=<PositionType.LeftBack: ('Left Back', 'LB', 'FullBack')>, positions=<TimeContainer>, attributes={}), Player(player_id='1389', team=..., jersey_no=15, first_name=None, last_name=None, name='Angel Correa', starting=None, starting_position=<PositionType.Striker: ('Striker', 'ST', 'Attacker')>, positions=<TimeContainer>, attributes={}), Player(player_id='10715', team=..., jersey_no=9, first_name=None, last_name=None, name='Julian Alvarez', starting=None, starting_position=<PositionType.Striker: ('Striker', 'ST', 'Attacker')>, positions=<TimeContainer>, attributes={}), Player(player_id='8023', team=..., jersey_no=25, first_name=None, last_name=None, name='Lisandro Martinez', starting=None, starting_position=<PositionType.LeftCenterBack: ('Left Center Back', 'LCB', 'CenterBack')>, positions=<TimeContainer>, attributes={}), Player(player_id='1706', team=..., jersey_no=12, first_name=None, last_name=None, name='Geronimo Rulli', starting=None, starting_position=<PositionType.Goalkeeper: ('Goalkeeper', 'GK', None)>, positions=<TimeContainer>, attributes={}), Player(player_id='5116', team=..., jersey_no=13, first_name=None, last_name=None, name='Cristian Romero', starting=None, starting_position=<PositionType.RightCenterBack: ('Right Center Back', 'RCB', 'CenterBack')>, positions=<TimeContainer>, attributes={}), Player(player_id='144', team=..., jersey_no=23, first_name=None, last_name=None, name='Emiliano Martínez', starting=None, starting_position=<PositionType.Goalkeeper: ('Goalkeeper', 'GK', None)>, positions=<TimeContainer>, attributes={}), Player(player_id='1877', team=..., jersey_no=18, first_name=None, last_name=None, name='Guido Rodríguez', starting=None, starting_position=<PositionType.DefensiveMidfield: ('Defensive Midfield', 'DM', 'Midfielder')>, positions=<TimeContainer>, attributes={}), Player(player_id='8420', team=..., jersey_no=17, first_name=None, last_name=None, name='Papu Gómez', starting=None, starting_position=<PositionType.AttackingMidfield: ('Attacking Midfield', 'AM', 'Midfielder')>, positions=<TimeContainer>, attributes={}), ..., Player(player_id='453', team=..., jersey_no=20, first_name=None, last_name=None, name='Alexis Mac Allister', starting=None, starting_position=<PositionType.CenterMidfield: ('Center Midfield', 'CM', 'CentralMidfield')>, positions=<TimeContainer>, attributes={}), Player(player_id='3856', team=..., jersey_no=5, first_name=None, last_name=None, name='Leandro Paredes', starting=None, starting_position=<PositionType.DefensiveMidfield: ('Defensive Midfield', 'DM', 'Midfielder')>, positions=<TimeContainer>, attributes={}), Player(player_id='9178', team=..., jersey_no=8, first_name=None, last_name=None, name='Marcos Acuña', starting=None, starting_position=<PositionType.LeftBack: ('Left Back', 'LB', 'FullBack')>, positions=<TimeContainer>, attributes={}), Player(player_id='4590', team=..., jersey_no=14, first_name=None, last_name=None, name='Exequiel Palacios', starting=None, starting_position=<PositionType.CenterMidfield: ('Center Midfield', 'CM', 'CentralMidfield')>, positions=<TimeContainer>, attributes={}), Player(player_id='13903', team=..., jersey_no=1, first_name=None, last_name=None, name='Franco Armani', starting=None, starting_position=<PositionType.Goalkeeper: ('Goalkeeper', 'GK', None)>, positions=<TimeContainer>, attributes={}), Player(player_id='8138', team=..., jersey_no=22, first_name=None, last_name=None, name='Lautaro Martinez', starting=None, starting_position=<PositionType.Striker: ('Striker', 'ST', 'Attacker')>, positions=<TimeContainer>, attributes={}), Player(player_id='11856', team=..., jersey_no=24, first_name=None, last_name=None, name='Enzo Fernandez', starting=None, starting_position=<PositionType.CenterMidfield: ('Center Midfield', 'CM', 'CentralMidfield')>, positions=<TimeContainer>, attributes={}), Player(player_id='13226', team=..., jersey_no=6, first_name=None, last_name=None, name='German Pezzella', starting=None, starting_position=<PositionType.RightCenterBack: ('Right Center Back', 'RCB', 'CenterBack')>, positions=<TimeContainer>, attributes={}), Player(player_id='6895', team=..., jersey_no=7, first_name=None, last_name=None, name='Rodrigo de Paul', starting=None, starting_position=<PositionType.CenterMidfield: ('Center Midfield', 'CM', 'CentralMidfield')>, positions=<TimeContainer>, attributes={}), Player(player_id='3868', team=..., jersey_no=11, first_name=None, last_name=None, name='Ángel Di María', starting=None, starting_position=<PositionType.LeftWing: ('Left Wing', 'LW', 'WideMidfield')>, positions=<TimeContainer>, attributes={}), Player(player_id='68', team=..., jersey_no=2, first_name=None, last_name=None, name='Juan Foyth', starting=None, starting_position=<PositionType.RightBack: ('Right Back', 'RB', 'FullBack')>, positions=<TimeContainer>, attributes={}), Player(player_id='11', team=..., jersey_no=19, first_name=None, last_name=None, name='Nicolás Otamendi', starting=None, starting_position=<PositionType.LeftCenterBack: ('Left Center Back', 'LCB', 'CenterBack')>, positions=<TimeContainer>, attributes={}), Player(player_id='1531', team=..., jersey_no=10, first_name=None, last_name=None, name='Lionel Messi', starting=None, starting_position=<PositionType.RightWing: ('Right Wing', 'RW', 'WideMidfield')>, positions=<TimeContainer>, attributes={}), Player(player_id='8419', team=..., jersey_no=4, first_name=None, last_name=None, name='Gonzalo Montiel', starting=None, starting_position=<PositionType.RightBack: ('Right Back', 'RB', 'FullBack')>, positions=<TimeContainer>, attributes={})]), jersey_no=16, first_name=None, last_name=None, name='Thiago Almada', starting=None, starting_position=<PositionType.AttackingMidfield: ('Attacking Midfield', 'AM', 'Midfielder')>, positions=<TimeContainer>, attributes={}),\n",
       " Player(player_id='453', team=Team(team_id='364', name='Argentina', ground=home, starting_formation=None, formations=<TimeContainer>, players=[Player(player_id='13222', team=..., jersey_no=26, first_name=None, last_name=None, name='Nahuel Molina', starting=None, starting_position=<PositionType.RightBack: ('Right Back', 'RB', 'FullBack')>, positions=<TimeContainer>, attributes={}), Player(player_id='8058', team=..., jersey_no=21, first_name=None, last_name=None, name='Paulo Dybala', starting=None, starting_position=<PositionType.Striker: ('Striker', 'ST', 'Attacker')>, positions=<TimeContainer>, attributes={}), Player(player_id='8025', team=..., jersey_no=3, first_name=None, last_name=None, name='Nicolas Tagliafico', starting=None, starting_position=<PositionType.LeftBack: ('Left Back', 'LB', 'FullBack')>, positions=<TimeContainer>, attributes={}), Player(player_id='1389', team=..., jersey_no=15, first_name=None, last_name=None, name='Angel Correa', starting=None, starting_position=<PositionType.Striker: ('Striker', 'ST', 'Attacker')>, positions=<TimeContainer>, attributes={}), Player(player_id='10715', team=..., jersey_no=9, first_name=None, last_name=None, name='Julian Alvarez', starting=None, starting_position=<PositionType.Striker: ('Striker', 'ST', 'Attacker')>, positions=<TimeContainer>, attributes={}), Player(player_id='8023', team=..., jersey_no=25, first_name=None, last_name=None, name='Lisandro Martinez', starting=None, starting_position=<PositionType.LeftCenterBack: ('Left Center Back', 'LCB', 'CenterBack')>, positions=<TimeContainer>, attributes={}), Player(player_id='1706', team=..., jersey_no=12, first_name=None, last_name=None, name='Geronimo Rulli', starting=None, starting_position=<PositionType.Goalkeeper: ('Goalkeeper', 'GK', None)>, positions=<TimeContainer>, attributes={}), Player(player_id='5116', team=..., jersey_no=13, first_name=None, last_name=None, name='Cristian Romero', starting=None, starting_position=<PositionType.RightCenterBack: ('Right Center Back', 'RCB', 'CenterBack')>, positions=<TimeContainer>, attributes={}), Player(player_id='144', team=..., jersey_no=23, first_name=None, last_name=None, name='Emiliano Martínez', starting=None, starting_position=<PositionType.Goalkeeper: ('Goalkeeper', 'GK', None)>, positions=<TimeContainer>, attributes={}), Player(player_id='1877', team=..., jersey_no=18, first_name=None, last_name=None, name='Guido Rodríguez', starting=None, starting_position=<PositionType.DefensiveMidfield: ('Defensive Midfield', 'DM', 'Midfielder')>, positions=<TimeContainer>, attributes={}), Player(player_id='8420', team=..., jersey_no=17, first_name=None, last_name=None, name='Papu Gómez', starting=None, starting_position=<PositionType.AttackingMidfield: ('Attacking Midfield', 'AM', 'Midfielder')>, positions=<TimeContainer>, attributes={}), Player(player_id='7757', team=..., jersey_no=16, first_name=None, last_name=None, name='Thiago Almada', starting=None, starting_position=<PositionType.AttackingMidfield: ('Attacking Midfield', 'AM', 'Midfielder')>, positions=<TimeContainer>, attributes={}), ..., Player(player_id='3856', team=..., jersey_no=5, first_name=None, last_name=None, name='Leandro Paredes', starting=None, starting_position=<PositionType.DefensiveMidfield: ('Defensive Midfield', 'DM', 'Midfielder')>, positions=<TimeContainer>, attributes={}), Player(player_id='9178', team=..., jersey_no=8, first_name=None, last_name=None, name='Marcos Acuña', starting=None, starting_position=<PositionType.LeftBack: ('Left Back', 'LB', 'FullBack')>, positions=<TimeContainer>, attributes={}), Player(player_id='4590', team=..., jersey_no=14, first_name=None, last_name=None, name='Exequiel Palacios', starting=None, starting_position=<PositionType.CenterMidfield: ('Center Midfield', 'CM', 'CentralMidfield')>, positions=<TimeContainer>, attributes={}), Player(player_id='13903', team=..., jersey_no=1, first_name=None, last_name=None, name='Franco Armani', starting=None, starting_position=<PositionType.Goalkeeper: ('Goalkeeper', 'GK', None)>, positions=<TimeContainer>, attributes={}), Player(player_id='8138', team=..., jersey_no=22, first_name=None, last_name=None, name='Lautaro Martinez', starting=None, starting_position=<PositionType.Striker: ('Striker', 'ST', 'Attacker')>, positions=<TimeContainer>, attributes={}), Player(player_id='11856', team=..., jersey_no=24, first_name=None, last_name=None, name='Enzo Fernandez', starting=None, starting_position=<PositionType.CenterMidfield: ('Center Midfield', 'CM', 'CentralMidfield')>, positions=<TimeContainer>, attributes={}), Player(player_id='13226', team=..., jersey_no=6, first_name=None, last_name=None, name='German Pezzella', starting=None, starting_position=<PositionType.RightCenterBack: ('Right Center Back', 'RCB', 'CenterBack')>, positions=<TimeContainer>, attributes={}), Player(player_id='6895', team=..., jersey_no=7, first_name=None, last_name=None, name='Rodrigo de Paul', starting=None, starting_position=<PositionType.CenterMidfield: ('Center Midfield', 'CM', 'CentralMidfield')>, positions=<TimeContainer>, attributes={}), Player(player_id='3868', team=..., jersey_no=11, first_name=None, last_name=None, name='Ángel Di María', starting=None, starting_position=<PositionType.LeftWing: ('Left Wing', 'LW', 'WideMidfield')>, positions=<TimeContainer>, attributes={}), Player(player_id='68', team=..., jersey_no=2, first_name=None, last_name=None, name='Juan Foyth', starting=None, starting_position=<PositionType.RightBack: ('Right Back', 'RB', 'FullBack')>, positions=<TimeContainer>, attributes={}), Player(player_id='11', team=..., jersey_no=19, first_name=None, last_name=None, name='Nicolás Otamendi', starting=None, starting_position=<PositionType.LeftCenterBack: ('Left Center Back', 'LCB', 'CenterBack')>, positions=<TimeContainer>, attributes={}), Player(player_id='1531', team=..., jersey_no=10, first_name=None, last_name=None, name='Lionel Messi', starting=None, starting_position=<PositionType.RightWing: ('Right Wing', 'RW', 'WideMidfield')>, positions=<TimeContainer>, attributes={}), Player(player_id='8419', team=..., jersey_no=4, first_name=None, last_name=None, name='Gonzalo Montiel', starting=None, starting_position=<PositionType.RightBack: ('Right Back', 'RB', 'FullBack')>, positions=<TimeContainer>, attributes={})]), jersey_no=20, first_name=None, last_name=None, name='Alexis Mac Allister', starting=None, starting_position=<PositionType.CenterMidfield: ('Center Midfield', 'CM', 'CentralMidfield')>, positions=<TimeContainer>, attributes={}),\n",
       " Player(player_id='3856', team=Team(team_id='364', name='Argentina', ground=home, starting_formation=None, formations=<TimeContainer>, players=[Player(player_id='13222', team=..., jersey_no=26, first_name=None, last_name=None, name='Nahuel Molina', starting=None, starting_position=<PositionType.RightBack: ('Right Back', 'RB', 'FullBack')>, positions=<TimeContainer>, attributes={}), Player(player_id='8058', team=..., jersey_no=21, first_name=None, last_name=None, name='Paulo Dybala', starting=None, starting_position=<PositionType.Striker: ('Striker', 'ST', 'Attacker')>, positions=<TimeContainer>, attributes={}), Player(player_id='8025', team=..., jersey_no=3, first_name=None, last_name=None, name='Nicolas Tagliafico', starting=None, starting_position=<PositionType.LeftBack: ('Left Back', 'LB', 'FullBack')>, positions=<TimeContainer>, attributes={}), Player(player_id='1389', team=..., jersey_no=15, first_name=None, last_name=None, name='Angel Correa', starting=None, starting_position=<PositionType.Striker: ('Striker', 'ST', 'Attacker')>, positions=<TimeContainer>, attributes={}), Player(player_id='10715', team=..., jersey_no=9, first_name=None, last_name=None, name='Julian Alvarez', starting=None, starting_position=<PositionType.Striker: ('Striker', 'ST', 'Attacker')>, positions=<TimeContainer>, attributes={}), Player(player_id='8023', team=..., jersey_no=25, first_name=None, last_name=None, name='Lisandro Martinez', starting=None, starting_position=<PositionType.LeftCenterBack: ('Left Center Back', 'LCB', 'CenterBack')>, positions=<TimeContainer>, attributes={}), Player(player_id='1706', team=..., jersey_no=12, first_name=None, last_name=None, name='Geronimo Rulli', starting=None, starting_position=<PositionType.Goalkeeper: ('Goalkeeper', 'GK', None)>, positions=<TimeContainer>, attributes={}), Player(player_id='5116', team=..., jersey_no=13, first_name=None, last_name=None, name='Cristian Romero', starting=None, starting_position=<PositionType.RightCenterBack: ('Right Center Back', 'RCB', 'CenterBack')>, positions=<TimeContainer>, attributes={}), Player(player_id='144', team=..., jersey_no=23, first_name=None, last_name=None, name='Emiliano Martínez', starting=None, starting_position=<PositionType.Goalkeeper: ('Goalkeeper', 'GK', None)>, positions=<TimeContainer>, attributes={}), Player(player_id='1877', team=..., jersey_no=18, first_name=None, last_name=None, name='Guido Rodríguez', starting=None, starting_position=<PositionType.DefensiveMidfield: ('Defensive Midfield', 'DM', 'Midfielder')>, positions=<TimeContainer>, attributes={}), Player(player_id='8420', team=..., jersey_no=17, first_name=None, last_name=None, name='Papu Gómez', starting=None, starting_position=<PositionType.AttackingMidfield: ('Attacking Midfield', 'AM', 'Midfielder')>, positions=<TimeContainer>, attributes={}), Player(player_id='7757', team=..., jersey_no=16, first_name=None, last_name=None, name='Thiago Almada', starting=None, starting_position=<PositionType.AttackingMidfield: ('Attacking Midfield', 'AM', 'Midfielder')>, positions=<TimeContainer>, attributes={}), Player(player_id='453', team=..., jersey_no=20, first_name=None, last_name=None, name='Alexis Mac Allister', starting=None, starting_position=<PositionType.CenterMidfield: ('Center Midfield', 'CM', 'CentralMidfield')>, positions=<TimeContainer>, attributes={}), ..., Player(player_id='9178', team=..., jersey_no=8, first_name=None, last_name=None, name='Marcos Acuña', starting=None, starting_position=<PositionType.LeftBack: ('Left Back', 'LB', 'FullBack')>, positions=<TimeContainer>, attributes={}), Player(player_id='4590', team=..., jersey_no=14, first_name=None, last_name=None, name='Exequiel Palacios', starting=None, starting_position=<PositionType.CenterMidfield: ('Center Midfield', 'CM', 'CentralMidfield')>, positions=<TimeContainer>, attributes={}), Player(player_id='13903', team=..., jersey_no=1, first_name=None, last_name=None, name='Franco Armani', starting=None, starting_position=<PositionType.Goalkeeper: ('Goalkeeper', 'GK', None)>, positions=<TimeContainer>, attributes={}), Player(player_id='8138', team=..., jersey_no=22, first_name=None, last_name=None, name='Lautaro Martinez', starting=None, starting_position=<PositionType.Striker: ('Striker', 'ST', 'Attacker')>, positions=<TimeContainer>, attributes={}), Player(player_id='11856', team=..., jersey_no=24, first_name=None, last_name=None, name='Enzo Fernandez', starting=None, starting_position=<PositionType.CenterMidfield: ('Center Midfield', 'CM', 'CentralMidfield')>, positions=<TimeContainer>, attributes={}), Player(player_id='13226', team=..., jersey_no=6, first_name=None, last_name=None, name='German Pezzella', starting=None, starting_position=<PositionType.RightCenterBack: ('Right Center Back', 'RCB', 'CenterBack')>, positions=<TimeContainer>, attributes={}), Player(player_id='6895', team=..., jersey_no=7, first_name=None, last_name=None, name='Rodrigo de Paul', starting=None, starting_position=<PositionType.CenterMidfield: ('Center Midfield', 'CM', 'CentralMidfield')>, positions=<TimeContainer>, attributes={}), Player(player_id='3868', team=..., jersey_no=11, first_name=None, last_name=None, name='Ángel Di María', starting=None, starting_position=<PositionType.LeftWing: ('Left Wing', 'LW', 'WideMidfield')>, positions=<TimeContainer>, attributes={}), Player(player_id='68', team=..., jersey_no=2, first_name=None, last_name=None, name='Juan Foyth', starting=None, starting_position=<PositionType.RightBack: ('Right Back', 'RB', 'FullBack')>, positions=<TimeContainer>, attributes={}), Player(player_id='11', team=..., jersey_no=19, first_name=None, last_name=None, name='Nicolás Otamendi', starting=None, starting_position=<PositionType.LeftCenterBack: ('Left Center Back', 'LCB', 'CenterBack')>, positions=<TimeContainer>, attributes={}), Player(player_id='1531', team=..., jersey_no=10, first_name=None, last_name=None, name='Lionel Messi', starting=None, starting_position=<PositionType.RightWing: ('Right Wing', 'RW', 'WideMidfield')>, positions=<TimeContainer>, attributes={}), Player(player_id='8419', team=..., jersey_no=4, first_name=None, last_name=None, name='Gonzalo Montiel', starting=None, starting_position=<PositionType.RightBack: ('Right Back', 'RB', 'FullBack')>, positions=<TimeContainer>, attributes={})]), jersey_no=5, first_name=None, last_name=None, name='Leandro Paredes', starting=None, starting_position=<PositionType.DefensiveMidfield: ('Defensive Midfield', 'DM', 'Midfielder')>, positions=<TimeContainer>, attributes={}),\n",
       " Player(player_id='9178', team=Team(team_id='364', name='Argentina', ground=home, starting_formation=None, formations=<TimeContainer>, players=[Player(player_id='13222', team=..., jersey_no=26, first_name=None, last_name=None, name='Nahuel Molina', starting=None, starting_position=<PositionType.RightBack: ('Right Back', 'RB', 'FullBack')>, positions=<TimeContainer>, attributes={}), Player(player_id='8058', team=..., jersey_no=21, first_name=None, last_name=None, name='Paulo Dybala', starting=None, starting_position=<PositionType.Striker: ('Striker', 'ST', 'Attacker')>, positions=<TimeContainer>, attributes={}), Player(player_id='8025', team=..., jersey_no=3, first_name=None, last_name=None, name='Nicolas Tagliafico', starting=None, starting_position=<PositionType.LeftBack: ('Left Back', 'LB', 'FullBack')>, positions=<TimeContainer>, attributes={}), Player(player_id='1389', team=..., jersey_no=15, first_name=None, last_name=None, name='Angel Correa', starting=None, starting_position=<PositionType.Striker: ('Striker', 'ST', 'Attacker')>, positions=<TimeContainer>, attributes={}), Player(player_id='10715', team=..., jersey_no=9, first_name=None, last_name=None, name='Julian Alvarez', starting=None, starting_position=<PositionType.Striker: ('Striker', 'ST', 'Attacker')>, positions=<TimeContainer>, attributes={}), Player(player_id='8023', team=..., jersey_no=25, first_name=None, last_name=None, name='Lisandro Martinez', starting=None, starting_position=<PositionType.LeftCenterBack: ('Left Center Back', 'LCB', 'CenterBack')>, positions=<TimeContainer>, attributes={}), Player(player_id='1706', team=..., jersey_no=12, first_name=None, last_name=None, name='Geronimo Rulli', starting=None, starting_position=<PositionType.Goalkeeper: ('Goalkeeper', 'GK', None)>, positions=<TimeContainer>, attributes={}), Player(player_id='5116', team=..., jersey_no=13, first_name=None, last_name=None, name='Cristian Romero', starting=None, starting_position=<PositionType.RightCenterBack: ('Right Center Back', 'RCB', 'CenterBack')>, positions=<TimeContainer>, attributes={}), Player(player_id='144', team=..., jersey_no=23, first_name=None, last_name=None, name='Emiliano Martínez', starting=None, starting_position=<PositionType.Goalkeeper: ('Goalkeeper', 'GK', None)>, positions=<TimeContainer>, attributes={}), Player(player_id='1877', team=..., jersey_no=18, first_name=None, last_name=None, name='Guido Rodríguez', starting=None, starting_position=<PositionType.DefensiveMidfield: ('Defensive Midfield', 'DM', 'Midfielder')>, positions=<TimeContainer>, attributes={}), Player(player_id='8420', team=..., jersey_no=17, first_name=None, last_name=None, name='Papu Gómez', starting=None, starting_position=<PositionType.AttackingMidfield: ('Attacking Midfield', 'AM', 'Midfielder')>, positions=<TimeContainer>, attributes={}), Player(player_id='7757', team=..., jersey_no=16, first_name=None, last_name=None, name='Thiago Almada', starting=None, starting_position=<PositionType.AttackingMidfield: ('Attacking Midfield', 'AM', 'Midfielder')>, positions=<TimeContainer>, attributes={}), Player(player_id='453', team=..., jersey_no=20, first_name=None, last_name=None, name='Alexis Mac Allister', starting=None, starting_position=<PositionType.CenterMidfield: ('Center Midfield', 'CM', 'CentralMidfield')>, positions=<TimeContainer>, attributes={}), Player(player_id='3856', team=..., jersey_no=5, first_name=None, last_name=None, name='Leandro Paredes', starting=None, starting_position=<PositionType.DefensiveMidfield: ('Defensive Midfield', 'DM', 'Midfielder')>, positions=<TimeContainer>, attributes={}), ..., Player(player_id='4590', team=..., jersey_no=14, first_name=None, last_name=None, name='Exequiel Palacios', starting=None, starting_position=<PositionType.CenterMidfield: ('Center Midfield', 'CM', 'CentralMidfield')>, positions=<TimeContainer>, attributes={}), Player(player_id='13903', team=..., jersey_no=1, first_name=None, last_name=None, name='Franco Armani', starting=None, starting_position=<PositionType.Goalkeeper: ('Goalkeeper', 'GK', None)>, positions=<TimeContainer>, attributes={}), Player(player_id='8138', team=..., jersey_no=22, first_name=None, last_name=None, name='Lautaro Martinez', starting=None, starting_position=<PositionType.Striker: ('Striker', 'ST', 'Attacker')>, positions=<TimeContainer>, attributes={}), Player(player_id='11856', team=..., jersey_no=24, first_name=None, last_name=None, name='Enzo Fernandez', starting=None, starting_position=<PositionType.CenterMidfield: ('Center Midfield', 'CM', 'CentralMidfield')>, positions=<TimeContainer>, attributes={}), Player(player_id='13226', team=..., jersey_no=6, first_name=None, last_name=None, name='German Pezzella', starting=None, starting_position=<PositionType.RightCenterBack: ('Right Center Back', 'RCB', 'CenterBack')>, positions=<TimeContainer>, attributes={}), Player(player_id='6895', team=..., jersey_no=7, first_name=None, last_name=None, name='Rodrigo de Paul', starting=None, starting_position=<PositionType.CenterMidfield: ('Center Midfield', 'CM', 'CentralMidfield')>, positions=<TimeContainer>, attributes={}), Player(player_id='3868', team=..., jersey_no=11, first_name=None, last_name=None, name='Ángel Di María', starting=None, starting_position=<PositionType.LeftWing: ('Left Wing', 'LW', 'WideMidfield')>, positions=<TimeContainer>, attributes={}), Player(player_id='68', team=..., jersey_no=2, first_name=None, last_name=None, name='Juan Foyth', starting=None, starting_position=<PositionType.RightBack: ('Right Back', 'RB', 'FullBack')>, positions=<TimeContainer>, attributes={}), Player(player_id='11', team=..., jersey_no=19, first_name=None, last_name=None, name='Nicolás Otamendi', starting=None, starting_position=<PositionType.LeftCenterBack: ('Left Center Back', 'LCB', 'CenterBack')>, positions=<TimeContainer>, attributes={}), Player(player_id='1531', team=..., jersey_no=10, first_name=None, last_name=None, name='Lionel Messi', starting=None, starting_position=<PositionType.RightWing: ('Right Wing', 'RW', 'WideMidfield')>, positions=<TimeContainer>, attributes={}), Player(player_id='8419', team=..., jersey_no=4, first_name=None, last_name=None, name='Gonzalo Montiel', starting=None, starting_position=<PositionType.RightBack: ('Right Back', 'RB', 'FullBack')>, positions=<TimeContainer>, attributes={})]), jersey_no=8, first_name=None, last_name=None, name='Marcos Acuña', starting=None, starting_position=<PositionType.LeftBack: ('Left Back', 'LB', 'FullBack')>, positions=<TimeContainer>, attributes={}),\n",
       " Player(player_id='4590', team=Team(team_id='364', name='Argentina', ground=home, starting_formation=None, formations=<TimeContainer>, players=[Player(player_id='13222', team=..., jersey_no=26, first_name=None, last_name=None, name='Nahuel Molina', starting=None, starting_position=<PositionType.RightBack: ('Right Back', 'RB', 'FullBack')>, positions=<TimeContainer>, attributes={}), Player(player_id='8058', team=..., jersey_no=21, first_name=None, last_name=None, name='Paulo Dybala', starting=None, starting_position=<PositionType.Striker: ('Striker', 'ST', 'Attacker')>, positions=<TimeContainer>, attributes={}), Player(player_id='8025', team=..., jersey_no=3, first_name=None, last_name=None, name='Nicolas Tagliafico', starting=None, starting_position=<PositionType.LeftBack: ('Left Back', 'LB', 'FullBack')>, positions=<TimeContainer>, attributes={}), Player(player_id='1389', team=..., jersey_no=15, first_name=None, last_name=None, name='Angel Correa', starting=None, starting_position=<PositionType.Striker: ('Striker', 'ST', 'Attacker')>, positions=<TimeContainer>, attributes={}), Player(player_id='10715', team=..., jersey_no=9, first_name=None, last_name=None, name='Julian Alvarez', starting=None, starting_position=<PositionType.Striker: ('Striker', 'ST', 'Attacker')>, positions=<TimeContainer>, attributes={}), Player(player_id='8023', team=..., jersey_no=25, first_name=None, last_name=None, name='Lisandro Martinez', starting=None, starting_position=<PositionType.LeftCenterBack: ('Left Center Back', 'LCB', 'CenterBack')>, positions=<TimeContainer>, attributes={}), Player(player_id='1706', team=..., jersey_no=12, first_name=None, last_name=None, name='Geronimo Rulli', starting=None, starting_position=<PositionType.Goalkeeper: ('Goalkeeper', 'GK', None)>, positions=<TimeContainer>, attributes={}), Player(player_id='5116', team=..., jersey_no=13, first_name=None, last_name=None, name='Cristian Romero', starting=None, starting_position=<PositionType.RightCenterBack: ('Right Center Back', 'RCB', 'CenterBack')>, positions=<TimeContainer>, attributes={}), Player(player_id='144', team=..., jersey_no=23, first_name=None, last_name=None, name='Emiliano Martínez', starting=None, starting_position=<PositionType.Goalkeeper: ('Goalkeeper', 'GK', None)>, positions=<TimeContainer>, attributes={}), Player(player_id='1877', team=..., jersey_no=18, first_name=None, last_name=None, name='Guido Rodríguez', starting=None, starting_position=<PositionType.DefensiveMidfield: ('Defensive Midfield', 'DM', 'Midfielder')>, positions=<TimeContainer>, attributes={}), Player(player_id='8420', team=..., jersey_no=17, first_name=None, last_name=None, name='Papu Gómez', starting=None, starting_position=<PositionType.AttackingMidfield: ('Attacking Midfield', 'AM', 'Midfielder')>, positions=<TimeContainer>, attributes={}), Player(player_id='7757', team=..., jersey_no=16, first_name=None, last_name=None, name='Thiago Almada', starting=None, starting_position=<PositionType.AttackingMidfield: ('Attacking Midfield', 'AM', 'Midfielder')>, positions=<TimeContainer>, attributes={}), Player(player_id='453', team=..., jersey_no=20, first_name=None, last_name=None, name='Alexis Mac Allister', starting=None, starting_position=<PositionType.CenterMidfield: ('Center Midfield', 'CM', 'CentralMidfield')>, positions=<TimeContainer>, attributes={}), Player(player_id='3856', team=..., jersey_no=5, first_name=None, last_name=None, name='Leandro Paredes', starting=None, starting_position=<PositionType.DefensiveMidfield: ('Defensive Midfield', 'DM', 'Midfielder')>, positions=<TimeContainer>, attributes={}), Player(player_id='9178', team=..., jersey_no=8, first_name=None, last_name=None, name='Marcos Acuña', starting=None, starting_position=<PositionType.LeftBack: ('Left Back', 'LB', 'FullBack')>, positions=<TimeContainer>, attributes={}), ..., Player(player_id='13903', team=..., jersey_no=1, first_name=None, last_name=None, name='Franco Armani', starting=None, starting_position=<PositionType.Goalkeeper: ('Goalkeeper', 'GK', None)>, positions=<TimeContainer>, attributes={}), Player(player_id='8138', team=..., jersey_no=22, first_name=None, last_name=None, name='Lautaro Martinez', starting=None, starting_position=<PositionType.Striker: ('Striker', 'ST', 'Attacker')>, positions=<TimeContainer>, attributes={}), Player(player_id='11856', team=..., jersey_no=24, first_name=None, last_name=None, name='Enzo Fernandez', starting=None, starting_position=<PositionType.CenterMidfield: ('Center Midfield', 'CM', 'CentralMidfield')>, positions=<TimeContainer>, attributes={}), Player(player_id='13226', team=..., jersey_no=6, first_name=None, last_name=None, name='German Pezzella', starting=None, starting_position=<PositionType.RightCenterBack: ('Right Center Back', 'RCB', 'CenterBack')>, positions=<TimeContainer>, attributes={}), Player(player_id='6895', team=..., jersey_no=7, first_name=None, last_name=None, name='Rodrigo de Paul', starting=None, starting_position=<PositionType.CenterMidfield: ('Center Midfield', 'CM', 'CentralMidfield')>, positions=<TimeContainer>, attributes={}), Player(player_id='3868', team=..., jersey_no=11, first_name=None, last_name=None, name='Ángel Di María', starting=None, starting_position=<PositionType.LeftWing: ('Left Wing', 'LW', 'WideMidfield')>, positions=<TimeContainer>, attributes={}), Player(player_id='68', team=..., jersey_no=2, first_name=None, last_name=None, name='Juan Foyth', starting=None, starting_position=<PositionType.RightBack: ('Right Back', 'RB', 'FullBack')>, positions=<TimeContainer>, attributes={}), Player(player_id='11', team=..., jersey_no=19, first_name=None, last_name=None, name='Nicolás Otamendi', starting=None, starting_position=<PositionType.LeftCenterBack: ('Left Center Back', 'LCB', 'CenterBack')>, positions=<TimeContainer>, attributes={}), Player(player_id='1531', team=..., jersey_no=10, first_name=None, last_name=None, name='Lionel Messi', starting=None, starting_position=<PositionType.RightWing: ('Right Wing', 'RW', 'WideMidfield')>, positions=<TimeContainer>, attributes={}), Player(player_id='8419', team=..., jersey_no=4, first_name=None, last_name=None, name='Gonzalo Montiel', starting=None, starting_position=<PositionType.RightBack: ('Right Back', 'RB', 'FullBack')>, positions=<TimeContainer>, attributes={})]), jersey_no=14, first_name=None, last_name=None, name='Exequiel Palacios', starting=None, starting_position=<PositionType.CenterMidfield: ('Center Midfield', 'CM', 'CentralMidfield')>, positions=<TimeContainer>, attributes={}),\n",
       " Player(player_id='13903', team=Team(team_id='364', name='Argentina', ground=home, starting_formation=None, formations=<TimeContainer>, players=[Player(player_id='13222', team=..., jersey_no=26, first_name=None, last_name=None, name='Nahuel Molina', starting=None, starting_position=<PositionType.RightBack: ('Right Back', 'RB', 'FullBack')>, positions=<TimeContainer>, attributes={}), Player(player_id='8058', team=..., jersey_no=21, first_name=None, last_name=None, name='Paulo Dybala', starting=None, starting_position=<PositionType.Striker: ('Striker', 'ST', 'Attacker')>, positions=<TimeContainer>, attributes={}), Player(player_id='8025', team=..., jersey_no=3, first_name=None, last_name=None, name='Nicolas Tagliafico', starting=None, starting_position=<PositionType.LeftBack: ('Left Back', 'LB', 'FullBack')>, positions=<TimeContainer>, attributes={}), Player(player_id='1389', team=..., jersey_no=15, first_name=None, last_name=None, name='Angel Correa', starting=None, starting_position=<PositionType.Striker: ('Striker', 'ST', 'Attacker')>, positions=<TimeContainer>, attributes={}), Player(player_id='10715', team=..., jersey_no=9, first_name=None, last_name=None, name='Julian Alvarez', starting=None, starting_position=<PositionType.Striker: ('Striker', 'ST', 'Attacker')>, positions=<TimeContainer>, attributes={}), Player(player_id='8023', team=..., jersey_no=25, first_name=None, last_name=None, name='Lisandro Martinez', starting=None, starting_position=<PositionType.LeftCenterBack: ('Left Center Back', 'LCB', 'CenterBack')>, positions=<TimeContainer>, attributes={}), Player(player_id='1706', team=..., jersey_no=12, first_name=None, last_name=None, name='Geronimo Rulli', starting=None, starting_position=<PositionType.Goalkeeper: ('Goalkeeper', 'GK', None)>, positions=<TimeContainer>, attributes={}), Player(player_id='5116', team=..., jersey_no=13, first_name=None, last_name=None, name='Cristian Romero', starting=None, starting_position=<PositionType.RightCenterBack: ('Right Center Back', 'RCB', 'CenterBack')>, positions=<TimeContainer>, attributes={}), Player(player_id='144', team=..., jersey_no=23, first_name=None, last_name=None, name='Emiliano Martínez', starting=None, starting_position=<PositionType.Goalkeeper: ('Goalkeeper', 'GK', None)>, positions=<TimeContainer>, attributes={}), Player(player_id='1877', team=..., jersey_no=18, first_name=None, last_name=None, name='Guido Rodríguez', starting=None, starting_position=<PositionType.DefensiveMidfield: ('Defensive Midfield', 'DM', 'Midfielder')>, positions=<TimeContainer>, attributes={}), Player(player_id='8420', team=..., jersey_no=17, first_name=None, last_name=None, name='Papu Gómez', starting=None, starting_position=<PositionType.AttackingMidfield: ('Attacking Midfield', 'AM', 'Midfielder')>, positions=<TimeContainer>, attributes={}), Player(player_id='7757', team=..., jersey_no=16, first_name=None, last_name=None, name='Thiago Almada', starting=None, starting_position=<PositionType.AttackingMidfield: ('Attacking Midfield', 'AM', 'Midfielder')>, positions=<TimeContainer>, attributes={}), Player(player_id='453', team=..., jersey_no=20, first_name=None, last_name=None, name='Alexis Mac Allister', starting=None, starting_position=<PositionType.CenterMidfield: ('Center Midfield', 'CM', 'CentralMidfield')>, positions=<TimeContainer>, attributes={}), Player(player_id='3856', team=..., jersey_no=5, first_name=None, last_name=None, name='Leandro Paredes', starting=None, starting_position=<PositionType.DefensiveMidfield: ('Defensive Midfield', 'DM', 'Midfielder')>, positions=<TimeContainer>, attributes={}), Player(player_id='9178', team=..., jersey_no=8, first_name=None, last_name=None, name='Marcos Acuña', starting=None, starting_position=<PositionType.LeftBack: ('Left Back', 'LB', 'FullBack')>, positions=<TimeContainer>, attributes={}), Player(player_id='4590', team=..., jersey_no=14, first_name=None, last_name=None, name='Exequiel Palacios', starting=None, starting_position=<PositionType.CenterMidfield: ('Center Midfield', 'CM', 'CentralMidfield')>, positions=<TimeContainer>, attributes={}), ..., Player(player_id='8138', team=..., jersey_no=22, first_name=None, last_name=None, name='Lautaro Martinez', starting=None, starting_position=<PositionType.Striker: ('Striker', 'ST', 'Attacker')>, positions=<TimeContainer>, attributes={}), Player(player_id='11856', team=..., jersey_no=24, first_name=None, last_name=None, name='Enzo Fernandez', starting=None, starting_position=<PositionType.CenterMidfield: ('Center Midfield', 'CM', 'CentralMidfield')>, positions=<TimeContainer>, attributes={}), Player(player_id='13226', team=..., jersey_no=6, first_name=None, last_name=None, name='German Pezzella', starting=None, starting_position=<PositionType.RightCenterBack: ('Right Center Back', 'RCB', 'CenterBack')>, positions=<TimeContainer>, attributes={}), Player(player_id='6895', team=..., jersey_no=7, first_name=None, last_name=None, name='Rodrigo de Paul', starting=None, starting_position=<PositionType.CenterMidfield: ('Center Midfield', 'CM', 'CentralMidfield')>, positions=<TimeContainer>, attributes={}), Player(player_id='3868', team=..., jersey_no=11, first_name=None, last_name=None, name='Ángel Di María', starting=None, starting_position=<PositionType.LeftWing: ('Left Wing', 'LW', 'WideMidfield')>, positions=<TimeContainer>, attributes={}), Player(player_id='68', team=..., jersey_no=2, first_name=None, last_name=None, name='Juan Foyth', starting=None, starting_position=<PositionType.RightBack: ('Right Back', 'RB', 'FullBack')>, positions=<TimeContainer>, attributes={}), Player(player_id='11', team=..., jersey_no=19, first_name=None, last_name=None, name='Nicolás Otamendi', starting=None, starting_position=<PositionType.LeftCenterBack: ('Left Center Back', 'LCB', 'CenterBack')>, positions=<TimeContainer>, attributes={}), Player(player_id='1531', team=..., jersey_no=10, first_name=None, last_name=None, name='Lionel Messi', starting=None, starting_position=<PositionType.RightWing: ('Right Wing', 'RW', 'WideMidfield')>, positions=<TimeContainer>, attributes={}), Player(player_id='8419', team=..., jersey_no=4, first_name=None, last_name=None, name='Gonzalo Montiel', starting=None, starting_position=<PositionType.RightBack: ('Right Back', 'RB', 'FullBack')>, positions=<TimeContainer>, attributes={})]), jersey_no=1, first_name=None, last_name=None, name='Franco Armani', starting=None, starting_position=<PositionType.Goalkeeper: ('Goalkeeper', 'GK', None)>, positions=<TimeContainer>, attributes={}),\n",
       " Player(player_id='8138', team=Team(team_id='364', name='Argentina', ground=home, starting_formation=None, formations=<TimeContainer>, players=[Player(player_id='13222', team=..., jersey_no=26, first_name=None, last_name=None, name='Nahuel Molina', starting=None, starting_position=<PositionType.RightBack: ('Right Back', 'RB', 'FullBack')>, positions=<TimeContainer>, attributes={}), Player(player_id='8058', team=..., jersey_no=21, first_name=None, last_name=None, name='Paulo Dybala', starting=None, starting_position=<PositionType.Striker: ('Striker', 'ST', 'Attacker')>, positions=<TimeContainer>, attributes={}), Player(player_id='8025', team=..., jersey_no=3, first_name=None, last_name=None, name='Nicolas Tagliafico', starting=None, starting_position=<PositionType.LeftBack: ('Left Back', 'LB', 'FullBack')>, positions=<TimeContainer>, attributes={}), Player(player_id='1389', team=..., jersey_no=15, first_name=None, last_name=None, name='Angel Correa', starting=None, starting_position=<PositionType.Striker: ('Striker', 'ST', 'Attacker')>, positions=<TimeContainer>, attributes={}), Player(player_id='10715', team=..., jersey_no=9, first_name=None, last_name=None, name='Julian Alvarez', starting=None, starting_position=<PositionType.Striker: ('Striker', 'ST', 'Attacker')>, positions=<TimeContainer>, attributes={}), Player(player_id='8023', team=..., jersey_no=25, first_name=None, last_name=None, name='Lisandro Martinez', starting=None, starting_position=<PositionType.LeftCenterBack: ('Left Center Back', 'LCB', 'CenterBack')>, positions=<TimeContainer>, attributes={}), Player(player_id='1706', team=..., jersey_no=12, first_name=None, last_name=None, name='Geronimo Rulli', starting=None, starting_position=<PositionType.Goalkeeper: ('Goalkeeper', 'GK', None)>, positions=<TimeContainer>, attributes={}), Player(player_id='5116', team=..., jersey_no=13, first_name=None, last_name=None, name='Cristian Romero', starting=None, starting_position=<PositionType.RightCenterBack: ('Right Center Back', 'RCB', 'CenterBack')>, positions=<TimeContainer>, attributes={}), Player(player_id='144', team=..., jersey_no=23, first_name=None, last_name=None, name='Emiliano Martínez', starting=None, starting_position=<PositionType.Goalkeeper: ('Goalkeeper', 'GK', None)>, positions=<TimeContainer>, attributes={}), Player(player_id='1877', team=..., jersey_no=18, first_name=None, last_name=None, name='Guido Rodríguez', starting=None, starting_position=<PositionType.DefensiveMidfield: ('Defensive Midfield', 'DM', 'Midfielder')>, positions=<TimeContainer>, attributes={}), Player(player_id='8420', team=..., jersey_no=17, first_name=None, last_name=None, name='Papu Gómez', starting=None, starting_position=<PositionType.AttackingMidfield: ('Attacking Midfield', 'AM', 'Midfielder')>, positions=<TimeContainer>, attributes={}), Player(player_id='7757', team=..., jersey_no=16, first_name=None, last_name=None, name='Thiago Almada', starting=None, starting_position=<PositionType.AttackingMidfield: ('Attacking Midfield', 'AM', 'Midfielder')>, positions=<TimeContainer>, attributes={}), Player(player_id='453', team=..., jersey_no=20, first_name=None, last_name=None, name='Alexis Mac Allister', starting=None, starting_position=<PositionType.CenterMidfield: ('Center Midfield', 'CM', 'CentralMidfield')>, positions=<TimeContainer>, attributes={}), Player(player_id='3856', team=..., jersey_no=5, first_name=None, last_name=None, name='Leandro Paredes', starting=None, starting_position=<PositionType.DefensiveMidfield: ('Defensive Midfield', 'DM', 'Midfielder')>, positions=<TimeContainer>, attributes={}), Player(player_id='9178', team=..., jersey_no=8, first_name=None, last_name=None, name='Marcos Acuña', starting=None, starting_position=<PositionType.LeftBack: ('Left Back', 'LB', 'FullBack')>, positions=<TimeContainer>, attributes={}), Player(player_id='4590', team=..., jersey_no=14, first_name=None, last_name=None, name='Exequiel Palacios', starting=None, starting_position=<PositionType.CenterMidfield: ('Center Midfield', 'CM', 'CentralMidfield')>, positions=<TimeContainer>, attributes={}), Player(player_id='13903', team=..., jersey_no=1, first_name=None, last_name=None, name='Franco Armani', starting=None, starting_position=<PositionType.Goalkeeper: ('Goalkeeper', 'GK', None)>, positions=<TimeContainer>, attributes={}), ..., Player(player_id='11856', team=..., jersey_no=24, first_name=None, last_name=None, name='Enzo Fernandez', starting=None, starting_position=<PositionType.CenterMidfield: ('Center Midfield', 'CM', 'CentralMidfield')>, positions=<TimeContainer>, attributes={}), Player(player_id='13226', team=..., jersey_no=6, first_name=None, last_name=None, name='German Pezzella', starting=None, starting_position=<PositionType.RightCenterBack: ('Right Center Back', 'RCB', 'CenterBack')>, positions=<TimeContainer>, attributes={}), Player(player_id='6895', team=..., jersey_no=7, first_name=None, last_name=None, name='Rodrigo de Paul', starting=None, starting_position=<PositionType.CenterMidfield: ('Center Midfield', 'CM', 'CentralMidfield')>, positions=<TimeContainer>, attributes={}), Player(player_id='3868', team=..., jersey_no=11, first_name=None, last_name=None, name='Ángel Di María', starting=None, starting_position=<PositionType.LeftWing: ('Left Wing', 'LW', 'WideMidfield')>, positions=<TimeContainer>, attributes={}), Player(player_id='68', team=..., jersey_no=2, first_name=None, last_name=None, name='Juan Foyth', starting=None, starting_position=<PositionType.RightBack: ('Right Back', 'RB', 'FullBack')>, positions=<TimeContainer>, attributes={}), Player(player_id='11', team=..., jersey_no=19, first_name=None, last_name=None, name='Nicolás Otamendi', starting=None, starting_position=<PositionType.LeftCenterBack: ('Left Center Back', 'LCB', 'CenterBack')>, positions=<TimeContainer>, attributes={}), Player(player_id='1531', team=..., jersey_no=10, first_name=None, last_name=None, name='Lionel Messi', starting=None, starting_position=<PositionType.RightWing: ('Right Wing', 'RW', 'WideMidfield')>, positions=<TimeContainer>, attributes={}), Player(player_id='8419', team=..., jersey_no=4, first_name=None, last_name=None, name='Gonzalo Montiel', starting=None, starting_position=<PositionType.RightBack: ('Right Back', 'RB', 'FullBack')>, positions=<TimeContainer>, attributes={})]), jersey_no=22, first_name=None, last_name=None, name='Lautaro Martinez', starting=None, starting_position=<PositionType.Striker: ('Striker', 'ST', 'Attacker')>, positions=<TimeContainer>, attributes={}),\n",
       " Player(player_id='11856', team=Team(team_id='364', name='Argentina', ground=home, starting_formation=None, formations=<TimeContainer>, players=[Player(player_id='13222', team=..., jersey_no=26, first_name=None, last_name=None, name='Nahuel Molina', starting=None, starting_position=<PositionType.RightBack: ('Right Back', 'RB', 'FullBack')>, positions=<TimeContainer>, attributes={}), Player(player_id='8058', team=..., jersey_no=21, first_name=None, last_name=None, name='Paulo Dybala', starting=None, starting_position=<PositionType.Striker: ('Striker', 'ST', 'Attacker')>, positions=<TimeContainer>, attributes={}), Player(player_id='8025', team=..., jersey_no=3, first_name=None, last_name=None, name='Nicolas Tagliafico', starting=None, starting_position=<PositionType.LeftBack: ('Left Back', 'LB', 'FullBack')>, positions=<TimeContainer>, attributes={}), Player(player_id='1389', team=..., jersey_no=15, first_name=None, last_name=None, name='Angel Correa', starting=None, starting_position=<PositionType.Striker: ('Striker', 'ST', 'Attacker')>, positions=<TimeContainer>, attributes={}), Player(player_id='10715', team=..., jersey_no=9, first_name=None, last_name=None, name='Julian Alvarez', starting=None, starting_position=<PositionType.Striker: ('Striker', 'ST', 'Attacker')>, positions=<TimeContainer>, attributes={}), Player(player_id='8023', team=..., jersey_no=25, first_name=None, last_name=None, name='Lisandro Martinez', starting=None, starting_position=<PositionType.LeftCenterBack: ('Left Center Back', 'LCB', 'CenterBack')>, positions=<TimeContainer>, attributes={}), Player(player_id='1706', team=..., jersey_no=12, first_name=None, last_name=None, name='Geronimo Rulli', starting=None, starting_position=<PositionType.Goalkeeper: ('Goalkeeper', 'GK', None)>, positions=<TimeContainer>, attributes={}), Player(player_id='5116', team=..., jersey_no=13, first_name=None, last_name=None, name='Cristian Romero', starting=None, starting_position=<PositionType.RightCenterBack: ('Right Center Back', 'RCB', 'CenterBack')>, positions=<TimeContainer>, attributes={}), Player(player_id='144', team=..., jersey_no=23, first_name=None, last_name=None, name='Emiliano Martínez', starting=None, starting_position=<PositionType.Goalkeeper: ('Goalkeeper', 'GK', None)>, positions=<TimeContainer>, attributes={}), Player(player_id='1877', team=..., jersey_no=18, first_name=None, last_name=None, name='Guido Rodríguez', starting=None, starting_position=<PositionType.DefensiveMidfield: ('Defensive Midfield', 'DM', 'Midfielder')>, positions=<TimeContainer>, attributes={}), Player(player_id='8420', team=..., jersey_no=17, first_name=None, last_name=None, name='Papu Gómez', starting=None, starting_position=<PositionType.AttackingMidfield: ('Attacking Midfield', 'AM', 'Midfielder')>, positions=<TimeContainer>, attributes={}), Player(player_id='7757', team=..., jersey_no=16, first_name=None, last_name=None, name='Thiago Almada', starting=None, starting_position=<PositionType.AttackingMidfield: ('Attacking Midfield', 'AM', 'Midfielder')>, positions=<TimeContainer>, attributes={}), Player(player_id='453', team=..., jersey_no=20, first_name=None, last_name=None, name='Alexis Mac Allister', starting=None, starting_position=<PositionType.CenterMidfield: ('Center Midfield', 'CM', 'CentralMidfield')>, positions=<TimeContainer>, attributes={}), Player(player_id='3856', team=..., jersey_no=5, first_name=None, last_name=None, name='Leandro Paredes', starting=None, starting_position=<PositionType.DefensiveMidfield: ('Defensive Midfield', 'DM', 'Midfielder')>, positions=<TimeContainer>, attributes={}), Player(player_id='9178', team=..., jersey_no=8, first_name=None, last_name=None, name='Marcos Acuña', starting=None, starting_position=<PositionType.LeftBack: ('Left Back', 'LB', 'FullBack')>, positions=<TimeContainer>, attributes={}), Player(player_id='4590', team=..., jersey_no=14, first_name=None, last_name=None, name='Exequiel Palacios', starting=None, starting_position=<PositionType.CenterMidfield: ('Center Midfield', 'CM', 'CentralMidfield')>, positions=<TimeContainer>, attributes={}), Player(player_id='13903', team=..., jersey_no=1, first_name=None, last_name=None, name='Franco Armani', starting=None, starting_position=<PositionType.Goalkeeper: ('Goalkeeper', 'GK', None)>, positions=<TimeContainer>, attributes={}), Player(player_id='8138', team=..., jersey_no=22, first_name=None, last_name=None, name='Lautaro Martinez', starting=None, starting_position=<PositionType.Striker: ('Striker', 'ST', 'Attacker')>, positions=<TimeContainer>, attributes={}), ..., Player(player_id='13226', team=..., jersey_no=6, first_name=None, last_name=None, name='German Pezzella', starting=None, starting_position=<PositionType.RightCenterBack: ('Right Center Back', 'RCB', 'CenterBack')>, positions=<TimeContainer>, attributes={}), Player(player_id='6895', team=..., jersey_no=7, first_name=None, last_name=None, name='Rodrigo de Paul', starting=None, starting_position=<PositionType.CenterMidfield: ('Center Midfield', 'CM', 'CentralMidfield')>, positions=<TimeContainer>, attributes={}), Player(player_id='3868', team=..., jersey_no=11, first_name=None, last_name=None, name='Ángel Di María', starting=None, starting_position=<PositionType.LeftWing: ('Left Wing', 'LW', 'WideMidfield')>, positions=<TimeContainer>, attributes={}), Player(player_id='68', team=..., jersey_no=2, first_name=None, last_name=None, name='Juan Foyth', starting=None, starting_position=<PositionType.RightBack: ('Right Back', 'RB', 'FullBack')>, positions=<TimeContainer>, attributes={}), Player(player_id='11', team=..., jersey_no=19, first_name=None, last_name=None, name='Nicolás Otamendi', starting=None, starting_position=<PositionType.LeftCenterBack: ('Left Center Back', 'LCB', 'CenterBack')>, positions=<TimeContainer>, attributes={}), Player(player_id='1531', team=..., jersey_no=10, first_name=None, last_name=None, name='Lionel Messi', starting=None, starting_position=<PositionType.RightWing: ('Right Wing', 'RW', 'WideMidfield')>, positions=<TimeContainer>, attributes={}), Player(player_id='8419', team=..., jersey_no=4, first_name=None, last_name=None, name='Gonzalo Montiel', starting=None, starting_position=<PositionType.RightBack: ('Right Back', 'RB', 'FullBack')>, positions=<TimeContainer>, attributes={})]), jersey_no=24, first_name=None, last_name=None, name='Enzo Fernandez', starting=None, starting_position=<PositionType.CenterMidfield: ('Center Midfield', 'CM', 'CentralMidfield')>, positions=<TimeContainer>, attributes={}),\n",
       " Player(player_id='13226', team=Team(team_id='364', name='Argentina', ground=home, starting_formation=None, formations=<TimeContainer>, players=[Player(player_id='13222', team=..., jersey_no=26, first_name=None, last_name=None, name='Nahuel Molina', starting=None, starting_position=<PositionType.RightBack: ('Right Back', 'RB', 'FullBack')>, positions=<TimeContainer>, attributes={}), Player(player_id='8058', team=..., jersey_no=21, first_name=None, last_name=None, name='Paulo Dybala', starting=None, starting_position=<PositionType.Striker: ('Striker', 'ST', 'Attacker')>, positions=<TimeContainer>, attributes={}), Player(player_id='8025', team=..., jersey_no=3, first_name=None, last_name=None, name='Nicolas Tagliafico', starting=None, starting_position=<PositionType.LeftBack: ('Left Back', 'LB', 'FullBack')>, positions=<TimeContainer>, attributes={}), Player(player_id='1389', team=..., jersey_no=15, first_name=None, last_name=None, name='Angel Correa', starting=None, starting_position=<PositionType.Striker: ('Striker', 'ST', 'Attacker')>, positions=<TimeContainer>, attributes={}), Player(player_id='10715', team=..., jersey_no=9, first_name=None, last_name=None, name='Julian Alvarez', starting=None, starting_position=<PositionType.Striker: ('Striker', 'ST', 'Attacker')>, positions=<TimeContainer>, attributes={}), Player(player_id='8023', team=..., jersey_no=25, first_name=None, last_name=None, name='Lisandro Martinez', starting=None, starting_position=<PositionType.LeftCenterBack: ('Left Center Back', 'LCB', 'CenterBack')>, positions=<TimeContainer>, attributes={}), Player(player_id='1706', team=..., jersey_no=12, first_name=None, last_name=None, name='Geronimo Rulli', starting=None, starting_position=<PositionType.Goalkeeper: ('Goalkeeper', 'GK', None)>, positions=<TimeContainer>, attributes={}), Player(player_id='5116', team=..., jersey_no=13, first_name=None, last_name=None, name='Cristian Romero', starting=None, starting_position=<PositionType.RightCenterBack: ('Right Center Back', 'RCB', 'CenterBack')>, positions=<TimeContainer>, attributes={}), Player(player_id='144', team=..., jersey_no=23, first_name=None, last_name=None, name='Emiliano Martínez', starting=None, starting_position=<PositionType.Goalkeeper: ('Goalkeeper', 'GK', None)>, positions=<TimeContainer>, attributes={}), Player(player_id='1877', team=..., jersey_no=18, first_name=None, last_name=None, name='Guido Rodríguez', starting=None, starting_position=<PositionType.DefensiveMidfield: ('Defensive Midfield', 'DM', 'Midfielder')>, positions=<TimeContainer>, attributes={}), Player(player_id='8420', team=..., jersey_no=17, first_name=None, last_name=None, name='Papu Gómez', starting=None, starting_position=<PositionType.AttackingMidfield: ('Attacking Midfield', 'AM', 'Midfielder')>, positions=<TimeContainer>, attributes={}), Player(player_id='7757', team=..., jersey_no=16, first_name=None, last_name=None, name='Thiago Almada', starting=None, starting_position=<PositionType.AttackingMidfield: ('Attacking Midfield', 'AM', 'Midfielder')>, positions=<TimeContainer>, attributes={}), Player(player_id='453', team=..., jersey_no=20, first_name=None, last_name=None, name='Alexis Mac Allister', starting=None, starting_position=<PositionType.CenterMidfield: ('Center Midfield', 'CM', 'CentralMidfield')>, positions=<TimeContainer>, attributes={}), Player(player_id='3856', team=..., jersey_no=5, first_name=None, last_name=None, name='Leandro Paredes', starting=None, starting_position=<PositionType.DefensiveMidfield: ('Defensive Midfield', 'DM', 'Midfielder')>, positions=<TimeContainer>, attributes={}), Player(player_id='9178', team=..., jersey_no=8, first_name=None, last_name=None, name='Marcos Acuña', starting=None, starting_position=<PositionType.LeftBack: ('Left Back', 'LB', 'FullBack')>, positions=<TimeContainer>, attributes={}), Player(player_id='4590', team=..., jersey_no=14, first_name=None, last_name=None, name='Exequiel Palacios', starting=None, starting_position=<PositionType.CenterMidfield: ('Center Midfield', 'CM', 'CentralMidfield')>, positions=<TimeContainer>, attributes={}), Player(player_id='13903', team=..., jersey_no=1, first_name=None, last_name=None, name='Franco Armani', starting=None, starting_position=<PositionType.Goalkeeper: ('Goalkeeper', 'GK', None)>, positions=<TimeContainer>, attributes={}), Player(player_id='8138', team=..., jersey_no=22, first_name=None, last_name=None, name='Lautaro Martinez', starting=None, starting_position=<PositionType.Striker: ('Striker', 'ST', 'Attacker')>, positions=<TimeContainer>, attributes={}), Player(player_id='11856', team=..., jersey_no=24, first_name=None, last_name=None, name='Enzo Fernandez', starting=None, starting_position=<PositionType.CenterMidfield: ('Center Midfield', 'CM', 'CentralMidfield')>, positions=<TimeContainer>, attributes={}), ..., Player(player_id='6895', team=..., jersey_no=7, first_name=None, last_name=None, name='Rodrigo de Paul', starting=None, starting_position=<PositionType.CenterMidfield: ('Center Midfield', 'CM', 'CentralMidfield')>, positions=<TimeContainer>, attributes={}), Player(player_id='3868', team=..., jersey_no=11, first_name=None, last_name=None, name='Ángel Di María', starting=None, starting_position=<PositionType.LeftWing: ('Left Wing', 'LW', 'WideMidfield')>, positions=<TimeContainer>, attributes={}), Player(player_id='68', team=..., jersey_no=2, first_name=None, last_name=None, name='Juan Foyth', starting=None, starting_position=<PositionType.RightBack: ('Right Back', 'RB', 'FullBack')>, positions=<TimeContainer>, attributes={}), Player(player_id='11', team=..., jersey_no=19, first_name=None, last_name=None, name='Nicolás Otamendi', starting=None, starting_position=<PositionType.LeftCenterBack: ('Left Center Back', 'LCB', 'CenterBack')>, positions=<TimeContainer>, attributes={}), Player(player_id='1531', team=..., jersey_no=10, first_name=None, last_name=None, name='Lionel Messi', starting=None, starting_position=<PositionType.RightWing: ('Right Wing', 'RW', 'WideMidfield')>, positions=<TimeContainer>, attributes={}), Player(player_id='8419', team=..., jersey_no=4, first_name=None, last_name=None, name='Gonzalo Montiel', starting=None, starting_position=<PositionType.RightBack: ('Right Back', 'RB', 'FullBack')>, positions=<TimeContainer>, attributes={})]), jersey_no=6, first_name=None, last_name=None, name='German Pezzella', starting=None, starting_position=<PositionType.RightCenterBack: ('Right Center Back', 'RCB', 'CenterBack')>, positions=<TimeContainer>, attributes={}),\n",
       " Player(player_id='6895', team=Team(team_id='364', name='Argentina', ground=home, starting_formation=None, formations=<TimeContainer>, players=[Player(player_id='13222', team=..., jersey_no=26, first_name=None, last_name=None, name='Nahuel Molina', starting=None, starting_position=<PositionType.RightBack: ('Right Back', 'RB', 'FullBack')>, positions=<TimeContainer>, attributes={}), Player(player_id='8058', team=..., jersey_no=21, first_name=None, last_name=None, name='Paulo Dybala', starting=None, starting_position=<PositionType.Striker: ('Striker', 'ST', 'Attacker')>, positions=<TimeContainer>, attributes={}), Player(player_id='8025', team=..., jersey_no=3, first_name=None, last_name=None, name='Nicolas Tagliafico', starting=None, starting_position=<PositionType.LeftBack: ('Left Back', 'LB', 'FullBack')>, positions=<TimeContainer>, attributes={}), Player(player_id='1389', team=..., jersey_no=15, first_name=None, last_name=None, name='Angel Correa', starting=None, starting_position=<PositionType.Striker: ('Striker', 'ST', 'Attacker')>, positions=<TimeContainer>, attributes={}), Player(player_id='10715', team=..., jersey_no=9, first_name=None, last_name=None, name='Julian Alvarez', starting=None, starting_position=<PositionType.Striker: ('Striker', 'ST', 'Attacker')>, positions=<TimeContainer>, attributes={}), Player(player_id='8023', team=..., jersey_no=25, first_name=None, last_name=None, name='Lisandro Martinez', starting=None, starting_position=<PositionType.LeftCenterBack: ('Left Center Back', 'LCB', 'CenterBack')>, positions=<TimeContainer>, attributes={}), Player(player_id='1706', team=..., jersey_no=12, first_name=None, last_name=None, name='Geronimo Rulli', starting=None, starting_position=<PositionType.Goalkeeper: ('Goalkeeper', 'GK', None)>, positions=<TimeContainer>, attributes={}), Player(player_id='5116', team=..., jersey_no=13, first_name=None, last_name=None, name='Cristian Romero', starting=None, starting_position=<PositionType.RightCenterBack: ('Right Center Back', 'RCB', 'CenterBack')>, positions=<TimeContainer>, attributes={}), Player(player_id='144', team=..., jersey_no=23, first_name=None, last_name=None, name='Emiliano Martínez', starting=None, starting_position=<PositionType.Goalkeeper: ('Goalkeeper', 'GK', None)>, positions=<TimeContainer>, attributes={}), Player(player_id='1877', team=..., jersey_no=18, first_name=None, last_name=None, name='Guido Rodríguez', starting=None, starting_position=<PositionType.DefensiveMidfield: ('Defensive Midfield', 'DM', 'Midfielder')>, positions=<TimeContainer>, attributes={}), Player(player_id='8420', team=..., jersey_no=17, first_name=None, last_name=None, name='Papu Gómez', starting=None, starting_position=<PositionType.AttackingMidfield: ('Attacking Midfield', 'AM', 'Midfielder')>, positions=<TimeContainer>, attributes={}), Player(player_id='7757', team=..., jersey_no=16, first_name=None, last_name=None, name='Thiago Almada', starting=None, starting_position=<PositionType.AttackingMidfield: ('Attacking Midfield', 'AM', 'Midfielder')>, positions=<TimeContainer>, attributes={}), Player(player_id='453', team=..., jersey_no=20, first_name=None, last_name=None, name='Alexis Mac Allister', starting=None, starting_position=<PositionType.CenterMidfield: ('Center Midfield', 'CM', 'CentralMidfield')>, positions=<TimeContainer>, attributes={}), Player(player_id='3856', team=..., jersey_no=5, first_name=None, last_name=None, name='Leandro Paredes', starting=None, starting_position=<PositionType.DefensiveMidfield: ('Defensive Midfield', 'DM', 'Midfielder')>, positions=<TimeContainer>, attributes={}), Player(player_id='9178', team=..., jersey_no=8, first_name=None, last_name=None, name='Marcos Acuña', starting=None, starting_position=<PositionType.LeftBack: ('Left Back', 'LB', 'FullBack')>, positions=<TimeContainer>, attributes={}), Player(player_id='4590', team=..., jersey_no=14, first_name=None, last_name=None, name='Exequiel Palacios', starting=None, starting_position=<PositionType.CenterMidfield: ('Center Midfield', 'CM', 'CentralMidfield')>, positions=<TimeContainer>, attributes={}), Player(player_id='13903', team=..., jersey_no=1, first_name=None, last_name=None, name='Franco Armani', starting=None, starting_position=<PositionType.Goalkeeper: ('Goalkeeper', 'GK', None)>, positions=<TimeContainer>, attributes={}), Player(player_id='8138', team=..., jersey_no=22, first_name=None, last_name=None, name='Lautaro Martinez', starting=None, starting_position=<PositionType.Striker: ('Striker', 'ST', 'Attacker')>, positions=<TimeContainer>, attributes={}), Player(player_id='11856', team=..., jersey_no=24, first_name=None, last_name=None, name='Enzo Fernandez', starting=None, starting_position=<PositionType.CenterMidfield: ('Center Midfield', 'CM', 'CentralMidfield')>, positions=<TimeContainer>, attributes={}), Player(player_id='13226', team=..., jersey_no=6, first_name=None, last_name=None, name='German Pezzella', starting=None, starting_position=<PositionType.RightCenterBack: ('Right Center Back', 'RCB', 'CenterBack')>, positions=<TimeContainer>, attributes={}), ..., Player(player_id='3868', team=..., jersey_no=11, first_name=None, last_name=None, name='Ángel Di María', starting=None, starting_position=<PositionType.LeftWing: ('Left Wing', 'LW', 'WideMidfield')>, positions=<TimeContainer>, attributes={}), Player(player_id='68', team=..., jersey_no=2, first_name=None, last_name=None, name='Juan Foyth', starting=None, starting_position=<PositionType.RightBack: ('Right Back', 'RB', 'FullBack')>, positions=<TimeContainer>, attributes={}), Player(player_id='11', team=..., jersey_no=19, first_name=None, last_name=None, name='Nicolás Otamendi', starting=None, starting_position=<PositionType.LeftCenterBack: ('Left Center Back', 'LCB', 'CenterBack')>, positions=<TimeContainer>, attributes={}), Player(player_id='1531', team=..., jersey_no=10, first_name=None, last_name=None, name='Lionel Messi', starting=None, starting_position=<PositionType.RightWing: ('Right Wing', 'RW', 'WideMidfield')>, positions=<TimeContainer>, attributes={}), Player(player_id='8419', team=..., jersey_no=4, first_name=None, last_name=None, name='Gonzalo Montiel', starting=None, starting_position=<PositionType.RightBack: ('Right Back', 'RB', 'FullBack')>, positions=<TimeContainer>, attributes={})]), jersey_no=7, first_name=None, last_name=None, name='Rodrigo de Paul', starting=None, starting_position=<PositionType.CenterMidfield: ('Center Midfield', 'CM', 'CentralMidfield')>, positions=<TimeContainer>, attributes={}),\n",
       " Player(player_id='3868', team=Team(team_id='364', name='Argentina', ground=home, starting_formation=None, formations=<TimeContainer>, players=[Player(player_id='13222', team=..., jersey_no=26, first_name=None, last_name=None, name='Nahuel Molina', starting=None, starting_position=<PositionType.RightBack: ('Right Back', 'RB', 'FullBack')>, positions=<TimeContainer>, attributes={}), Player(player_id='8058', team=..., jersey_no=21, first_name=None, last_name=None, name='Paulo Dybala', starting=None, starting_position=<PositionType.Striker: ('Striker', 'ST', 'Attacker')>, positions=<TimeContainer>, attributes={}), Player(player_id='8025', team=..., jersey_no=3, first_name=None, last_name=None, name='Nicolas Tagliafico', starting=None, starting_position=<PositionType.LeftBack: ('Left Back', 'LB', 'FullBack')>, positions=<TimeContainer>, attributes={}), Player(player_id='1389', team=..., jersey_no=15, first_name=None, last_name=None, name='Angel Correa', starting=None, starting_position=<PositionType.Striker: ('Striker', 'ST', 'Attacker')>, positions=<TimeContainer>, attributes={}), Player(player_id='10715', team=..., jersey_no=9, first_name=None, last_name=None, name='Julian Alvarez', starting=None, starting_position=<PositionType.Striker: ('Striker', 'ST', 'Attacker')>, positions=<TimeContainer>, attributes={}), Player(player_id='8023', team=..., jersey_no=25, first_name=None, last_name=None, name='Lisandro Martinez', starting=None, starting_position=<PositionType.LeftCenterBack: ('Left Center Back', 'LCB', 'CenterBack')>, positions=<TimeContainer>, attributes={}), Player(player_id='1706', team=..., jersey_no=12, first_name=None, last_name=None, name='Geronimo Rulli', starting=None, starting_position=<PositionType.Goalkeeper: ('Goalkeeper', 'GK', None)>, positions=<TimeContainer>, attributes={}), Player(player_id='5116', team=..., jersey_no=13, first_name=None, last_name=None, name='Cristian Romero', starting=None, starting_position=<PositionType.RightCenterBack: ('Right Center Back', 'RCB', 'CenterBack')>, positions=<TimeContainer>, attributes={}), Player(player_id='144', team=..., jersey_no=23, first_name=None, last_name=None, name='Emiliano Martínez', starting=None, starting_position=<PositionType.Goalkeeper: ('Goalkeeper', 'GK', None)>, positions=<TimeContainer>, attributes={}), Player(player_id='1877', team=..., jersey_no=18, first_name=None, last_name=None, name='Guido Rodríguez', starting=None, starting_position=<PositionType.DefensiveMidfield: ('Defensive Midfield', 'DM', 'Midfielder')>, positions=<TimeContainer>, attributes={}), Player(player_id='8420', team=..., jersey_no=17, first_name=None, last_name=None, name='Papu Gómez', starting=None, starting_position=<PositionType.AttackingMidfield: ('Attacking Midfield', 'AM', 'Midfielder')>, positions=<TimeContainer>, attributes={}), Player(player_id='7757', team=..., jersey_no=16, first_name=None, last_name=None, name='Thiago Almada', starting=None, starting_position=<PositionType.AttackingMidfield: ('Attacking Midfield', 'AM', 'Midfielder')>, positions=<TimeContainer>, attributes={}), Player(player_id='453', team=..., jersey_no=20, first_name=None, last_name=None, name='Alexis Mac Allister', starting=None, starting_position=<PositionType.CenterMidfield: ('Center Midfield', 'CM', 'CentralMidfield')>, positions=<TimeContainer>, attributes={}), Player(player_id='3856', team=..., jersey_no=5, first_name=None, last_name=None, name='Leandro Paredes', starting=None, starting_position=<PositionType.DefensiveMidfield: ('Defensive Midfield', 'DM', 'Midfielder')>, positions=<TimeContainer>, attributes={}), Player(player_id='9178', team=..., jersey_no=8, first_name=None, last_name=None, name='Marcos Acuña', starting=None, starting_position=<PositionType.LeftBack: ('Left Back', 'LB', 'FullBack')>, positions=<TimeContainer>, attributes={}), Player(player_id='4590', team=..., jersey_no=14, first_name=None, last_name=None, name='Exequiel Palacios', starting=None, starting_position=<PositionType.CenterMidfield: ('Center Midfield', 'CM', 'CentralMidfield')>, positions=<TimeContainer>, attributes={}), Player(player_id='13903', team=..., jersey_no=1, first_name=None, last_name=None, name='Franco Armani', starting=None, starting_position=<PositionType.Goalkeeper: ('Goalkeeper', 'GK', None)>, positions=<TimeContainer>, attributes={}), Player(player_id='8138', team=..., jersey_no=22, first_name=None, last_name=None, name='Lautaro Martinez', starting=None, starting_position=<PositionType.Striker: ('Striker', 'ST', 'Attacker')>, positions=<TimeContainer>, attributes={}), Player(player_id='11856', team=..., jersey_no=24, first_name=None, last_name=None, name='Enzo Fernandez', starting=None, starting_position=<PositionType.CenterMidfield: ('Center Midfield', 'CM', 'CentralMidfield')>, positions=<TimeContainer>, attributes={}), Player(player_id='13226', team=..., jersey_no=6, first_name=None, last_name=None, name='German Pezzella', starting=None, starting_position=<PositionType.RightCenterBack: ('Right Center Back', 'RCB', 'CenterBack')>, positions=<TimeContainer>, attributes={}), Player(player_id='6895', team=..., jersey_no=7, first_name=None, last_name=None, name='Rodrigo de Paul', starting=None, starting_position=<PositionType.CenterMidfield: ('Center Midfield', 'CM', 'CentralMidfield')>, positions=<TimeContainer>, attributes={}), ..., Player(player_id='68', team=..., jersey_no=2, first_name=None, last_name=None, name='Juan Foyth', starting=None, starting_position=<PositionType.RightBack: ('Right Back', 'RB', 'FullBack')>, positions=<TimeContainer>, attributes={}), Player(player_id='11', team=..., jersey_no=19, first_name=None, last_name=None, name='Nicolás Otamendi', starting=None, starting_position=<PositionType.LeftCenterBack: ('Left Center Back', 'LCB', 'CenterBack')>, positions=<TimeContainer>, attributes={}), Player(player_id='1531', team=..., jersey_no=10, first_name=None, last_name=None, name='Lionel Messi', starting=None, starting_position=<PositionType.RightWing: ('Right Wing', 'RW', 'WideMidfield')>, positions=<TimeContainer>, attributes={}), Player(player_id='8419', team=..., jersey_no=4, first_name=None, last_name=None, name='Gonzalo Montiel', starting=None, starting_position=<PositionType.RightBack: ('Right Back', 'RB', 'FullBack')>, positions=<TimeContainer>, attributes={})]), jersey_no=11, first_name=None, last_name=None, name='Ángel Di María', starting=None, starting_position=<PositionType.LeftWing: ('Left Wing', 'LW', 'WideMidfield')>, positions=<TimeContainer>, attributes={}),\n",
       " Player(player_id='68', team=Team(team_id='364', name='Argentina', ground=home, starting_formation=None, formations=<TimeContainer>, players=[Player(player_id='13222', team=..., jersey_no=26, first_name=None, last_name=None, name='Nahuel Molina', starting=None, starting_position=<PositionType.RightBack: ('Right Back', 'RB', 'FullBack')>, positions=<TimeContainer>, attributes={}), Player(player_id='8058', team=..., jersey_no=21, first_name=None, last_name=None, name='Paulo Dybala', starting=None, starting_position=<PositionType.Striker: ('Striker', 'ST', 'Attacker')>, positions=<TimeContainer>, attributes={}), Player(player_id='8025', team=..., jersey_no=3, first_name=None, last_name=None, name='Nicolas Tagliafico', starting=None, starting_position=<PositionType.LeftBack: ('Left Back', 'LB', 'FullBack')>, positions=<TimeContainer>, attributes={}), Player(player_id='1389', team=..., jersey_no=15, first_name=None, last_name=None, name='Angel Correa', starting=None, starting_position=<PositionType.Striker: ('Striker', 'ST', 'Attacker')>, positions=<TimeContainer>, attributes={}), Player(player_id='10715', team=..., jersey_no=9, first_name=None, last_name=None, name='Julian Alvarez', starting=None, starting_position=<PositionType.Striker: ('Striker', 'ST', 'Attacker')>, positions=<TimeContainer>, attributes={}), Player(player_id='8023', team=..., jersey_no=25, first_name=None, last_name=None, name='Lisandro Martinez', starting=None, starting_position=<PositionType.LeftCenterBack: ('Left Center Back', 'LCB', 'CenterBack')>, positions=<TimeContainer>, attributes={}), Player(player_id='1706', team=..., jersey_no=12, first_name=None, last_name=None, name='Geronimo Rulli', starting=None, starting_position=<PositionType.Goalkeeper: ('Goalkeeper', 'GK', None)>, positions=<TimeContainer>, attributes={}), Player(player_id='5116', team=..., jersey_no=13, first_name=None, last_name=None, name='Cristian Romero', starting=None, starting_position=<PositionType.RightCenterBack: ('Right Center Back', 'RCB', 'CenterBack')>, positions=<TimeContainer>, attributes={}), Player(player_id='144', team=..., jersey_no=23, first_name=None, last_name=None, name='Emiliano Martínez', starting=None, starting_position=<PositionType.Goalkeeper: ('Goalkeeper', 'GK', None)>, positions=<TimeContainer>, attributes={}), Player(player_id='1877', team=..., jersey_no=18, first_name=None, last_name=None, name='Guido Rodríguez', starting=None, starting_position=<PositionType.DefensiveMidfield: ('Defensive Midfield', 'DM', 'Midfielder')>, positions=<TimeContainer>, attributes={}), Player(player_id='8420', team=..., jersey_no=17, first_name=None, last_name=None, name='Papu Gómez', starting=None, starting_position=<PositionType.AttackingMidfield: ('Attacking Midfield', 'AM', 'Midfielder')>, positions=<TimeContainer>, attributes={}), Player(player_id='7757', team=..., jersey_no=16, first_name=None, last_name=None, name='Thiago Almada', starting=None, starting_position=<PositionType.AttackingMidfield: ('Attacking Midfield', 'AM', 'Midfielder')>, positions=<TimeContainer>, attributes={}), Player(player_id='453', team=..., jersey_no=20, first_name=None, last_name=None, name='Alexis Mac Allister', starting=None, starting_position=<PositionType.CenterMidfield: ('Center Midfield', 'CM', 'CentralMidfield')>, positions=<TimeContainer>, attributes={}), Player(player_id='3856', team=..., jersey_no=5, first_name=None, last_name=None, name='Leandro Paredes', starting=None, starting_position=<PositionType.DefensiveMidfield: ('Defensive Midfield', 'DM', 'Midfielder')>, positions=<TimeContainer>, attributes={}), Player(player_id='9178', team=..., jersey_no=8, first_name=None, last_name=None, name='Marcos Acuña', starting=None, starting_position=<PositionType.LeftBack: ('Left Back', 'LB', 'FullBack')>, positions=<TimeContainer>, attributes={}), Player(player_id='4590', team=..., jersey_no=14, first_name=None, last_name=None, name='Exequiel Palacios', starting=None, starting_position=<PositionType.CenterMidfield: ('Center Midfield', 'CM', 'CentralMidfield')>, positions=<TimeContainer>, attributes={}), Player(player_id='13903', team=..., jersey_no=1, first_name=None, last_name=None, name='Franco Armani', starting=None, starting_position=<PositionType.Goalkeeper: ('Goalkeeper', 'GK', None)>, positions=<TimeContainer>, attributes={}), Player(player_id='8138', team=..., jersey_no=22, first_name=None, last_name=None, name='Lautaro Martinez', starting=None, starting_position=<PositionType.Striker: ('Striker', 'ST', 'Attacker')>, positions=<TimeContainer>, attributes={}), Player(player_id='11856', team=..., jersey_no=24, first_name=None, last_name=None, name='Enzo Fernandez', starting=None, starting_position=<PositionType.CenterMidfield: ('Center Midfield', 'CM', 'CentralMidfield')>, positions=<TimeContainer>, attributes={}), Player(player_id='13226', team=..., jersey_no=6, first_name=None, last_name=None, name='German Pezzella', starting=None, starting_position=<PositionType.RightCenterBack: ('Right Center Back', 'RCB', 'CenterBack')>, positions=<TimeContainer>, attributes={}), Player(player_id='6895', team=..., jersey_no=7, first_name=None, last_name=None, name='Rodrigo de Paul', starting=None, starting_position=<PositionType.CenterMidfield: ('Center Midfield', 'CM', 'CentralMidfield')>, positions=<TimeContainer>, attributes={}), Player(player_id='3868', team=..., jersey_no=11, first_name=None, last_name=None, name='Ángel Di María', starting=None, starting_position=<PositionType.LeftWing: ('Left Wing', 'LW', 'WideMidfield')>, positions=<TimeContainer>, attributes={}), ..., Player(player_id='11', team=..., jersey_no=19, first_name=None, last_name=None, name='Nicolás Otamendi', starting=None, starting_position=<PositionType.LeftCenterBack: ('Left Center Back', 'LCB', 'CenterBack')>, positions=<TimeContainer>, attributes={}), Player(player_id='1531', team=..., jersey_no=10, first_name=None, last_name=None, name='Lionel Messi', starting=None, starting_position=<PositionType.RightWing: ('Right Wing', 'RW', 'WideMidfield')>, positions=<TimeContainer>, attributes={}), Player(player_id='8419', team=..., jersey_no=4, first_name=None, last_name=None, name='Gonzalo Montiel', starting=None, starting_position=<PositionType.RightBack: ('Right Back', 'RB', 'FullBack')>, positions=<TimeContainer>, attributes={})]), jersey_no=2, first_name=None, last_name=None, name='Juan Foyth', starting=None, starting_position=<PositionType.RightBack: ('Right Back', 'RB', 'FullBack')>, positions=<TimeContainer>, attributes={}),\n",
       " Player(player_id='11', team=Team(team_id='364', name='Argentina', ground=home, starting_formation=None, formations=<TimeContainer>, players=[Player(player_id='13222', team=..., jersey_no=26, first_name=None, last_name=None, name='Nahuel Molina', starting=None, starting_position=<PositionType.RightBack: ('Right Back', 'RB', 'FullBack')>, positions=<TimeContainer>, attributes={}), Player(player_id='8058', team=..., jersey_no=21, first_name=None, last_name=None, name='Paulo Dybala', starting=None, starting_position=<PositionType.Striker: ('Striker', 'ST', 'Attacker')>, positions=<TimeContainer>, attributes={}), Player(player_id='8025', team=..., jersey_no=3, first_name=None, last_name=None, name='Nicolas Tagliafico', starting=None, starting_position=<PositionType.LeftBack: ('Left Back', 'LB', 'FullBack')>, positions=<TimeContainer>, attributes={}), Player(player_id='1389', team=..., jersey_no=15, first_name=None, last_name=None, name='Angel Correa', starting=None, starting_position=<PositionType.Striker: ('Striker', 'ST', 'Attacker')>, positions=<TimeContainer>, attributes={}), Player(player_id='10715', team=..., jersey_no=9, first_name=None, last_name=None, name='Julian Alvarez', starting=None, starting_position=<PositionType.Striker: ('Striker', 'ST', 'Attacker')>, positions=<TimeContainer>, attributes={}), Player(player_id='8023', team=..., jersey_no=25, first_name=None, last_name=None, name='Lisandro Martinez', starting=None, starting_position=<PositionType.LeftCenterBack: ('Left Center Back', 'LCB', 'CenterBack')>, positions=<TimeContainer>, attributes={}), Player(player_id='1706', team=..., jersey_no=12, first_name=None, last_name=None, name='Geronimo Rulli', starting=None, starting_position=<PositionType.Goalkeeper: ('Goalkeeper', 'GK', None)>, positions=<TimeContainer>, attributes={}), Player(player_id='5116', team=..., jersey_no=13, first_name=None, last_name=None, name='Cristian Romero', starting=None, starting_position=<PositionType.RightCenterBack: ('Right Center Back', 'RCB', 'CenterBack')>, positions=<TimeContainer>, attributes={}), Player(player_id='144', team=..., jersey_no=23, first_name=None, last_name=None, name='Emiliano Martínez', starting=None, starting_position=<PositionType.Goalkeeper: ('Goalkeeper', 'GK', None)>, positions=<TimeContainer>, attributes={}), Player(player_id='1877', team=..., jersey_no=18, first_name=None, last_name=None, name='Guido Rodríguez', starting=None, starting_position=<PositionType.DefensiveMidfield: ('Defensive Midfield', 'DM', 'Midfielder')>, positions=<TimeContainer>, attributes={}), Player(player_id='8420', team=..., jersey_no=17, first_name=None, last_name=None, name='Papu Gómez', starting=None, starting_position=<PositionType.AttackingMidfield: ('Attacking Midfield', 'AM', 'Midfielder')>, positions=<TimeContainer>, attributes={}), Player(player_id='7757', team=..., jersey_no=16, first_name=None, last_name=None, name='Thiago Almada', starting=None, starting_position=<PositionType.AttackingMidfield: ('Attacking Midfield', 'AM', 'Midfielder')>, positions=<TimeContainer>, attributes={}), Player(player_id='453', team=..., jersey_no=20, first_name=None, last_name=None, name='Alexis Mac Allister', starting=None, starting_position=<PositionType.CenterMidfield: ('Center Midfield', 'CM', 'CentralMidfield')>, positions=<TimeContainer>, attributes={}), Player(player_id='3856', team=..., jersey_no=5, first_name=None, last_name=None, name='Leandro Paredes', starting=None, starting_position=<PositionType.DefensiveMidfield: ('Defensive Midfield', 'DM', 'Midfielder')>, positions=<TimeContainer>, attributes={}), Player(player_id='9178', team=..., jersey_no=8, first_name=None, last_name=None, name='Marcos Acuña', starting=None, starting_position=<PositionType.LeftBack: ('Left Back', 'LB', 'FullBack')>, positions=<TimeContainer>, attributes={}), Player(player_id='4590', team=..., jersey_no=14, first_name=None, last_name=None, name='Exequiel Palacios', starting=None, starting_position=<PositionType.CenterMidfield: ('Center Midfield', 'CM', 'CentralMidfield')>, positions=<TimeContainer>, attributes={}), Player(player_id='13903', team=..., jersey_no=1, first_name=None, last_name=None, name='Franco Armani', starting=None, starting_position=<PositionType.Goalkeeper: ('Goalkeeper', 'GK', None)>, positions=<TimeContainer>, attributes={}), Player(player_id='8138', team=..., jersey_no=22, first_name=None, last_name=None, name='Lautaro Martinez', starting=None, starting_position=<PositionType.Striker: ('Striker', 'ST', 'Attacker')>, positions=<TimeContainer>, attributes={}), Player(player_id='11856', team=..., jersey_no=24, first_name=None, last_name=None, name='Enzo Fernandez', starting=None, starting_position=<PositionType.CenterMidfield: ('Center Midfield', 'CM', 'CentralMidfield')>, positions=<TimeContainer>, attributes={}), Player(player_id='13226', team=..., jersey_no=6, first_name=None, last_name=None, name='German Pezzella', starting=None, starting_position=<PositionType.RightCenterBack: ('Right Center Back', 'RCB', 'CenterBack')>, positions=<TimeContainer>, attributes={}), Player(player_id='6895', team=..., jersey_no=7, first_name=None, last_name=None, name='Rodrigo de Paul', starting=None, starting_position=<PositionType.CenterMidfield: ('Center Midfield', 'CM', 'CentralMidfield')>, positions=<TimeContainer>, attributes={}), Player(player_id='3868', team=..., jersey_no=11, first_name=None, last_name=None, name='Ángel Di María', starting=None, starting_position=<PositionType.LeftWing: ('Left Wing', 'LW', 'WideMidfield')>, positions=<TimeContainer>, attributes={}), Player(player_id='68', team=..., jersey_no=2, first_name=None, last_name=None, name='Juan Foyth', starting=None, starting_position=<PositionType.RightBack: ('Right Back', 'RB', 'FullBack')>, positions=<TimeContainer>, attributes={}), ..., Player(player_id='1531', team=..., jersey_no=10, first_name=None, last_name=None, name='Lionel Messi', starting=None, starting_position=<PositionType.RightWing: ('Right Wing', 'RW', 'WideMidfield')>, positions=<TimeContainer>, attributes={}), Player(player_id='8419', team=..., jersey_no=4, first_name=None, last_name=None, name='Gonzalo Montiel', starting=None, starting_position=<PositionType.RightBack: ('Right Back', 'RB', 'FullBack')>, positions=<TimeContainer>, attributes={})]), jersey_no=19, first_name=None, last_name=None, name='Nicolás Otamendi', starting=None, starting_position=<PositionType.LeftCenterBack: ('Left Center Back', 'LCB', 'CenterBack')>, positions=<TimeContainer>, attributes={}),\n",
       " Player(player_id='1531', team=Team(team_id='364', name='Argentina', ground=home, starting_formation=None, formations=<TimeContainer>, players=[Player(player_id='13222', team=..., jersey_no=26, first_name=None, last_name=None, name='Nahuel Molina', starting=None, starting_position=<PositionType.RightBack: ('Right Back', 'RB', 'FullBack')>, positions=<TimeContainer>, attributes={}), Player(player_id='8058', team=..., jersey_no=21, first_name=None, last_name=None, name='Paulo Dybala', starting=None, starting_position=<PositionType.Striker: ('Striker', 'ST', 'Attacker')>, positions=<TimeContainer>, attributes={}), Player(player_id='8025', team=..., jersey_no=3, first_name=None, last_name=None, name='Nicolas Tagliafico', starting=None, starting_position=<PositionType.LeftBack: ('Left Back', 'LB', 'FullBack')>, positions=<TimeContainer>, attributes={}), Player(player_id='1389', team=..., jersey_no=15, first_name=None, last_name=None, name='Angel Correa', starting=None, starting_position=<PositionType.Striker: ('Striker', 'ST', 'Attacker')>, positions=<TimeContainer>, attributes={}), Player(player_id='10715', team=..., jersey_no=9, first_name=None, last_name=None, name='Julian Alvarez', starting=None, starting_position=<PositionType.Striker: ('Striker', 'ST', 'Attacker')>, positions=<TimeContainer>, attributes={}), Player(player_id='8023', team=..., jersey_no=25, first_name=None, last_name=None, name='Lisandro Martinez', starting=None, starting_position=<PositionType.LeftCenterBack: ('Left Center Back', 'LCB', 'CenterBack')>, positions=<TimeContainer>, attributes={}), Player(player_id='1706', team=..., jersey_no=12, first_name=None, last_name=None, name='Geronimo Rulli', starting=None, starting_position=<PositionType.Goalkeeper: ('Goalkeeper', 'GK', None)>, positions=<TimeContainer>, attributes={}), Player(player_id='5116', team=..., jersey_no=13, first_name=None, last_name=None, name='Cristian Romero', starting=None, starting_position=<PositionType.RightCenterBack: ('Right Center Back', 'RCB', 'CenterBack')>, positions=<TimeContainer>, attributes={}), Player(player_id='144', team=..., jersey_no=23, first_name=None, last_name=None, name='Emiliano Martínez', starting=None, starting_position=<PositionType.Goalkeeper: ('Goalkeeper', 'GK', None)>, positions=<TimeContainer>, attributes={}), Player(player_id='1877', team=..., jersey_no=18, first_name=None, last_name=None, name='Guido Rodríguez', starting=None, starting_position=<PositionType.DefensiveMidfield: ('Defensive Midfield', 'DM', 'Midfielder')>, positions=<TimeContainer>, attributes={}), Player(player_id='8420', team=..., jersey_no=17, first_name=None, last_name=None, name='Papu Gómez', starting=None, starting_position=<PositionType.AttackingMidfield: ('Attacking Midfield', 'AM', 'Midfielder')>, positions=<TimeContainer>, attributes={}), Player(player_id='7757', team=..., jersey_no=16, first_name=None, last_name=None, name='Thiago Almada', starting=None, starting_position=<PositionType.AttackingMidfield: ('Attacking Midfield', 'AM', 'Midfielder')>, positions=<TimeContainer>, attributes={}), Player(player_id='453', team=..., jersey_no=20, first_name=None, last_name=None, name='Alexis Mac Allister', starting=None, starting_position=<PositionType.CenterMidfield: ('Center Midfield', 'CM', 'CentralMidfield')>, positions=<TimeContainer>, attributes={}), Player(player_id='3856', team=..., jersey_no=5, first_name=None, last_name=None, name='Leandro Paredes', starting=None, starting_position=<PositionType.DefensiveMidfield: ('Defensive Midfield', 'DM', 'Midfielder')>, positions=<TimeContainer>, attributes={}), Player(player_id='9178', team=..., jersey_no=8, first_name=None, last_name=None, name='Marcos Acuña', starting=None, starting_position=<PositionType.LeftBack: ('Left Back', 'LB', 'FullBack')>, positions=<TimeContainer>, attributes={}), Player(player_id='4590', team=..., jersey_no=14, first_name=None, last_name=None, name='Exequiel Palacios', starting=None, starting_position=<PositionType.CenterMidfield: ('Center Midfield', 'CM', 'CentralMidfield')>, positions=<TimeContainer>, attributes={}), Player(player_id='13903', team=..., jersey_no=1, first_name=None, last_name=None, name='Franco Armani', starting=None, starting_position=<PositionType.Goalkeeper: ('Goalkeeper', 'GK', None)>, positions=<TimeContainer>, attributes={}), Player(player_id='8138', team=..., jersey_no=22, first_name=None, last_name=None, name='Lautaro Martinez', starting=None, starting_position=<PositionType.Striker: ('Striker', 'ST', 'Attacker')>, positions=<TimeContainer>, attributes={}), Player(player_id='11856', team=..., jersey_no=24, first_name=None, last_name=None, name='Enzo Fernandez', starting=None, starting_position=<PositionType.CenterMidfield: ('Center Midfield', 'CM', 'CentralMidfield')>, positions=<TimeContainer>, attributes={}), Player(player_id='13226', team=..., jersey_no=6, first_name=None, last_name=None, name='German Pezzella', starting=None, starting_position=<PositionType.RightCenterBack: ('Right Center Back', 'RCB', 'CenterBack')>, positions=<TimeContainer>, attributes={}), Player(player_id='6895', team=..., jersey_no=7, first_name=None, last_name=None, name='Rodrigo de Paul', starting=None, starting_position=<PositionType.CenterMidfield: ('Center Midfield', 'CM', 'CentralMidfield')>, positions=<TimeContainer>, attributes={}), Player(player_id='3868', team=..., jersey_no=11, first_name=None, last_name=None, name='Ángel Di María', starting=None, starting_position=<PositionType.LeftWing: ('Left Wing', 'LW', 'WideMidfield')>, positions=<TimeContainer>, attributes={}), Player(player_id='68', team=..., jersey_no=2, first_name=None, last_name=None, name='Juan Foyth', starting=None, starting_position=<PositionType.RightBack: ('Right Back', 'RB', 'FullBack')>, positions=<TimeContainer>, attributes={}), Player(player_id='11', team=..., jersey_no=19, first_name=None, last_name=None, name='Nicolás Otamendi', starting=None, starting_position=<PositionType.LeftCenterBack: ('Left Center Back', 'LCB', 'CenterBack')>, positions=<TimeContainer>, attributes={}), ..., Player(player_id='8419', team=..., jersey_no=4, first_name=None, last_name=None, name='Gonzalo Montiel', starting=None, starting_position=<PositionType.RightBack: ('Right Back', 'RB', 'FullBack')>, positions=<TimeContainer>, attributes={})]), jersey_no=10, first_name=None, last_name=None, name='Lionel Messi', starting=None, starting_position=<PositionType.RightWing: ('Right Wing', 'RW', 'WideMidfield')>, positions=<TimeContainer>, attributes={}),\n",
       " Player(player_id='8419', team=Team(team_id='364', name='Argentina', ground=home, starting_formation=None, formations=<TimeContainer>, players=[Player(player_id='13222', team=..., jersey_no=26, first_name=None, last_name=None, name='Nahuel Molina', starting=None, starting_position=<PositionType.RightBack: ('Right Back', 'RB', 'FullBack')>, positions=<TimeContainer>, attributes={}), Player(player_id='8058', team=..., jersey_no=21, first_name=None, last_name=None, name='Paulo Dybala', starting=None, starting_position=<PositionType.Striker: ('Striker', 'ST', 'Attacker')>, positions=<TimeContainer>, attributes={}), Player(player_id='8025', team=..., jersey_no=3, first_name=None, last_name=None, name='Nicolas Tagliafico', starting=None, starting_position=<PositionType.LeftBack: ('Left Back', 'LB', 'FullBack')>, positions=<TimeContainer>, attributes={}), Player(player_id='1389', team=..., jersey_no=15, first_name=None, last_name=None, name='Angel Correa', starting=None, starting_position=<PositionType.Striker: ('Striker', 'ST', 'Attacker')>, positions=<TimeContainer>, attributes={}), Player(player_id='10715', team=..., jersey_no=9, first_name=None, last_name=None, name='Julian Alvarez', starting=None, starting_position=<PositionType.Striker: ('Striker', 'ST', 'Attacker')>, positions=<TimeContainer>, attributes={}), Player(player_id='8023', team=..., jersey_no=25, first_name=None, last_name=None, name='Lisandro Martinez', starting=None, starting_position=<PositionType.LeftCenterBack: ('Left Center Back', 'LCB', 'CenterBack')>, positions=<TimeContainer>, attributes={}), Player(player_id='1706', team=..., jersey_no=12, first_name=None, last_name=None, name='Geronimo Rulli', starting=None, starting_position=<PositionType.Goalkeeper: ('Goalkeeper', 'GK', None)>, positions=<TimeContainer>, attributes={}), Player(player_id='5116', team=..., jersey_no=13, first_name=None, last_name=None, name='Cristian Romero', starting=None, starting_position=<PositionType.RightCenterBack: ('Right Center Back', 'RCB', 'CenterBack')>, positions=<TimeContainer>, attributes={}), Player(player_id='144', team=..., jersey_no=23, first_name=None, last_name=None, name='Emiliano Martínez', starting=None, starting_position=<PositionType.Goalkeeper: ('Goalkeeper', 'GK', None)>, positions=<TimeContainer>, attributes={}), Player(player_id='1877', team=..., jersey_no=18, first_name=None, last_name=None, name='Guido Rodríguez', starting=None, starting_position=<PositionType.DefensiveMidfield: ('Defensive Midfield', 'DM', 'Midfielder')>, positions=<TimeContainer>, attributes={}), Player(player_id='8420', team=..., jersey_no=17, first_name=None, last_name=None, name='Papu Gómez', starting=None, starting_position=<PositionType.AttackingMidfield: ('Attacking Midfield', 'AM', 'Midfielder')>, positions=<TimeContainer>, attributes={}), Player(player_id='7757', team=..., jersey_no=16, first_name=None, last_name=None, name='Thiago Almada', starting=None, starting_position=<PositionType.AttackingMidfield: ('Attacking Midfield', 'AM', 'Midfielder')>, positions=<TimeContainer>, attributes={}), Player(player_id='453', team=..., jersey_no=20, first_name=None, last_name=None, name='Alexis Mac Allister', starting=None, starting_position=<PositionType.CenterMidfield: ('Center Midfield', 'CM', 'CentralMidfield')>, positions=<TimeContainer>, attributes={}), Player(player_id='3856', team=..., jersey_no=5, first_name=None, last_name=None, name='Leandro Paredes', starting=None, starting_position=<PositionType.DefensiveMidfield: ('Defensive Midfield', 'DM', 'Midfielder')>, positions=<TimeContainer>, attributes={}), Player(player_id='9178', team=..., jersey_no=8, first_name=None, last_name=None, name='Marcos Acuña', starting=None, starting_position=<PositionType.LeftBack: ('Left Back', 'LB', 'FullBack')>, positions=<TimeContainer>, attributes={}), Player(player_id='4590', team=..., jersey_no=14, first_name=None, last_name=None, name='Exequiel Palacios', starting=None, starting_position=<PositionType.CenterMidfield: ('Center Midfield', 'CM', 'CentralMidfield')>, positions=<TimeContainer>, attributes={}), Player(player_id='13903', team=..., jersey_no=1, first_name=None, last_name=None, name='Franco Armani', starting=None, starting_position=<PositionType.Goalkeeper: ('Goalkeeper', 'GK', None)>, positions=<TimeContainer>, attributes={}), Player(player_id='8138', team=..., jersey_no=22, first_name=None, last_name=None, name='Lautaro Martinez', starting=None, starting_position=<PositionType.Striker: ('Striker', 'ST', 'Attacker')>, positions=<TimeContainer>, attributes={}), Player(player_id='11856', team=..., jersey_no=24, first_name=None, last_name=None, name='Enzo Fernandez', starting=None, starting_position=<PositionType.CenterMidfield: ('Center Midfield', 'CM', 'CentralMidfield')>, positions=<TimeContainer>, attributes={}), Player(player_id='13226', team=..., jersey_no=6, first_name=None, last_name=None, name='German Pezzella', starting=None, starting_position=<PositionType.RightCenterBack: ('Right Center Back', 'RCB', 'CenterBack')>, positions=<TimeContainer>, attributes={}), Player(player_id='6895', team=..., jersey_no=7, first_name=None, last_name=None, name='Rodrigo de Paul', starting=None, starting_position=<PositionType.CenterMidfield: ('Center Midfield', 'CM', 'CentralMidfield')>, positions=<TimeContainer>, attributes={}), Player(player_id='3868', team=..., jersey_no=11, first_name=None, last_name=None, name='Ángel Di María', starting=None, starting_position=<PositionType.LeftWing: ('Left Wing', 'LW', 'WideMidfield')>, positions=<TimeContainer>, attributes={}), Player(player_id='68', team=..., jersey_no=2, first_name=None, last_name=None, name='Juan Foyth', starting=None, starting_position=<PositionType.RightBack: ('Right Back', 'RB', 'FullBack')>, positions=<TimeContainer>, attributes={}), Player(player_id='11', team=..., jersey_no=19, first_name=None, last_name=None, name='Nicolás Otamendi', starting=None, starting_position=<PositionType.LeftCenterBack: ('Left Center Back', 'LCB', 'CenterBack')>, positions=<TimeContainer>, attributes={}), Player(player_id='1531', team=..., jersey_no=10, first_name=None, last_name=None, name='Lionel Messi', starting=None, starting_position=<PositionType.RightWing: ('Right Wing', 'RW', 'WideMidfield')>, positions=<TimeContainer>, attributes={}), ...]), jersey_no=4, first_name=None, last_name=None, name='Gonzalo Montiel', starting=None, starting_position=<PositionType.RightBack: ('Right Back', 'RB', 'FullBack')>, positions=<TimeContainer>, attributes={})]"
      ]
     },
     "execution_count": 104,
     "metadata": {},
     "output_type": "execute_result"
    }
   ],
   "source": [
    "# Check the list of players\n",
    "home_team.players"
   ]
  },
  {
   "cell_type": "code",
   "execution_count": 107,
   "metadata": {},
   "outputs": [
    {
     "data": {
      "text/html": [
       "<div>\n",
       "<style scoped>\n",
       "    .dataframe tbody tr th:only-of-type {\n",
       "        vertical-align: middle;\n",
       "    }\n",
       "\n",
       "    .dataframe tbody tr th {\n",
       "        vertical-align: top;\n",
       "    }\n",
       "\n",
       "    .dataframe thead th {\n",
       "        text-align: right;\n",
       "    }\n",
       "</style>\n",
       "<table border=\"1\" class=\"dataframe\">\n",
       "  <thead>\n",
       "    <tr style=\"text-align: right;\">\n",
       "      <th></th>\n",
       "      <th>Argentina_players</th>\n",
       "    </tr>\n",
       "  </thead>\n",
       "  <tbody>\n",
       "    <tr>\n",
       "      <th>0</th>\n",
       "      <td>Nahuel Molina</td>\n",
       "    </tr>\n",
       "    <tr>\n",
       "      <th>1</th>\n",
       "      <td>Paulo Dybala</td>\n",
       "    </tr>\n",
       "    <tr>\n",
       "      <th>2</th>\n",
       "      <td>Nicolas Tagliafico</td>\n",
       "    </tr>\n",
       "    <tr>\n",
       "      <th>3</th>\n",
       "      <td>Angel Correa</td>\n",
       "    </tr>\n",
       "    <tr>\n",
       "      <th>4</th>\n",
       "      <td>Julian Alvarez</td>\n",
       "    </tr>\n",
       "    <tr>\n",
       "      <th>5</th>\n",
       "      <td>Lisandro Martinez</td>\n",
       "    </tr>\n",
       "    <tr>\n",
       "      <th>6</th>\n",
       "      <td>Geronimo Rulli</td>\n",
       "    </tr>\n",
       "    <tr>\n",
       "      <th>7</th>\n",
       "      <td>Cristian Romero</td>\n",
       "    </tr>\n",
       "    <tr>\n",
       "      <th>8</th>\n",
       "      <td>Emiliano Martínez</td>\n",
       "    </tr>\n",
       "    <tr>\n",
       "      <th>9</th>\n",
       "      <td>Guido Rodríguez</td>\n",
       "    </tr>\n",
       "    <tr>\n",
       "      <th>10</th>\n",
       "      <td>Papu Gómez</td>\n",
       "    </tr>\n",
       "    <tr>\n",
       "      <th>11</th>\n",
       "      <td>Thiago Almada</td>\n",
       "    </tr>\n",
       "    <tr>\n",
       "      <th>12</th>\n",
       "      <td>Alexis Mac Allister</td>\n",
       "    </tr>\n",
       "    <tr>\n",
       "      <th>13</th>\n",
       "      <td>Leandro Paredes</td>\n",
       "    </tr>\n",
       "    <tr>\n",
       "      <th>14</th>\n",
       "      <td>Marcos Acuña</td>\n",
       "    </tr>\n",
       "    <tr>\n",
       "      <th>15</th>\n",
       "      <td>Exequiel Palacios</td>\n",
       "    </tr>\n",
       "    <tr>\n",
       "      <th>16</th>\n",
       "      <td>Franco Armani</td>\n",
       "    </tr>\n",
       "    <tr>\n",
       "      <th>17</th>\n",
       "      <td>Lautaro Martinez</td>\n",
       "    </tr>\n",
       "    <tr>\n",
       "      <th>18</th>\n",
       "      <td>Enzo Fernandez</td>\n",
       "    </tr>\n",
       "    <tr>\n",
       "      <th>19</th>\n",
       "      <td>German Pezzella</td>\n",
       "    </tr>\n",
       "    <tr>\n",
       "      <th>20</th>\n",
       "      <td>Rodrigo de Paul</td>\n",
       "    </tr>\n",
       "    <tr>\n",
       "      <th>21</th>\n",
       "      <td>Ángel Di María</td>\n",
       "    </tr>\n",
       "    <tr>\n",
       "      <th>22</th>\n",
       "      <td>Juan Foyth</td>\n",
       "    </tr>\n",
       "    <tr>\n",
       "      <th>23</th>\n",
       "      <td>Nicolás Otamendi</td>\n",
       "    </tr>\n",
       "    <tr>\n",
       "      <th>24</th>\n",
       "      <td>Lionel Messi</td>\n",
       "    </tr>\n",
       "    <tr>\n",
       "      <th>25</th>\n",
       "      <td>Gonzalo Montiel</td>\n",
       "    </tr>\n",
       "  </tbody>\n",
       "</table>\n",
       "</div>"
      ],
      "text/plain": [
       "      Argentina_players\n",
       "0         Nahuel Molina\n",
       "1          Paulo Dybala\n",
       "2    Nicolas Tagliafico\n",
       "3          Angel Correa\n",
       "4        Julian Alvarez\n",
       "5     Lisandro Martinez\n",
       "6        Geronimo Rulli\n",
       "7       Cristian Romero\n",
       "8     Emiliano Martínez\n",
       "9       Guido Rodríguez\n",
       "10           Papu Gómez\n",
       "11        Thiago Almada\n",
       "12  Alexis Mac Allister\n",
       "13      Leandro Paredes\n",
       "14         Marcos Acuña\n",
       "15    Exequiel Palacios\n",
       "16        Franco Armani\n",
       "17     Lautaro Martinez\n",
       "18       Enzo Fernandez\n",
       "19      German Pezzella\n",
       "20      Rodrigo de Paul\n",
       "21       Ángel Di María\n",
       "22           Juan Foyth\n",
       "23     Nicolás Otamendi\n",
       "24         Lionel Messi\n",
       "25      Gonzalo Montiel"
      ]
     },
     "execution_count": 107,
     "metadata": {},
     "output_type": "execute_result"
    }
   ],
   "source": [
    "# in a more readable way\n",
    "import pandas as pd\n",
    "home_players = {home_team.name+\"_players\" : home_team.players}\n",
    "df_players = pd.DataFrame(home_players)\n",
    "df_players"
   ]
  },
  {
   "cell_type": "code",
   "execution_count": 112,
   "metadata": {},
   "outputs": [
    {
     "name": "stdout",
     "output_type": "stream",
     "text": [
      "\u001b[31mType:\u001b[39m        Player\n",
      "\u001b[31mString form:\u001b[39m Nahuel Molina\n",
      "\u001b[31mFile:\u001b[39m        ~/miniconda3/envs/pysport_env/lib/python3.11/site-packages/kloppy/domain/models/common.py\n",
      "\u001b[31mDocstring:\u001b[39m  \n",
      "A player in a team.\n",
      "\n",
      "Attributes:\n",
      "    player_id (str): Identifier given by the provider.\n",
      "    team (team): The player's team.\n",
      "    jersey_no (int): The player's jersey number.\n",
      "    first_name (str, optional): The player's first name.\n",
      "    last_name (str, optional): The player's last name.\n",
      "    name (str, optional): Full name of the player.\n",
      "    full_name (str): If `name` is not set, this will be the concatenation\n",
      "        of `first_name` and `last_name` or if these are also not set,\n",
      "        the concatenation of the team's ground and the jersey number.\n",
      "    starting (bool): `True` when player is part of the starting XI.\n",
      "    starting_position (Position, optional): The player's starting position\n",
      "        or `None` if the player is not starting.\n",
      "    poisitions (TimeContainer[Position]): The player's positions over time.\n",
      "    attributes (dict): Additional attributes given by the provider."
     ]
    }
   ],
   "source": [
    "# which other informations can we get from the player\n",
    "home_team.players[0]?"
   ]
  },
  {
   "cell_type": "code",
   "execution_count": 118,
   "metadata": {},
   "outputs": [
    {
     "data": {
      "text/html": [
       "<div>\n",
       "<style scoped>\n",
       "    .dataframe tbody tr th:only-of-type {\n",
       "        vertical-align: middle;\n",
       "    }\n",
       "\n",
       "    .dataframe tbody tr th {\n",
       "        vertical-align: top;\n",
       "    }\n",
       "\n",
       "    .dataframe thead th {\n",
       "        text-align: right;\n",
       "    }\n",
       "</style>\n",
       "<table border=\"1\" class=\"dataframe\">\n",
       "  <thead>\n",
       "    <tr style=\"text-align: right;\">\n",
       "      <th></th>\n",
       "      <th>Argentina_players_name</th>\n",
       "      <th>has_start_</th>\n",
       "      <th>player_position</th>\n",
       "    </tr>\n",
       "    <tr>\n",
       "      <th>jersey_no</th>\n",
       "      <th></th>\n",
       "      <th></th>\n",
       "      <th></th>\n",
       "    </tr>\n",
       "  </thead>\n",
       "  <tbody>\n",
       "    <tr>\n",
       "      <th>1</th>\n",
       "      <td>Franco Armani</td>\n",
       "      <td>None</td>\n",
       "      <td>Goalkeeper</td>\n",
       "    </tr>\n",
       "    <tr>\n",
       "      <th>2</th>\n",
       "      <td>Juan Foyth</td>\n",
       "      <td>None</td>\n",
       "      <td>Right Back</td>\n",
       "    </tr>\n",
       "    <tr>\n",
       "      <th>3</th>\n",
       "      <td>Nicolas Tagliafico</td>\n",
       "      <td>None</td>\n",
       "      <td>Left Back</td>\n",
       "    </tr>\n",
       "    <tr>\n",
       "      <th>4</th>\n",
       "      <td>Gonzalo Montiel</td>\n",
       "      <td>None</td>\n",
       "      <td>Right Back</td>\n",
       "    </tr>\n",
       "    <tr>\n",
       "      <th>5</th>\n",
       "      <td>Leandro Paredes</td>\n",
       "      <td>None</td>\n",
       "      <td>Defensive Midfield</td>\n",
       "    </tr>\n",
       "    <tr>\n",
       "      <th>6</th>\n",
       "      <td>German Pezzella</td>\n",
       "      <td>None</td>\n",
       "      <td>Right Center Back</td>\n",
       "    </tr>\n",
       "    <tr>\n",
       "      <th>7</th>\n",
       "      <td>Rodrigo de Paul</td>\n",
       "      <td>None</td>\n",
       "      <td>Center Midfield</td>\n",
       "    </tr>\n",
       "    <tr>\n",
       "      <th>8</th>\n",
       "      <td>Marcos Acuña</td>\n",
       "      <td>None</td>\n",
       "      <td>Left Back</td>\n",
       "    </tr>\n",
       "    <tr>\n",
       "      <th>9</th>\n",
       "      <td>Julian Alvarez</td>\n",
       "      <td>None</td>\n",
       "      <td>Striker</td>\n",
       "    </tr>\n",
       "    <tr>\n",
       "      <th>10</th>\n",
       "      <td>Lionel Messi</td>\n",
       "      <td>None</td>\n",
       "      <td>Right Wing</td>\n",
       "    </tr>\n",
       "    <tr>\n",
       "      <th>11</th>\n",
       "      <td>Ángel Di María</td>\n",
       "      <td>None</td>\n",
       "      <td>Left Wing</td>\n",
       "    </tr>\n",
       "    <tr>\n",
       "      <th>12</th>\n",
       "      <td>Geronimo Rulli</td>\n",
       "      <td>None</td>\n",
       "      <td>Goalkeeper</td>\n",
       "    </tr>\n",
       "    <tr>\n",
       "      <th>13</th>\n",
       "      <td>Cristian Romero</td>\n",
       "      <td>None</td>\n",
       "      <td>Right Center Back</td>\n",
       "    </tr>\n",
       "    <tr>\n",
       "      <th>14</th>\n",
       "      <td>Exequiel Palacios</td>\n",
       "      <td>None</td>\n",
       "      <td>Center Midfield</td>\n",
       "    </tr>\n",
       "    <tr>\n",
       "      <th>15</th>\n",
       "      <td>Angel Correa</td>\n",
       "      <td>None</td>\n",
       "      <td>Striker</td>\n",
       "    </tr>\n",
       "    <tr>\n",
       "      <th>16</th>\n",
       "      <td>Thiago Almada</td>\n",
       "      <td>None</td>\n",
       "      <td>Attacking Midfield</td>\n",
       "    </tr>\n",
       "    <tr>\n",
       "      <th>17</th>\n",
       "      <td>Papu Gómez</td>\n",
       "      <td>None</td>\n",
       "      <td>Attacking Midfield</td>\n",
       "    </tr>\n",
       "    <tr>\n",
       "      <th>18</th>\n",
       "      <td>Guido Rodríguez</td>\n",
       "      <td>None</td>\n",
       "      <td>Defensive Midfield</td>\n",
       "    </tr>\n",
       "    <tr>\n",
       "      <th>19</th>\n",
       "      <td>Nicolás Otamendi</td>\n",
       "      <td>None</td>\n",
       "      <td>Left Center Back</td>\n",
       "    </tr>\n",
       "    <tr>\n",
       "      <th>20</th>\n",
       "      <td>Alexis Mac Allister</td>\n",
       "      <td>None</td>\n",
       "      <td>Center Midfield</td>\n",
       "    </tr>\n",
       "    <tr>\n",
       "      <th>21</th>\n",
       "      <td>Paulo Dybala</td>\n",
       "      <td>None</td>\n",
       "      <td>Striker</td>\n",
       "    </tr>\n",
       "    <tr>\n",
       "      <th>22</th>\n",
       "      <td>Lautaro Martinez</td>\n",
       "      <td>None</td>\n",
       "      <td>Striker</td>\n",
       "    </tr>\n",
       "    <tr>\n",
       "      <th>23</th>\n",
       "      <td>Emiliano Martínez</td>\n",
       "      <td>None</td>\n",
       "      <td>Goalkeeper</td>\n",
       "    </tr>\n",
       "    <tr>\n",
       "      <th>24</th>\n",
       "      <td>Enzo Fernandez</td>\n",
       "      <td>None</td>\n",
       "      <td>Center Midfield</td>\n",
       "    </tr>\n",
       "    <tr>\n",
       "      <th>25</th>\n",
       "      <td>Lisandro Martinez</td>\n",
       "      <td>None</td>\n",
       "      <td>Left Center Back</td>\n",
       "    </tr>\n",
       "    <tr>\n",
       "      <th>26</th>\n",
       "      <td>Nahuel Molina</td>\n",
       "      <td>None</td>\n",
       "      <td>Right Back</td>\n",
       "    </tr>\n",
       "  </tbody>\n",
       "</table>\n",
       "</div>"
      ],
      "text/plain": [
       "          Argentina_players_name has_start_     player_position\n",
       "jersey_no                                                      \n",
       "1                  Franco Armani       None          Goalkeeper\n",
       "2                     Juan Foyth       None          Right Back\n",
       "3             Nicolas Tagliafico       None           Left Back\n",
       "4                Gonzalo Montiel       None          Right Back\n",
       "5                Leandro Paredes       None  Defensive Midfield\n",
       "6                German Pezzella       None   Right Center Back\n",
       "7                Rodrigo de Paul       None     Center Midfield\n",
       "8                   Marcos Acuña       None           Left Back\n",
       "9                 Julian Alvarez       None             Striker\n",
       "10                  Lionel Messi       None          Right Wing\n",
       "11                Ángel Di María       None           Left Wing\n",
       "12                Geronimo Rulli       None          Goalkeeper\n",
       "13               Cristian Romero       None   Right Center Back\n",
       "14             Exequiel Palacios       None     Center Midfield\n",
       "15                  Angel Correa       None             Striker\n",
       "16                 Thiago Almada       None  Attacking Midfield\n",
       "17                    Papu Gómez       None  Attacking Midfield\n",
       "18               Guido Rodríguez       None  Defensive Midfield\n",
       "19              Nicolás Otamendi       None    Left Center Back\n",
       "20           Alexis Mac Allister       None     Center Midfield\n",
       "21                  Paulo Dybala       None             Striker\n",
       "22              Lautaro Martinez       None             Striker\n",
       "23             Emiliano Martínez       None          Goalkeeper\n",
       "24                Enzo Fernandez       None     Center Midfield\n",
       "25             Lisandro Martinez       None    Left Center Back\n",
       "26                 Nahuel Molina       None          Right Back"
      ]
     },
     "execution_count": 118,
     "metadata": {},
     "output_type": "execute_result"
    }
   ],
   "source": [
    "# Let make our players dataframe more valuable with more insightfull information like the jersey number as index,\n",
    "# the full name position of the player the value wich let us know if it has start the game or no at the beginig\n",
    "# and its starting_position.\n",
    "home_players = {home_team.name+\"_players_name\" : [player.full_name for player in home_team.players],\n",
    "                \"jersey_no\": [player.jersey_no for player in home_team.players],\n",
    "                \"has_start_\": [player.starting for player in home_team.players],\n",
    "                \"player_position\": [player.starting_position for player in home_team.players],\n",
    "                }\n",
    "df_players = pd.DataFrame(home_players)\n",
    "\n",
    "# Set index and sort in descending order\n",
    "df_players = df_players.set_index(\"jersey_no\").sort_index(ascending=True)\n",
    "\n",
    "df_players\n"
   ]
  },
  {
   "cell_type": "code",
   "execution_count": 119,
   "metadata": {},
   "outputs": [
    {
     "data": {
      "text/plain": [
       "29.97"
      ]
     },
     "execution_count": 119,
     "metadata": {},
     "output_type": "execute_result"
    }
   ],
   "source": [
    "# let go back into another metadat the frame_rate \n",
    "dataset.metadata.frame_rate"
   ]
  },
  {
   "cell_type": "code",
   "execution_count": null,
   "metadata": {},
   "outputs": [
    {
     "name": "stdout",
     "output_type": "stream",
     "text": [
      "This is the record of around 74.8896551724138 min of the 2022 football final world cup \n",
      "P4T19:01\n"
     ]
    }
   ],
   "source": [
    "# nice the frame rate was not 25 per second but 29.97 which is strange.\n",
    "what_is_this(frame_rate=int())\n",
    "\n",
    "# compare to the time on wich the last frame were recorded\n",
    "print(dataset.frames[-1].time)"
   ]
  },
  {
   "cell_type": "code",
   "execution_count": null,
   "metadata": {},
   "outputs": [],
   "source": [
    "# this become more fishy, what is going on here ?\n",
    "\n",
    "## remenber to ask question on it..(what represent the time attribute of a frame ?)\n",
    "### Also ask question about how the tracking data time are formated."
   ]
  },
  {
   "cell_type": "code",
   "execution_count": 120,
   "metadata": {},
   "outputs": [
    {
     "name": "stdout",
     "output_type": "stream",
     "text": [
      "<kloppy.domain.models.common.PFFCoordinateSystem object at 0x7fca78889c90> MetricPitchDimensions(x_dim=Dimension(min=-52.5, max=52.5), y_dim=Dimension(min=-34.0, max=34.0), standardized=False, unit=<Unit.METERS: 'm'>, goal_width=7.32, goal_height=2.44, six_yard_width=18.32, six_yard_length=5.5, penalty_area_width=40.32, penalty_area_length=16.5, circle_radius=9.15, corner_radius=1, penalty_spot_distance=11, penalty_arc_radius=9.15, pitch_length=105.0, pitch_width=68.0) Orientation.HOME_AWAY\n"
     ]
    }
   ],
   "source": [
    "# let look at coordinate_system, pitch_dimensions,and the orientation\n",
    "print(dataset.metadata.coordinate_system,dataset.metadata.pitch_dimensions,dataset.metadata.orientation)"
   ]
  },
  {
   "cell_type": "code",
   "execution_count": null,
   "metadata": {},
   "outputs": [],
   "source": [
    "# we gain no more information on coordinate_system\n",
    "# we see here that the pitch was on 105m X 68m non standardized, with the different dimension of goal, six-yard and penalty_area\n",
    "# and the information about the orinetation join to the definition in the documentation tell us that \"The home team plays from left to right in the first period. The away team plays from left to right in the second period\" "
   ]
  },
  {
   "cell_type": "code",
   "execution_count": null,
   "metadata": {},
   "outputs": [],
   "source": []
  },
  {
   "cell_type": "code",
   "execution_count": null,
   "metadata": {},
   "outputs": [],
   "source": []
  },
  {
   "cell_type": "code",
   "execution_count": null,
   "metadata": {},
   "outputs": [],
   "source": []
  },
  {
   "cell_type": "code",
   "execution_count": null,
   "metadata": {},
   "outputs": [],
   "source": []
  },
  {
   "cell_type": "code",
   "execution_count": null,
   "metadata": {},
   "outputs": [],
   "source": []
  },
  {
   "cell_type": "code",
   "execution_count": null,
   "metadata": {},
   "outputs": [],
   "source": []
  },
  {
   "cell_type": "code",
   "execution_count": null,
   "metadata": {},
   "outputs": [],
   "source": []
  },
  {
   "cell_type": "code",
   "execution_count": null,
   "metadata": {},
   "outputs": [],
   "source": []
  },
  {
   "cell_type": "code",
   "execution_count": null,
   "metadata": {},
   "outputs": [],
   "source": []
  },
  {
   "cell_type": "code",
   "execution_count": null,
   "metadata": {},
   "outputs": [],
   "source": []
  },
  {
   "cell_type": "code",
   "execution_count": null,
   "metadata": {},
   "outputs": [],
   "source": []
  },
  {
   "cell_type": "code",
   "execution_count": null,
   "metadata": {},
   "outputs": [],
   "source": []
  },
  {
   "cell_type": "code",
   "execution_count": null,
   "metadata": {},
   "outputs": [],
   "source": []
  },
  {
   "cell_type": "code",
   "execution_count": null,
   "metadata": {},
   "outputs": [],
   "source": []
  },
  {
   "cell_type": "code",
   "execution_count": null,
   "metadata": {},
   "outputs": [],
   "source": []
  },
  {
   "cell_type": "code",
   "execution_count": null,
   "metadata": {},
   "outputs": [],
   "source": []
  },
  {
   "cell_type": "code",
   "execution_count": null,
   "metadata": {},
   "outputs": [],
   "source": []
  },
  {
   "cell_type": "code",
   "execution_count": null,
   "metadata": {},
   "outputs": [],
   "source": []
  },
  {
   "cell_type": "code",
   "execution_count": null,
   "metadata": {},
   "outputs": [],
   "source": []
  }
 ],
 "metadata": {
  "kernelspec": {
   "display_name": "pysport_env",
   "language": "python",
   "name": "python3"
  },
  "language_info": {
   "codemirror_mode": {
    "name": "ipython",
    "version": 3
   },
   "file_extension": ".py",
   "mimetype": "text/x-python",
   "name": "python",
   "nbconvert_exporter": "python",
   "pygments_lexer": "ipython3",
   "version": "3.11.13"
  }
 },
 "nbformat": 4,
 "nbformat_minor": 2
}
