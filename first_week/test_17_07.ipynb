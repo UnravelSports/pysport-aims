{
 "cells": [
  {
   "cell_type": "markdown",
   "metadata": {},
   "source": [
    "### **Let check the frame rate and the number of frame on another match of the 20222 world cup.**"
   ]
  },
  {
   "cell_type": "code",
   "execution_count": 231,
   "metadata": {},
   "outputs": [],
   "source": [
    "#Loader\n",
    "import pandas as pd\n",
    "import matplotlib.pyplot as plt\n",
    "from kloppy import pff\n",
    "\n",
    "# paths to data files\n",
    "roster_path = \"/home/student/Documents/AIMS/Intership/pysport/pysport-aims/first_week/data/3812/3812_roster.json\"\n",
    "metadata_path = \"/home/student/Documents/AIMS/Intership/pysport/pysport-aims/first_week/data/3812/3812_metadata.json\"\n",
    "raw_data_path = \"/home/student/Documents/AIMS/Intership/pysport/pysport-aims/first_week/data/3812/3812.jsonl.bz2\""
   ]
  },
  {
   "cell_type": "code",
   "execution_count": 232,
   "metadata": {},
   "outputs": [
    {
     "data": {
      "application/vnd.microsoft.datawrangler.viewer.v0+json": {
       "columns": [
        {
         "name": "index",
         "rawType": "int64",
         "type": "integer"
        },
        {
         "name": "period_id",
         "rawType": "int64",
         "type": "integer"
        },
        {
         "name": "timestamp",
         "rawType": "timedelta64[ns]",
         "type": "unknown"
        },
        {
         "name": "frame_id",
         "rawType": "int64",
         "type": "integer"
        },
        {
         "name": "ball_state",
         "rawType": "object",
         "type": "string"
        },
        {
         "name": "ball_owning_team_id",
         "rawType": "object",
         "type": "string"
        },
        {
         "name": "ball_x",
         "rawType": "float64",
         "type": "float"
        },
        {
         "name": "ball_y",
         "rawType": "float64",
         "type": "float"
        },
        {
         "name": "ball_z",
         "rawType": "float64",
         "type": "float"
        },
        {
         "name": "ball_speed",
         "rawType": "object",
         "type": "unknown"
        },
        {
         "name": "13228_x",
         "rawType": "float64",
         "type": "float"
        },
        {
         "name": "13228_y",
         "rawType": "float64",
         "type": "float"
        },
        {
         "name": "13228_d",
         "rawType": "object",
         "type": "unknown"
        },
        {
         "name": "13228_s",
         "rawType": "object",
         "type": "unknown"
        },
        {
         "name": "13901_x",
         "rawType": "float64",
         "type": "float"
        },
        {
         "name": "13901_y",
         "rawType": "float64",
         "type": "float"
        },
        {
         "name": "13901_d",
         "rawType": "object",
         "type": "unknown"
        },
        {
         "name": "13901_s",
         "rawType": "object",
         "type": "unknown"
        },
        {
         "name": "2059_x",
         "rawType": "float64",
         "type": "float"
        },
        {
         "name": "2059_y",
         "rawType": "float64",
         "type": "float"
        },
        {
         "name": "2059_d",
         "rawType": "object",
         "type": "unknown"
        },
        {
         "name": "2059_s",
         "rawType": "object",
         "type": "unknown"
        },
        {
         "name": "214_x",
         "rawType": "float64",
         "type": "float"
        },
        {
         "name": "214_y",
         "rawType": "float64",
         "type": "float"
        },
        {
         "name": "214_d",
         "rawType": "object",
         "type": "unknown"
        },
        {
         "name": "214_s",
         "rawType": "object",
         "type": "unknown"
        },
        {
         "name": "3848_x",
         "rawType": "float64",
         "type": "float"
        },
        {
         "name": "3848_y",
         "rawType": "float64",
         "type": "float"
        },
        {
         "name": "3848_d",
         "rawType": "object",
         "type": "unknown"
        },
        {
         "name": "3848_s",
         "rawType": "object",
         "type": "unknown"
        },
        {
         "name": "3858_x",
         "rawType": "float64",
         "type": "float"
        },
        {
         "name": "3858_y",
         "rawType": "float64",
         "type": "float"
        },
        {
         "name": "3858_d",
         "rawType": "object",
         "type": "unknown"
        },
        {
         "name": "3858_s",
         "rawType": "object",
         "type": "unknown"
        },
        {
         "name": "3903_x",
         "rawType": "float64",
         "type": "float"
        },
        {
         "name": "3903_y",
         "rawType": "float64",
         "type": "float"
        },
        {
         "name": "3903_d",
         "rawType": "object",
         "type": "unknown"
        },
        {
         "name": "3903_s",
         "rawType": "object",
         "type": "unknown"
        },
        {
         "name": "428_x",
         "rawType": "float64",
         "type": "float"
        },
        {
         "name": "428_y",
         "rawType": "float64",
         "type": "float"
        },
        {
         "name": "428_d",
         "rawType": "object",
         "type": "unknown"
        },
        {
         "name": "428_s",
         "rawType": "object",
         "type": "unknown"
        },
        {
         "name": "474_x",
         "rawType": "float64",
         "type": "float"
        },
        {
         "name": "474_y",
         "rawType": "float64",
         "type": "float"
        },
        {
         "name": "474_d",
         "rawType": "object",
         "type": "unknown"
        },
        {
         "name": "474_s",
         "rawType": "object",
         "type": "unknown"
        },
        {
         "name": "7988_x",
         "rawType": "float64",
         "type": "float"
        },
        {
         "name": "7988_y",
         "rawType": "float64",
         "type": "float"
        },
        {
         "name": "7988_d",
         "rawType": "object",
         "type": "unknown"
        },
        {
         "name": "7988_s",
         "rawType": "object",
         "type": "unknown"
        },
        {
         "name": "9993_x",
         "rawType": "float64",
         "type": "float"
        },
        {
         "name": "9993_y",
         "rawType": "float64",
         "type": "float"
        },
        {
         "name": "9993_d",
         "rawType": "object",
         "type": "unknown"
        },
        {
         "name": "9993_s",
         "rawType": "object",
         "type": "unknown"
        },
        {
         "name": "11094_x",
         "rawType": "float64",
         "type": "float"
        },
        {
         "name": "11094_y",
         "rawType": "float64",
         "type": "float"
        },
        {
         "name": "11094_d",
         "rawType": "object",
         "type": "unknown"
        },
        {
         "name": "11094_s",
         "rawType": "object",
         "type": "unknown"
        },
        {
         "name": "11241_x",
         "rawType": "float64",
         "type": "float"
        },
        {
         "name": "11241_y",
         "rawType": "float64",
         "type": "float"
        },
        {
         "name": "11241_d",
         "rawType": "object",
         "type": "unknown"
        },
        {
         "name": "11241_s",
         "rawType": "object",
         "type": "unknown"
        },
        {
         "name": "1522_x",
         "rawType": "float64",
         "type": "float"
        },
        {
         "name": "1522_y",
         "rawType": "float64",
         "type": "float"
        },
        {
         "name": "1522_d",
         "rawType": "object",
         "type": "unknown"
        },
        {
         "name": "1522_s",
         "rawType": "object",
         "type": "unknown"
        },
        {
         "name": "284_x",
         "rawType": "float64",
         "type": "float"
        },
        {
         "name": "284_y",
         "rawType": "float64",
         "type": "float"
        },
        {
         "name": "284_d",
         "rawType": "object",
         "type": "unknown"
        },
        {
         "name": "284_s",
         "rawType": "object",
         "type": "unknown"
        },
        {
         "name": "3315_x",
         "rawType": "float64",
         "type": "float"
        },
        {
         "name": "3315_y",
         "rawType": "float64",
         "type": "float"
        },
        {
         "name": "3315_d",
         "rawType": "object",
         "type": "unknown"
        },
        {
         "name": "3315_s",
         "rawType": "object",
         "type": "unknown"
        },
        {
         "name": "37_x",
         "rawType": "float64",
         "type": "float"
        },
        {
         "name": "37_y",
         "rawType": "float64",
         "type": "float"
        },
        {
         "name": "37_d",
         "rawType": "object",
         "type": "unknown"
        },
        {
         "name": "37_s",
         "rawType": "object",
         "type": "unknown"
        },
        {
         "name": "8026_x",
         "rawType": "float64",
         "type": "float"
        },
        {
         "name": "8026_y",
         "rawType": "float64",
         "type": "float"
        },
        {
         "name": "8026_d",
         "rawType": "object",
         "type": "unknown"
        },
        {
         "name": "8026_s",
         "rawType": "object",
         "type": "unknown"
        },
        {
         "name": "8034_x",
         "rawType": "float64",
         "type": "float"
        },
        {
         "name": "8034_y",
         "rawType": "float64",
         "type": "float"
        },
        {
         "name": "8034_d",
         "rawType": "object",
         "type": "unknown"
        },
        {
         "name": "8034_s",
         "rawType": "object",
         "type": "unknown"
        },
        {
         "name": "8045_x",
         "rawType": "float64",
         "type": "float"
        },
        {
         "name": "8045_y",
         "rawType": "float64",
         "type": "float"
        },
        {
         "name": "8045_d",
         "rawType": "object",
         "type": "unknown"
        },
        {
         "name": "8045_s",
         "rawType": "object",
         "type": "unknown"
        },
        {
         "name": "8134_x",
         "rawType": "float64",
         "type": "float"
        },
        {
         "name": "8134_y",
         "rawType": "float64",
         "type": "float"
        },
        {
         "name": "8134_d",
         "rawType": "object",
         "type": "unknown"
        },
        {
         "name": "8134_s",
         "rawType": "object",
         "type": "unknown"
        },
        {
         "name": "84_x",
         "rawType": "float64",
         "type": "float"
        },
        {
         "name": "84_y",
         "rawType": "float64",
         "type": "float"
        },
        {
         "name": "84_d",
         "rawType": "object",
         "type": "unknown"
        },
        {
         "name": "84_s",
         "rawType": "object",
         "type": "unknown"
        },
        {
         "name": "3895_x",
         "rawType": "float64",
         "type": "float"
        },
        {
         "name": "3895_y",
         "rawType": "float64",
         "type": "float"
        },
        {
         "name": "3895_d",
         "rawType": "object",
         "type": "unknown"
        },
        {
         "name": "3895_s",
         "rawType": "object",
         "type": "unknown"
        },
        {
         "name": "8342_x",
         "rawType": "float64",
         "type": "float"
        },
        {
         "name": "8342_y",
         "rawType": "float64",
         "type": "float"
        },
        {
         "name": "8342_d",
         "rawType": "object",
         "type": "unknown"
        },
        {
         "name": "8342_s",
         "rawType": "object",
         "type": "unknown"
        },
        {
         "name": "3996_x",
         "rawType": "float64",
         "type": "float"
        },
        {
         "name": "3996_y",
         "rawType": "float64",
         "type": "float"
        },
        {
         "name": "3996_d",
         "rawType": "object",
         "type": "unknown"
        },
        {
         "name": "3996_s",
         "rawType": "object",
         "type": "unknown"
        },
        {
         "name": "3978_x",
         "rawType": "float64",
         "type": "float"
        },
        {
         "name": "3978_y",
         "rawType": "float64",
         "type": "float"
        },
        {
         "name": "3978_d",
         "rawType": "object",
         "type": "unknown"
        },
        {
         "name": "3978_s",
         "rawType": "object",
         "type": "unknown"
        },
        {
         "name": "13055_x",
         "rawType": "float64",
         "type": "float"
        },
        {
         "name": "13055_y",
         "rawType": "float64",
         "type": "float"
        },
        {
         "name": "13055_d",
         "rawType": "object",
         "type": "unknown"
        },
        {
         "name": "13055_s",
         "rawType": "object",
         "type": "unknown"
        },
        {
         "name": "8033_x",
         "rawType": "float64",
         "type": "float"
        },
        {
         "name": "8033_y",
         "rawType": "float64",
         "type": "float"
        },
        {
         "name": "8033_d",
         "rawType": "object",
         "type": "unknown"
        },
        {
         "name": "8033_s",
         "rawType": "object",
         "type": "unknown"
        },
        {
         "name": "8326_x",
         "rawType": "float64",
         "type": "float"
        },
        {
         "name": "8326_y",
         "rawType": "float64",
         "type": "float"
        },
        {
         "name": "8326_d",
         "rawType": "object",
         "type": "unknown"
        },
        {
         "name": "8326_s",
         "rawType": "object",
         "type": "unknown"
        },
        {
         "name": "8327_x",
         "rawType": "float64",
         "type": "float"
        },
        {
         "name": "8327_y",
         "rawType": "float64",
         "type": "float"
        },
        {
         "name": "8327_d",
         "rawType": "object",
         "type": "unknown"
        },
        {
         "name": "8327_s",
         "rawType": "object",
         "type": "unknown"
        }
       ],
       "ref": "e725c155-4e2e-44fe-8af2-80f640ee8763",
       "rows": [
        [
         "0",
         "1",
         "0 days 00:00:00",
         "4226",
         "alive",
         "366",
         "2.46",
         "1.58",
         "0.0",
         null,
         "14.357",
         "18.306",
         null,
         null,
         "7.543",
         "4.958",
         null,
         null,
         "42.184",
         "-0.469",
         null,
         null,
         "9.501",
         "-1.919",
         null,
         null,
         "18.819",
         "-21.928",
         null,
         null,
         "7.011",
         "-8.378",
         null,
         null,
         "2.879",
         "11.588",
         null,
         null,
         "1.351",
         "-22.141",
         null,
         null,
         "18.662",
         "-4.934",
         null,
         null,
         "-0.771",
         "-9.96",
         null,
         null,
         "19.462",
         "3.407",
         null,
         null,
         "1.247",
         "-11.488",
         null,
         null,
         "-30.699",
         "-9.363",
         null,
         null,
         "-11.375",
         "1.698",
         null,
         null,
         "-21.746",
         "14.948",
         null,
         null,
         "2.461",
         "1.58",
         null,
         null,
         "-20.279",
         "4.833",
         null,
         null,
         "-7.984",
         "25.201",
         null,
         null,
         "-11.765",
         "-4.032",
         null,
         null,
         "-22.65",
         "-16.07",
         null,
         null,
         "-0.132",
         "-33.214",
         null,
         null,
         "-0.322",
         "8.845",
         null,
         null,
         null,
         null,
         null,
         null,
         null,
         null,
         null,
         null,
         null,
         null,
         null,
         null,
         null,
         null,
         null,
         null,
         null,
         null,
         null,
         null,
         null,
         null,
         null,
         null,
         null,
         null,
         null,
         null,
         null,
         null,
         null,
         null
        ],
        [
         "1",
         "1",
         "0 days 00:00:00.033041",
         "4227",
         "alive",
         "366",
         "2.04",
         "1.62",
         "0.0",
         null,
         "14.335",
         "18.322",
         null,
         null,
         "7.527",
         "4.993",
         null,
         null,
         "42.173",
         "-0.464",
         null,
         null,
         "9.478",
         "-1.89",
         null,
         null,
         "18.782",
         "-21.922",
         null,
         null,
         "6.947",
         "-8.298",
         null,
         null,
         "2.851",
         "11.637",
         null,
         null,
         "1.333",
         "-22.092",
         null,
         null,
         "18.639",
         "-4.912",
         null,
         null,
         "-0.833",
         "-9.884",
         null,
         null,
         "19.431",
         "3.434",
         null,
         null,
         "1.292",
         "-11.425",
         null,
         null,
         "-30.699",
         "-9.349",
         null,
         null,
         "-11.361",
         "1.745",
         null,
         null,
         "-21.746",
         "14.979",
         null,
         null,
         "2.517",
         "1.56",
         null,
         null,
         "-20.304",
         "4.819",
         null,
         null,
         "-7.989",
         "25.225",
         null,
         null,
         "-11.739",
         "-4.014",
         null,
         null,
         "-22.632",
         "-16.084",
         null,
         null,
         "-0.118",
         "-33.213",
         null,
         null,
         "-0.265",
         "8.866",
         null,
         null,
         null,
         null,
         null,
         null,
         null,
         null,
         null,
         null,
         null,
         null,
         null,
         null,
         null,
         null,
         null,
         null,
         null,
         null,
         null,
         null,
         null,
         null,
         null,
         null,
         null,
         null,
         null,
         null,
         null,
         null,
         null,
         null
        ],
        [
         "2",
         "1",
         "0 days 00:00:00.066408",
         "4228",
         "alive",
         "366",
         "1.62",
         "1.67",
         "0.0",
         null,
         "14.313",
         "18.338",
         null,
         null,
         "7.512",
         "5.028",
         null,
         null,
         "42.163",
         "-0.459",
         null,
         null,
         "9.455",
         "-1.862",
         null,
         null,
         "18.746",
         "-21.915",
         null,
         null,
         "6.883",
         "-8.218",
         null,
         null,
         "2.823",
         "11.685",
         null,
         null,
         "1.315",
         "-22.045",
         null,
         null,
         "18.615",
         "-4.89",
         null,
         null,
         "-0.895",
         "-9.81",
         null,
         null,
         "19.401",
         "3.46",
         null,
         null,
         "1.337",
         "-11.362",
         null,
         null,
         "-30.699",
         "-9.313",
         null,
         null,
         "-11.348",
         "1.792",
         null,
         null,
         "-21.746",
         "15.009",
         null,
         null,
         "2.574",
         "1.54",
         null,
         null,
         "-20.329",
         "4.806",
         null,
         null,
         "-7.995",
         "25.249",
         null,
         null,
         "-11.714",
         "-3.997",
         null,
         null,
         "-22.614",
         "-16.098",
         null,
         null,
         "-0.105",
         "-33.211",
         null,
         null,
         "-0.208",
         "8.886",
         null,
         null,
         null,
         null,
         null,
         null,
         null,
         null,
         null,
         null,
         null,
         null,
         null,
         null,
         null,
         null,
         null,
         null,
         null,
         null,
         null,
         null,
         null,
         null,
         null,
         null,
         null,
         null,
         null,
         null,
         null,
         null,
         null,
         null
        ],
        [
         "3",
         "1",
         "0 days 00:00:00.099774",
         "4229",
         "alive",
         "366",
         "1.2",
         "1.71",
         "0.0",
         null,
         "14.291",
         "18.353",
         null,
         null,
         "7.497",
         "5.063",
         null,
         null,
         "42.152",
         "-0.454",
         null,
         null,
         "9.432",
         "-1.834",
         null,
         null,
         "18.71",
         "-21.909",
         null,
         null,
         "6.82",
         "-8.14",
         null,
         null,
         "2.796",
         "11.733",
         null,
         null,
         "1.298",
         "-21.998",
         null,
         null,
         "18.591",
         "-4.867",
         null,
         null,
         "-0.957",
         "-9.735",
         null,
         null,
         "19.37",
         "3.486",
         null,
         null,
         "1.382",
         "-11.3",
         null,
         null,
         "-30.701",
         "-9.256",
         null,
         null,
         "-11.334",
         "1.838",
         null,
         null,
         "-21.746",
         "15.039",
         null,
         null,
         "2.631",
         "1.52",
         null,
         null,
         "-20.355",
         "4.793",
         null,
         null,
         "-8.0",
         "25.273",
         null,
         null,
         "-11.69",
         "-3.979",
         null,
         null,
         "-22.597",
         "-16.112",
         null,
         null,
         "-0.091",
         "-33.21",
         null,
         null,
         "-0.151",
         "8.906",
         null,
         null,
         null,
         null,
         null,
         null,
         null,
         null,
         null,
         null,
         null,
         null,
         null,
         null,
         null,
         null,
         null,
         null,
         null,
         null,
         null,
         null,
         null,
         null,
         null,
         null,
         null,
         null,
         null,
         null,
         null,
         null,
         null,
         null
        ],
        [
         "4",
         "1",
         "0 days 00:00:00.133141",
         "4230",
         "alive",
         "366",
         "0.78",
         "1.76",
         "0.0",
         null,
         "14.27",
         "18.368",
         null,
         null,
         "7.481",
         "5.097",
         null,
         null,
         "42.142",
         "-0.449",
         null,
         null,
         "9.409",
         "-1.807",
         null,
         null,
         "18.674",
         "-21.903",
         null,
         null,
         "6.757",
         "-8.062",
         null,
         null,
         "2.768",
         "11.78",
         null,
         null,
         "1.28",
         "-21.952",
         null,
         null,
         "18.567",
         "-4.845",
         null,
         null,
         "-1.019",
         "-9.661",
         null,
         null,
         "19.339",
         "3.511",
         null,
         null,
         "1.427",
         "-11.238",
         null,
         null,
         "-30.702",
         "-9.196",
         null,
         null,
         "-11.321",
         "1.884",
         null,
         null,
         "-21.746",
         "15.068",
         null,
         null,
         "2.689",
         "1.5",
         null,
         null,
         "-20.38",
         "4.78",
         null,
         null,
         "-8.005",
         "25.297",
         null,
         null,
         "-11.666",
         "-3.961",
         null,
         null,
         "-22.58",
         "-16.126",
         null,
         null,
         "-0.078",
         "-33.209",
         null,
         null,
         "-0.094",
         "8.926",
         null,
         null,
         null,
         null,
         null,
         null,
         null,
         null,
         null,
         null,
         null,
         null,
         null,
         null,
         null,
         null,
         null,
         null,
         null,
         null,
         null,
         null,
         null,
         null,
         null,
         null,
         null,
         null,
         null,
         null,
         null,
         null,
         null,
         null
        ],
        [
         "5",
         "1",
         "0 days 00:00:00.166508",
         "4231",
         "alive",
         "366",
         "0.36",
         "1.8",
         "0.0",
         null,
         "14.249",
         "18.382",
         null,
         null,
         "7.466",
         "5.131",
         null,
         null,
         "42.132",
         "-0.444",
         null,
         null,
         "9.386",
         "-1.781",
         null,
         null,
         "18.638",
         "-21.898",
         null,
         null,
         "6.694",
         "-7.985",
         null,
         null,
         "2.741",
         "11.827",
         null,
         null,
         "1.262",
         "-21.906",
         null,
         null,
         "18.543",
         "-4.824",
         null,
         null,
         "-1.082",
         "-9.588",
         null,
         null,
         "19.308",
         "3.536",
         null,
         null,
         "1.472",
         "-11.177",
         null,
         null,
         "-30.705",
         "-9.115",
         null,
         null,
         "-11.308",
         "1.929",
         null,
         null,
         "-21.747",
         "15.098",
         null,
         null,
         "2.746",
         "1.481",
         null,
         null,
         "-20.405",
         "4.767",
         null,
         null,
         "-8.01",
         "25.321",
         null,
         null,
         "-11.643",
         "-3.944",
         null,
         null,
         "-22.563",
         "-16.14",
         null,
         null,
         "-0.065",
         "-33.208",
         null,
         null,
         "-0.038",
         "8.946",
         null,
         null,
         null,
         null,
         null,
         null,
         null,
         null,
         null,
         null,
         null,
         null,
         null,
         null,
         null,
         null,
         null,
         null,
         null,
         null,
         null,
         null,
         null,
         null,
         null,
         null,
         null,
         null,
         null,
         null,
         null,
         null,
         null,
         null
        ],
        [
         "6",
         "1",
         "0 days 00:00:00.199875",
         "4232",
         "alive",
         "366",
         "-0.07",
         "1.84",
         "0.0",
         null,
         "14.227",
         "18.396",
         null,
         null,
         "7.45",
         "5.165",
         null,
         null,
         "42.122",
         "-0.44",
         null,
         null,
         "9.363",
         "-1.755",
         null,
         null,
         "18.603",
         "-21.892",
         null,
         null,
         "6.631",
         "-7.908",
         null,
         null,
         "2.714",
         "11.873",
         null,
         null,
         "1.245",
         "-21.861",
         null,
         null,
         "18.519",
         "-4.802",
         null,
         null,
         "-1.144",
         "-9.515",
         null,
         null,
         "19.277",
         "3.56",
         null,
         null,
         "1.517",
         "-11.117",
         null,
         null,
         "-30.707",
         "-9.032",
         null,
         null,
         "-11.295",
         "1.974",
         null,
         null,
         "-21.748",
         "15.127",
         null,
         null,
         "2.804",
         "1.461",
         null,
         null,
         "-20.43",
         "4.754",
         null,
         null,
         "-8.015",
         "25.346",
         null,
         null,
         "-11.619",
         "-3.927",
         null,
         null,
         "-22.547",
         "-16.154",
         null,
         null,
         "-0.052",
         "-33.207",
         null,
         null,
         "0.019",
         "8.966",
         null,
         null,
         null,
         null,
         null,
         null,
         null,
         null,
         null,
         null,
         null,
         null,
         null,
         null,
         null,
         null,
         null,
         null,
         null,
         null,
         null,
         null,
         null,
         null,
         null,
         null,
         null,
         null,
         null,
         null,
         null,
         null,
         null,
         null
        ],
        [
         "7",
         "1",
         "0 days 00:00:00.233241",
         "4233",
         "alive",
         "366",
         "-0.49",
         "1.89",
         "0.0",
         null,
         "14.206",
         "18.41",
         null,
         null,
         "7.435",
         "5.198",
         null,
         null,
         "42.112",
         "-0.435",
         null,
         null,
         "9.339",
         "-1.73",
         null,
         null,
         "18.569",
         "-21.886",
         null,
         null,
         "6.568",
         "-7.833",
         null,
         null,
         "2.687",
         "11.919",
         null,
         null,
         "1.227",
         "-21.817",
         null,
         null,
         "18.495",
         "-4.781",
         null,
         null,
         "-1.207",
         "-9.442",
         null,
         null,
         "19.245",
         "3.584",
         null,
         null,
         "1.563",
         "-11.057",
         null,
         null,
         "-30.71",
         "-8.933",
         null,
         null,
         "-11.282",
         "2.018",
         null,
         null,
         "-21.749",
         "15.156",
         null,
         null,
         "2.862",
         "1.441",
         null,
         null,
         "-20.455",
         "4.742",
         null,
         null,
         "-8.02",
         "25.37",
         null,
         null,
         "-11.597",
         "-3.909",
         null,
         null,
         "-22.531",
         "-16.169",
         null,
         null,
         "-0.039",
         "-33.206",
         null,
         null,
         "0.075",
         "8.986",
         null,
         null,
         null,
         null,
         null,
         null,
         null,
         null,
         null,
         null,
         null,
         null,
         null,
         null,
         null,
         null,
         null,
         null,
         null,
         null,
         null,
         null,
         null,
         null,
         null,
         null,
         null,
         null,
         null,
         null,
         null,
         null,
         null,
         null
        ],
        [
         "8",
         "1",
         "0 days 00:00:00.266608",
         "4234",
         "alive",
         "366",
         "-0.91",
         "1.93",
         "0.0",
         null,
         "14.185",
         "18.423",
         null,
         null,
         "7.419",
         "5.23",
         null,
         null,
         "42.102",
         "-0.431",
         null,
         null,
         "9.316",
         "-1.705",
         null,
         null,
         "18.534",
         "-21.881",
         null,
         null,
         "6.506",
         "-7.758",
         null,
         null,
         "2.661",
         "11.964",
         null,
         null,
         "1.21",
         "-21.773",
         null,
         null,
         "18.47",
         "-4.759",
         null,
         null,
         "-1.271",
         "-9.369",
         null,
         null,
         "19.214",
         "3.608",
         null,
         null,
         "1.608",
         "-10.997",
         null,
         null,
         "-30.713",
         "-8.833",
         null,
         null,
         "-11.269",
         "2.062",
         null,
         null,
         "-21.75",
         "15.185",
         null,
         null,
         "2.92",
         "1.422",
         null,
         null,
         "-20.48",
         "4.73",
         null,
         null,
         "-8.024",
         "25.395",
         null,
         null,
         "-11.575",
         "-3.892",
         null,
         null,
         "-22.515",
         "-16.183",
         null,
         null,
         "-0.026",
         "-33.205",
         null,
         null,
         "0.131",
         "9.005",
         null,
         null,
         null,
         null,
         null,
         null,
         null,
         null,
         null,
         null,
         null,
         null,
         null,
         null,
         null,
         null,
         null,
         null,
         null,
         null,
         null,
         null,
         null,
         null,
         null,
         null,
         null,
         null,
         null,
         null,
         null,
         null,
         null,
         null
        ],
        [
         "9",
         "1",
         "0 days 00:00:00.299975",
         "4235",
         "alive",
         "366",
         "-1.33",
         "1.98",
         "0.0",
         null,
         "14.164",
         "18.437",
         null,
         null,
         "7.404",
         "5.262",
         null,
         null,
         "42.092",
         "-0.426",
         null,
         null,
         "9.293",
         "-1.68",
         null,
         null,
         "18.5",
         "-21.875",
         null,
         null,
         "6.443",
         "-7.683",
         null,
         null,
         "2.634",
         "12.009",
         null,
         null,
         "1.192",
         "-21.73",
         null,
         null,
         "18.445",
         "-4.738",
         null,
         null,
         "-1.334",
         "-9.297",
         null,
         null,
         "19.182",
         "3.631",
         null,
         null,
         "1.654",
         "-10.938",
         null,
         null,
         "-30.717",
         "-8.724",
         null,
         null,
         "-11.257",
         "2.106",
         null,
         null,
         "-21.751",
         "15.213",
         null,
         null,
         "2.978",
         "1.403",
         null,
         null,
         "-20.505",
         "4.718",
         null,
         null,
         "-8.029",
         "25.42",
         null,
         null,
         "-11.553",
         "-3.875",
         null,
         null,
         "-22.499",
         "-16.198",
         null,
         null,
         "-0.014",
         "-33.205",
         null,
         null,
         "0.187",
         "9.025",
         null,
         null,
         null,
         null,
         null,
         null,
         null,
         null,
         null,
         null,
         null,
         null,
         null,
         null,
         null,
         null,
         null,
         null,
         null,
         null,
         null,
         null,
         null,
         null,
         null,
         null,
         null,
         null,
         null,
         null,
         null,
         null,
         null,
         null
        ]
       ],
       "shape": {
        "columns": 129,
        "rows": 10
       }
      },
      "text/html": [
       "<div>\n",
       "<style scoped>\n",
       "    .dataframe tbody tr th:only-of-type {\n",
       "        vertical-align: middle;\n",
       "    }\n",
       "\n",
       "    .dataframe tbody tr th {\n",
       "        vertical-align: top;\n",
       "    }\n",
       "\n",
       "    .dataframe thead th {\n",
       "        text-align: right;\n",
       "    }\n",
       "</style>\n",
       "<table border=\"1\" class=\"dataframe\">\n",
       "  <thead>\n",
       "    <tr style=\"text-align: right;\">\n",
       "      <th></th>\n",
       "      <th>period_id</th>\n",
       "      <th>timestamp</th>\n",
       "      <th>frame_id</th>\n",
       "      <th>ball_state</th>\n",
       "      <th>ball_owning_team_id</th>\n",
       "      <th>ball_x</th>\n",
       "      <th>ball_y</th>\n",
       "      <th>ball_z</th>\n",
       "      <th>ball_speed</th>\n",
       "      <th>13228_x</th>\n",
       "      <th>...</th>\n",
       "      <th>8033_d</th>\n",
       "      <th>8033_s</th>\n",
       "      <th>8326_x</th>\n",
       "      <th>8326_y</th>\n",
       "      <th>8326_d</th>\n",
       "      <th>8326_s</th>\n",
       "      <th>8327_x</th>\n",
       "      <th>8327_y</th>\n",
       "      <th>8327_d</th>\n",
       "      <th>8327_s</th>\n",
       "    </tr>\n",
       "  </thead>\n",
       "  <tbody>\n",
       "    <tr>\n",
       "      <th>0</th>\n",
       "      <td>1</td>\n",
       "      <td>0 days 00:00:00</td>\n",
       "      <td>4226</td>\n",
       "      <td>alive</td>\n",
       "      <td>366</td>\n",
       "      <td>2.46</td>\n",
       "      <td>1.58</td>\n",
       "      <td>0.0</td>\n",
       "      <td>None</td>\n",
       "      <td>14.357</td>\n",
       "      <td>...</td>\n",
       "      <td>None</td>\n",
       "      <td>None</td>\n",
       "      <td>NaN</td>\n",
       "      <td>NaN</td>\n",
       "      <td>None</td>\n",
       "      <td>None</td>\n",
       "      <td>NaN</td>\n",
       "      <td>NaN</td>\n",
       "      <td>None</td>\n",
       "      <td>None</td>\n",
       "    </tr>\n",
       "    <tr>\n",
       "      <th>1</th>\n",
       "      <td>1</td>\n",
       "      <td>0 days 00:00:00.033041</td>\n",
       "      <td>4227</td>\n",
       "      <td>alive</td>\n",
       "      <td>366</td>\n",
       "      <td>2.04</td>\n",
       "      <td>1.62</td>\n",
       "      <td>0.0</td>\n",
       "      <td>None</td>\n",
       "      <td>14.335</td>\n",
       "      <td>...</td>\n",
       "      <td>None</td>\n",
       "      <td>None</td>\n",
       "      <td>NaN</td>\n",
       "      <td>NaN</td>\n",
       "      <td>None</td>\n",
       "      <td>None</td>\n",
       "      <td>NaN</td>\n",
       "      <td>NaN</td>\n",
       "      <td>None</td>\n",
       "      <td>None</td>\n",
       "    </tr>\n",
       "    <tr>\n",
       "      <th>2</th>\n",
       "      <td>1</td>\n",
       "      <td>0 days 00:00:00.066408</td>\n",
       "      <td>4228</td>\n",
       "      <td>alive</td>\n",
       "      <td>366</td>\n",
       "      <td>1.62</td>\n",
       "      <td>1.67</td>\n",
       "      <td>0.0</td>\n",
       "      <td>None</td>\n",
       "      <td>14.313</td>\n",
       "      <td>...</td>\n",
       "      <td>None</td>\n",
       "      <td>None</td>\n",
       "      <td>NaN</td>\n",
       "      <td>NaN</td>\n",
       "      <td>None</td>\n",
       "      <td>None</td>\n",
       "      <td>NaN</td>\n",
       "      <td>NaN</td>\n",
       "      <td>None</td>\n",
       "      <td>None</td>\n",
       "    </tr>\n",
       "    <tr>\n",
       "      <th>3</th>\n",
       "      <td>1</td>\n",
       "      <td>0 days 00:00:00.099774</td>\n",
       "      <td>4229</td>\n",
       "      <td>alive</td>\n",
       "      <td>366</td>\n",
       "      <td>1.20</td>\n",
       "      <td>1.71</td>\n",
       "      <td>0.0</td>\n",
       "      <td>None</td>\n",
       "      <td>14.291</td>\n",
       "      <td>...</td>\n",
       "      <td>None</td>\n",
       "      <td>None</td>\n",
       "      <td>NaN</td>\n",
       "      <td>NaN</td>\n",
       "      <td>None</td>\n",
       "      <td>None</td>\n",
       "      <td>NaN</td>\n",
       "      <td>NaN</td>\n",
       "      <td>None</td>\n",
       "      <td>None</td>\n",
       "    </tr>\n",
       "    <tr>\n",
       "      <th>4</th>\n",
       "      <td>1</td>\n",
       "      <td>0 days 00:00:00.133141</td>\n",
       "      <td>4230</td>\n",
       "      <td>alive</td>\n",
       "      <td>366</td>\n",
       "      <td>0.78</td>\n",
       "      <td>1.76</td>\n",
       "      <td>0.0</td>\n",
       "      <td>None</td>\n",
       "      <td>14.270</td>\n",
       "      <td>...</td>\n",
       "      <td>None</td>\n",
       "      <td>None</td>\n",
       "      <td>NaN</td>\n",
       "      <td>NaN</td>\n",
       "      <td>None</td>\n",
       "      <td>None</td>\n",
       "      <td>NaN</td>\n",
       "      <td>NaN</td>\n",
       "      <td>None</td>\n",
       "      <td>None</td>\n",
       "    </tr>\n",
       "    <tr>\n",
       "      <th>5</th>\n",
       "      <td>1</td>\n",
       "      <td>0 days 00:00:00.166508</td>\n",
       "      <td>4231</td>\n",
       "      <td>alive</td>\n",
       "      <td>366</td>\n",
       "      <td>0.36</td>\n",
       "      <td>1.80</td>\n",
       "      <td>0.0</td>\n",
       "      <td>None</td>\n",
       "      <td>14.249</td>\n",
       "      <td>...</td>\n",
       "      <td>None</td>\n",
       "      <td>None</td>\n",
       "      <td>NaN</td>\n",
       "      <td>NaN</td>\n",
       "      <td>None</td>\n",
       "      <td>None</td>\n",
       "      <td>NaN</td>\n",
       "      <td>NaN</td>\n",
       "      <td>None</td>\n",
       "      <td>None</td>\n",
       "    </tr>\n",
       "    <tr>\n",
       "      <th>6</th>\n",
       "      <td>1</td>\n",
       "      <td>0 days 00:00:00.199875</td>\n",
       "      <td>4232</td>\n",
       "      <td>alive</td>\n",
       "      <td>366</td>\n",
       "      <td>-0.07</td>\n",
       "      <td>1.84</td>\n",
       "      <td>0.0</td>\n",
       "      <td>None</td>\n",
       "      <td>14.227</td>\n",
       "      <td>...</td>\n",
       "      <td>None</td>\n",
       "      <td>None</td>\n",
       "      <td>NaN</td>\n",
       "      <td>NaN</td>\n",
       "      <td>None</td>\n",
       "      <td>None</td>\n",
       "      <td>NaN</td>\n",
       "      <td>NaN</td>\n",
       "      <td>None</td>\n",
       "      <td>None</td>\n",
       "    </tr>\n",
       "    <tr>\n",
       "      <th>7</th>\n",
       "      <td>1</td>\n",
       "      <td>0 days 00:00:00.233241</td>\n",
       "      <td>4233</td>\n",
       "      <td>alive</td>\n",
       "      <td>366</td>\n",
       "      <td>-0.49</td>\n",
       "      <td>1.89</td>\n",
       "      <td>0.0</td>\n",
       "      <td>None</td>\n",
       "      <td>14.206</td>\n",
       "      <td>...</td>\n",
       "      <td>None</td>\n",
       "      <td>None</td>\n",
       "      <td>NaN</td>\n",
       "      <td>NaN</td>\n",
       "      <td>None</td>\n",
       "      <td>None</td>\n",
       "      <td>NaN</td>\n",
       "      <td>NaN</td>\n",
       "      <td>None</td>\n",
       "      <td>None</td>\n",
       "    </tr>\n",
       "    <tr>\n",
       "      <th>8</th>\n",
       "      <td>1</td>\n",
       "      <td>0 days 00:00:00.266608</td>\n",
       "      <td>4234</td>\n",
       "      <td>alive</td>\n",
       "      <td>366</td>\n",
       "      <td>-0.91</td>\n",
       "      <td>1.93</td>\n",
       "      <td>0.0</td>\n",
       "      <td>None</td>\n",
       "      <td>14.185</td>\n",
       "      <td>...</td>\n",
       "      <td>None</td>\n",
       "      <td>None</td>\n",
       "      <td>NaN</td>\n",
       "      <td>NaN</td>\n",
       "      <td>None</td>\n",
       "      <td>None</td>\n",
       "      <td>NaN</td>\n",
       "      <td>NaN</td>\n",
       "      <td>None</td>\n",
       "      <td>None</td>\n",
       "    </tr>\n",
       "    <tr>\n",
       "      <th>9</th>\n",
       "      <td>1</td>\n",
       "      <td>0 days 00:00:00.299975</td>\n",
       "      <td>4235</td>\n",
       "      <td>alive</td>\n",
       "      <td>366</td>\n",
       "      <td>-1.33</td>\n",
       "      <td>1.98</td>\n",
       "      <td>0.0</td>\n",
       "      <td>None</td>\n",
       "      <td>14.164</td>\n",
       "      <td>...</td>\n",
       "      <td>None</td>\n",
       "      <td>None</td>\n",
       "      <td>NaN</td>\n",
       "      <td>NaN</td>\n",
       "      <td>None</td>\n",
       "      <td>None</td>\n",
       "      <td>NaN</td>\n",
       "      <td>NaN</td>\n",
       "      <td>None</td>\n",
       "      <td>None</td>\n",
       "    </tr>\n",
       "  </tbody>\n",
       "</table>\n",
       "<p>10 rows × 129 columns</p>\n",
       "</div>"
      ],
      "text/plain": [
       "   period_id              timestamp  frame_id ball_state ball_owning_team_id  \\\n",
       "0          1        0 days 00:00:00      4226      alive                 366   \n",
       "1          1 0 days 00:00:00.033041      4227      alive                 366   \n",
       "2          1 0 days 00:00:00.066408      4228      alive                 366   \n",
       "3          1 0 days 00:00:00.099774      4229      alive                 366   \n",
       "4          1 0 days 00:00:00.133141      4230      alive                 366   \n",
       "5          1 0 days 00:00:00.166508      4231      alive                 366   \n",
       "6          1 0 days 00:00:00.199875      4232      alive                 366   \n",
       "7          1 0 days 00:00:00.233241      4233      alive                 366   \n",
       "8          1 0 days 00:00:00.266608      4234      alive                 366   \n",
       "9          1 0 days 00:00:00.299975      4235      alive                 366   \n",
       "\n",
       "   ball_x  ball_y  ball_z ball_speed  13228_x  ...  8033_d 8033_s 8326_x  \\\n",
       "0    2.46    1.58     0.0       None   14.357  ...    None   None    NaN   \n",
       "1    2.04    1.62     0.0       None   14.335  ...    None   None    NaN   \n",
       "2    1.62    1.67     0.0       None   14.313  ...    None   None    NaN   \n",
       "3    1.20    1.71     0.0       None   14.291  ...    None   None    NaN   \n",
       "4    0.78    1.76     0.0       None   14.270  ...    None   None    NaN   \n",
       "5    0.36    1.80     0.0       None   14.249  ...    None   None    NaN   \n",
       "6   -0.07    1.84     0.0       None   14.227  ...    None   None    NaN   \n",
       "7   -0.49    1.89     0.0       None   14.206  ...    None   None    NaN   \n",
       "8   -0.91    1.93     0.0       None   14.185  ...    None   None    NaN   \n",
       "9   -1.33    1.98     0.0       None   14.164  ...    None   None    NaN   \n",
       "\n",
       "   8326_y  8326_d 8326_s 8327_x  8327_y  8327_d 8327_s  \n",
       "0     NaN    None   None    NaN     NaN    None   None  \n",
       "1     NaN    None   None    NaN     NaN    None   None  \n",
       "2     NaN    None   None    NaN     NaN    None   None  \n",
       "3     NaN    None   None    NaN     NaN    None   None  \n",
       "4     NaN    None   None    NaN     NaN    None   None  \n",
       "5     NaN    None   None    NaN     NaN    None   None  \n",
       "6     NaN    None   None    NaN     NaN    None   None  \n",
       "7     NaN    None   None    NaN     NaN    None   None  \n",
       "8     NaN    None   None    NaN     NaN    None   None  \n",
       "9     NaN    None   None    NaN     NaN    None   None  \n",
       "\n",
       "[10 rows x 129 columns]"
      ]
     },
     "execution_count": 232,
     "metadata": {},
     "output_type": "execute_result"
    }
   ],
   "source": [
    "# Load the dataset for match ID 3812.\n",
    "dataset = pff.load_tracking(\n",
    "    raw_data = raw_data_path,\n",
    "    meta_data = metadata_path,\n",
    "    roster_meta_data = roster_path,\n",
    "    coordinates= \"pff\",\n",
    "    limit= None,\n",
    "    sample_rate= None\n",
    ")\n",
    "\n",
    "dataset.to_df().head(10)"
   ]
  },
  {
   "cell_type": "code",
   "execution_count": 233,
   "metadata": {},
   "outputs": [
    {
     "name": "stdout",
     "output_type": "stream",
     "text": [
      "This is the record of around 56.64 min of the 2022 football world cup match Senegal vs Netherlands\n",
      "Total number of frame availabe: 101851\n",
      "recording frequency: 29.97Hz\n"
     ]
    }
   ],
   "source": [
    "# check the total number of frame the frame_rate and how many minutes of recording it correspond to.\n",
    "total_Nframes = len(dataset)    # total number of frame\n",
    "frame_rate = dataset.frame_rate     #frame_rate\n",
    "# let now get the equivalent number of minutes recorded.\n",
    "def what_is_this(Nframes,frame_rate=25):\n",
    "    total_recorded_time  = Nframes/frame_rate\n",
    "    time_in_min = total_recorded_time/60                # to get the result in minutes\n",
    "    print(f\"This is the record of around {time_in_min:0.2f} min of the 2022 football world cup match {dataset.metadata.teams[0]} vs {dataset.metadata.teams[1]}\")\n",
    "    print(f\"Total number of frame availabe: {Nframes}\")\n",
    "    print(f\"recording frequency: {frame_rate}Hz\")\n",
    "\n",
    "what_is_this(total_Nframes,frame_rate)"
   ]
  },
  {
   "cell_type": "markdown",
   "metadata": {},
   "source": [
    "**It seems like is the provider which doesn't provide the entire record of the match.</br>**\n",
    "**But since we haven't yet explore the of kloppy to parse the data we can't say it confidently.**"
   ]
  },
  {
   "cell_type": "code",
   "execution_count": 234,
   "metadata": {},
   "outputs": [
    {
     "data": {
      "image/png": "[encoded data removed]",
      "text/plain": [
       "<Figure size 640x480 with 1 Axes>"
      ]
     },
     "metadata": {},
     "output_type": "display_data"
    }
   ],
   "source": [
    "# Good let be a little bit more curious this time around and plot something good with mplscore\n",
    "\n",
    "# test the if mplsoccer is installed by plotting a pitch as in the documentation.\n",
    "from mplsoccer.pitch import Pitch\n",
    "pitch = Pitch(pitch_color='grass', line_color='white', stripe=True,corner_arcs=True)\n",
    "fig, ax = pitch.draw()"
   ]
  },
  {
   "cell_type": "markdown",
   "metadata": {},
   "source": [
    "**Good it's works...**"
   ]
  },
  {
   "cell_type": "markdown",
   "metadata": {},
   "source": [
    "# Now Let try to plot the players on the first frame as a first step."
   ]
  },
  {
   "cell_type": "markdown",
   "metadata": {},
   "source": [
    "### What do we need to know ?\n",
    "- how to plot a pitch and handle parameters of the pitch like the colors of field and lines the size of the figure.\n",
    "- how to plot player getting from the dataset on the prepared pitch.\n",
    "- how to render it. "
   ]
  },
  {
   "cell_type": "code",
   "execution_count": 235,
   "metadata": {},
   "outputs": [
    {
     "data": {
      "image/png": "[encoded data removed]",
      "text/plain": [
       "<Figure size 640x480 with 1 Axes>"
      ]
     },
     "metadata": {},
     "output_type": "display_data"
    }
   ],
   "source": [
    "# To create a pitch we need to create an instance of the Pitch class with some arguments\n",
    "# the type of pitch that we want wich is related to the name of the data provider \n",
    "# here we use \"skillcorner\" insteed to \"pff\" since they are using the same nomenclature and skillcorner is among the provider supported by mplsoccer.\n",
    "# we then precise the dimension of the pitch and some optional attributes like the axis and the label on the axis. \n",
    "pitch_ = Pitch(\n",
    "    pitch_type=\"skillcorner\",\n",
    "    pitch_length=dataset.metadata.coordinate_system.pitch_length,\n",
    "    pitch_width=dataset.metadata.coordinate_system.pitch_width,\n",
    "    axis=True,\n",
    "    label=True,\n",
    "    tick=True\n",
    ")\n",
    "\n",
    "fig,axs = pitch_.draw()"
   ]
  },
  {
   "cell_type": "code",
   "execution_count": 236,
   "metadata": {},
   "outputs": [
    {
     "data": {
      "application/vnd.microsoft.datawrangler.viewer.v0+json": {
       "columns": [
        {
         "name": "index",
         "rawType": "int64",
         "type": "integer"
        },
        {
         "name": "jersey_no",
         "rawType": "int64",
         "type": "integer"
        },
        {
         "name": "player_name",
         "rawType": "object",
         "type": "string"
        },
        {
         "name": "x",
         "rawType": "float64",
         "type": "float"
        },
        {
         "name": "y",
         "rawType": "float64",
         "type": "float"
        }
       ],
       "ref": "245adc13-ff4a-4ff2-bfb5-40d2bbf7d1c7",
       "rows": [
        [
         "0",
         "21",
         "Youssouf Sabaly",
         "14.357",
         "18.306"
        ],
        [
         "1",
         "4",
         "Pape Abou Cissé",
         "7.543",
         "4.958"
        ],
        [
         "2",
         "16",
         "Edouard Mendy",
         "42.184",
         "-0.469"
        ],
        [
         "3",
         "6",
         "Nampalys Mendy",
         "9.501",
         "-1.919"
        ],
        [
         "4",
         "22",
         "Abdou Diallo",
         "18.819",
         "-21.928"
        ],
        [
         "5",
         "5",
         "Idrissa Gueye",
         "7.011",
         "-8.378"
        ],
        [
         "6",
         "15",
         "Krépin Diatta",
         "2.879",
         "11.588"
        ],
        [
         "7",
         "18",
         "Ismaïla Sarr",
         "1.351",
         "-22.141"
        ],
        [
         "8",
         "8",
         "Cheikhou Kouyaté",
         "18.662",
         "-4.934"
        ],
        [
         "9",
         "9",
         "Boulaye Dia",
         "-0.771",
         "-9.96"
        ],
        [
         "10",
         "3",
         "Kalidou Koulibaly",
         "19.462",
         "3.407"
        ]
       ],
       "shape": {
        "columns": 4,
        "rows": 11
       }
      },
      "text/html": [
       "<div>\n",
       "<style scoped>\n",
       "    .dataframe tbody tr th:only-of-type {\n",
       "        vertical-align: middle;\n",
       "    }\n",
       "\n",
       "    .dataframe tbody tr th {\n",
       "        vertical-align: top;\n",
       "    }\n",
       "\n",
       "    .dataframe thead th {\n",
       "        text-align: right;\n",
       "    }\n",
       "</style>\n",
       "<table border=\"1\" class=\"dataframe\">\n",
       "  <thead>\n",
       "    <tr style=\"text-align: right;\">\n",
       "      <th></th>\n",
       "      <th>jersey_no</th>\n",
       "      <th>player_name</th>\n",
       "      <th>x</th>\n",
       "      <th>y</th>\n",
       "    </tr>\n",
       "  </thead>\n",
       "  <tbody>\n",
       "    <tr>\n",
       "      <th>0</th>\n",
       "      <td>21</td>\n",
       "      <td>Youssouf Sabaly</td>\n",
       "      <td>14.357</td>\n",
       "      <td>18.306</td>\n",
       "    </tr>\n",
       "    <tr>\n",
       "      <th>1</th>\n",
       "      <td>4</td>\n",
       "      <td>Pape Abou Cissé</td>\n",
       "      <td>7.543</td>\n",
       "      <td>4.958</td>\n",
       "    </tr>\n",
       "    <tr>\n",
       "      <th>2</th>\n",
       "      <td>16</td>\n",
       "      <td>Edouard Mendy</td>\n",
       "      <td>42.184</td>\n",
       "      <td>-0.469</td>\n",
       "    </tr>\n",
       "    <tr>\n",
       "      <th>3</th>\n",
       "      <td>6</td>\n",
       "      <td>Nampalys Mendy</td>\n",
       "      <td>9.501</td>\n",
       "      <td>-1.919</td>\n",
       "    </tr>\n",
       "    <tr>\n",
       "      <th>4</th>\n",
       "      <td>22</td>\n",
       "      <td>Abdou Diallo</td>\n",
       "      <td>18.819</td>\n",
       "      <td>-21.928</td>\n",
       "    </tr>\n",
       "    <tr>\n",
       "      <th>5</th>\n",
       "      <td>5</td>\n",
       "      <td>Idrissa Gueye</td>\n",
       "      <td>7.011</td>\n",
       "      <td>-8.378</td>\n",
       "    </tr>\n",
       "    <tr>\n",
       "      <th>6</th>\n",
       "      <td>15</td>\n",
       "      <td>Krépin Diatta</td>\n",
       "      <td>2.879</td>\n",
       "      <td>11.588</td>\n",
       "    </tr>\n",
       "    <tr>\n",
       "      <th>7</th>\n",
       "      <td>18</td>\n",
       "      <td>Ismaïla Sarr</td>\n",
       "      <td>1.351</td>\n",
       "      <td>-22.141</td>\n",
       "    </tr>\n",
       "    <tr>\n",
       "      <th>8</th>\n",
       "      <td>8</td>\n",
       "      <td>Cheikhou Kouyaté</td>\n",
       "      <td>18.662</td>\n",
       "      <td>-4.934</td>\n",
       "    </tr>\n",
       "    <tr>\n",
       "      <th>9</th>\n",
       "      <td>9</td>\n",
       "      <td>Boulaye Dia</td>\n",
       "      <td>-0.771</td>\n",
       "      <td>-9.960</td>\n",
       "    </tr>\n",
       "    <tr>\n",
       "      <th>10</th>\n",
       "      <td>3</td>\n",
       "      <td>Kalidou Koulibaly</td>\n",
       "      <td>19.462</td>\n",
       "      <td>3.407</td>\n",
       "    </tr>\n",
       "  </tbody>\n",
       "</table>\n",
       "</div>"
      ],
      "text/plain": [
       "    jersey_no        player_name       x       y\n",
       "0          21    Youssouf Sabaly  14.357  18.306\n",
       "1           4    Pape Abou Cissé   7.543   4.958\n",
       "2          16      Edouard Mendy  42.184  -0.469\n",
       "3           6     Nampalys Mendy   9.501  -1.919\n",
       "4          22       Abdou Diallo  18.819 -21.928\n",
       "5           5      Idrissa Gueye   7.011  -8.378\n",
       "6          15      Krépin Diatta   2.879  11.588\n",
       "7          18       Ismaïla Sarr   1.351 -22.141\n",
       "8           8   Cheikhou Kouyaté  18.662  -4.934\n",
       "9           9        Boulaye Dia  -0.771  -9.960\n",
       "10          3  Kalidou Koulibaly  19.462   3.407"
      ]
     },
     "execution_count": 236,
     "metadata": {},
     "output_type": "execute_result"
    }
   ],
   "source": [
    "# let get the position of the players of the home team in the first frame\n",
    "\n",
    "# get first the information on the home team\n",
    "\n",
    "# we define a function that get a team os a specific ground \n",
    "def get_team(data,target_ground):\n",
    "    for team in data.metadata.teams:\n",
    "        if str(team.ground) == target_ground:\n",
    "            return team\n",
    "        \n",
    "# get the home team     \n",
    "home_team = get_team(data=dataset,target_ground=\"home\")\n",
    "\n",
    "# Get the player of a specific team\n",
    "def get_players_of(data,target_team,frame_number):\n",
    "    player_list = []\n",
    "    for player in data.frames[frame_number].players_coordinates.keys():\n",
    "        if str(player.team.name) == str(target_team.name):\n",
    "            player_list.append(player)\n",
    "    return player_list\n",
    "\n",
    "# get the home team players.\n",
    "home_team_players = get_players_of(data=dataset,target_team=home_team,frame_number=0)\n",
    "\n",
    "# Now we can get their positions on the target frame\n",
    "def get_position(data,list_players,frame_number):\n",
    "    players_coordinates = {\n",
    "        \"jersey_no\":[],\n",
    "        \"player_name\":[],\n",
    "        \"x\":[],\n",
    "        \"y\":[]\n",
    "    }\n",
    "\n",
    "    for player in list_players:\n",
    "        players_coordinates[\"jersey_no\"].append(player.jersey_no)\n",
    "        players_coordinates[\"player_name\"].append(player.name)\n",
    "        players_coordinates[\"x\"].append(data.frames[frame_number].players_coordinates[player].x)\n",
    "        players_coordinates[\"y\"].append(data.frames[frame_number].players_coordinates[player].y)\n",
    "    return players_coordinates\n",
    "\n",
    "# get the home players positions\n",
    "pd.DataFrame(get_position(dataset,home_team_players,0))\n"
   ]
  },
  {
   "cell_type": "code",
   "execution_count": 237,
   "metadata": {},
   "outputs": [],
   "source": [
    "# good let unify the process to get directly the players position dictionary of a targeted team\n",
    "def get_position_on_pitch(data, target_ground, frame_number):\n",
    "    players_coordinates = {\n",
    "        \"jersey_no\": [],\n",
    "        \"player_name\": [],\n",
    "        \"x\": [],\n",
    "        \"y\": [],\n",
    "        \"frame_id\":\" \"\n",
    "    }\n",
    "\n",
    "    # Identify the team on the target ground\n",
    "    target_team = None\n",
    "    for team in data.metadata.teams:\n",
    "        if str(team.ground) == target_ground:\n",
    "            target_team = team\n",
    "            break\n",
    "\n",
    "    if target_team is None:\n",
    "        raise ValueError(f\"No team found for ground: {target_ground}\")\n",
    "\n",
    "    # Gather player coordinates for the target team on the specified frame\n",
    "    for player, coord in data.frames[frame_number].players_coordinates.items():\n",
    "        if str(player.team.name) == str(target_team.name):\n",
    "            players_coordinates[\"jersey_no\"].append(player.jersey_no)\n",
    "            players_coordinates[\"player_name\"].append(player.name)\n",
    "            players_coordinates[\"x\"].append(coord.x)\n",
    "            players_coordinates[\"y\"].append(coord.y)\n",
    "            players_coordinates[\"frame_id\"] = data.frames[frame_number].frame_id\n",
    "\n",
    "    return players_coordinates\n"
   ]
  },
  {
   "cell_type": "code",
   "execution_count": 238,
   "metadata": {},
   "outputs": [
    {
     "data": {
      "application/vnd.microsoft.datawrangler.viewer.v0+json": {
       "columns": [
        {
         "name": "jersey_no",
         "rawType": "int64",
         "type": "integer"
        },
        {
         "name": "player_name",
         "rawType": "object",
         "type": "string"
        },
        {
         "name": "x",
         "rawType": "float64",
         "type": "float"
        },
        {
         "name": "y",
         "rawType": "float64",
         "type": "float"
        },
        {
         "name": "frame_id",
         "rawType": "int64",
         "type": "integer"
        }
       ],
       "ref": "bdc01c08-78a3-4257-a66d-f51be1bf8a0c",
       "rows": [
        [
         "3",
         "Matthijs De Ligt",
         "-22.632",
         "-16.084",
         "4227"
        ],
        [
         "4",
         "Virgil van Dijk",
         "-20.304",
         "4.819",
         "4227"
        ],
        [
         "5",
         "Nathan Aké",
         "-21.746",
         "14.979",
         "4227"
        ],
        [
         "7",
         "Steven Bergwijn",
         "-0.265",
         "8.866",
         "4227"
        ],
        [
         "8",
         "Cody Gakpo",
         "1.292",
         "-11.425",
         "4227"
        ],
        [
         "11",
         "Steven Berghuis",
         "-11.739",
         "-4.014",
         "4227"
        ],
        [
         "17",
         "Daley Blind",
         "-7.989",
         "25.225",
         "4227"
        ],
        [
         "18",
         "Vincent Janssen",
         "2.517",
         "1.56",
         "4227"
        ],
        [
         "21",
         "Frenkie de Jong",
         "-11.361",
         "1.745",
         "4227"
        ],
        [
         "22",
         "Denzel Dumfries",
         "-0.118",
         "-33.213",
         "4227"
        ],
        [
         "23",
         "Andries Noppert",
         "-30.699",
         "-9.349",
         "4227"
        ]
       ],
       "shape": {
        "columns": 4,
        "rows": 11
       }
      },
      "text/html": [
       "<div>\n",
       "<style scoped>\n",
       "    .dataframe tbody tr th:only-of-type {\n",
       "        vertical-align: middle;\n",
       "    }\n",
       "\n",
       "    .dataframe tbody tr th {\n",
       "        vertical-align: top;\n",
       "    }\n",
       "\n",
       "    .dataframe thead th {\n",
       "        text-align: right;\n",
       "    }\n",
       "</style>\n",
       "<table border=\"1\" class=\"dataframe\">\n",
       "  <thead>\n",
       "    <tr style=\"text-align: right;\">\n",
       "      <th></th>\n",
       "      <th>player_name</th>\n",
       "      <th>x</th>\n",
       "      <th>y</th>\n",
       "      <th>frame_id</th>\n",
       "    </tr>\n",
       "    <tr>\n",
       "      <th>jersey_no</th>\n",
       "      <th></th>\n",
       "      <th></th>\n",
       "      <th></th>\n",
       "      <th></th>\n",
       "    </tr>\n",
       "  </thead>\n",
       "  <tbody>\n",
       "    <tr>\n",
       "      <th>3</th>\n",
       "      <td>Matthijs De Ligt</td>\n",
       "      <td>-22.632</td>\n",
       "      <td>-16.084</td>\n",
       "      <td>4227</td>\n",
       "    </tr>\n",
       "    <tr>\n",
       "      <th>4</th>\n",
       "      <td>Virgil van Dijk</td>\n",
       "      <td>-20.304</td>\n",
       "      <td>4.819</td>\n",
       "      <td>4227</td>\n",
       "    </tr>\n",
       "    <tr>\n",
       "      <th>5</th>\n",
       "      <td>Nathan Aké</td>\n",
       "      <td>-21.746</td>\n",
       "      <td>14.979</td>\n",
       "      <td>4227</td>\n",
       "    </tr>\n",
       "    <tr>\n",
       "      <th>7</th>\n",
       "      <td>Steven Bergwijn</td>\n",
       "      <td>-0.265</td>\n",
       "      <td>8.866</td>\n",
       "      <td>4227</td>\n",
       "    </tr>\n",
       "    <tr>\n",
       "      <th>8</th>\n",
       "      <td>Cody Gakpo</td>\n",
       "      <td>1.292</td>\n",
       "      <td>-11.425</td>\n",
       "      <td>4227</td>\n",
       "    </tr>\n",
       "    <tr>\n",
       "      <th>11</th>\n",
       "      <td>Steven Berghuis</td>\n",
       "      <td>-11.739</td>\n",
       "      <td>-4.014</td>\n",
       "      <td>4227</td>\n",
       "    </tr>\n",
       "    <tr>\n",
       "      <th>17</th>\n",
       "      <td>Daley Blind</td>\n",
       "      <td>-7.989</td>\n",
       "      <td>25.225</td>\n",
       "      <td>4227</td>\n",
       "    </tr>\n",
       "    <tr>\n",
       "      <th>18</th>\n",
       "      <td>Vincent Janssen</td>\n",
       "      <td>2.517</td>\n",
       "      <td>1.560</td>\n",
       "      <td>4227</td>\n",
       "    </tr>\n",
       "    <tr>\n",
       "      <th>21</th>\n",
       "      <td>Frenkie de Jong</td>\n",
       "      <td>-11.361</td>\n",
       "      <td>1.745</td>\n",
       "      <td>4227</td>\n",
       "    </tr>\n",
       "    <tr>\n",
       "      <th>22</th>\n",
       "      <td>Denzel Dumfries</td>\n",
       "      <td>-0.118</td>\n",
       "      <td>-33.213</td>\n",
       "      <td>4227</td>\n",
       "    </tr>\n",
       "    <tr>\n",
       "      <th>23</th>\n",
       "      <td>Andries Noppert</td>\n",
       "      <td>-30.699</td>\n",
       "      <td>-9.349</td>\n",
       "      <td>4227</td>\n",
       "    </tr>\n",
       "  </tbody>\n",
       "</table>\n",
       "</div>"
      ],
      "text/plain": [
       "                player_name       x       y  frame_id\n",
       "jersey_no                                            \n",
       "3          Matthijs De Ligt -22.632 -16.084      4227\n",
       "4           Virgil van Dijk -20.304   4.819      4227\n",
       "5                Nathan Aké -21.746  14.979      4227\n",
       "7           Steven Bergwijn  -0.265   8.866      4227\n",
       "8                Cody Gakpo   1.292 -11.425      4227\n",
       "11          Steven Berghuis -11.739  -4.014      4227\n",
       "17              Daley Blind  -7.989  25.225      4227\n",
       "18          Vincent Janssen   2.517   1.560      4227\n",
       "21          Frenkie de Jong -11.361   1.745      4227\n",
       "22          Denzel Dumfries  -0.118 -33.213      4227\n",
       "23          Andries Noppert -30.699  -9.349      4227"
      ]
     },
     "execution_count": 238,
     "metadata": {},
     "output_type": "execute_result"
    }
   ],
   "source": [
    "pd.DataFrame(get_position_on_pitch(dataset,\"away\",1)).set_index(\"jersey_no\").sort_index(ascending=True)"
   ]
  },
  {
   "cell_type": "markdown",
   "metadata": {},
   "source": [
    "**Good....**"
   ]
  },
  {
   "cell_type": "code",
   "execution_count": 239,
   "metadata": {},
   "outputs": [
    {
     "data": {
      "text/plain": [
       "Text(0.5, 0.5, '2022 football world cup: Senegal vs Netherlands')"
      ]
     },
     "execution_count": 239,
     "metadata": {},
     "output_type": "execute_result"
    },
    {
     "data": {
      "image/png": "[encoded data removed]",
      "text/plain": [
       "<Figure size 779.418x600 with 2 Axes>"
      ]
     },
     "metadata": {},
     "output_type": "display_data"
    }
   ],
   "source": [
    "from mplsoccer import Pitch\n",
    "\n",
    "# Setup the pitch\n",
    "pitch = Pitch(\n",
    "    line_color=\"#cfcfcf\",\n",
    "    line_zorder=1,\n",
    "    pitch_type=\"skillcorner\",\n",
    "    pitch_length=dataset.metadata.coordinate_system.pitch_length,\n",
    "    pitch_width=dataset.metadata.coordinate_system.pitch_width,\n",
    ")\n",
    "fig, axs = pitch.grid(\n",
    "    figheight=6, endnote_height=0,  # no endnote\n",
    "    title_height=0.1, title_space=0.02,\n",
    "    axis=False,\n",
    "    grid_height=0.83\n",
    ")\n",
    "\n",
    "# Get the player coordinates\n",
    "coordinates_home = pd.DataFrame(get_position_on_pitch(dataset, \"home\", 30))\n",
    "coordinates_away = pd.DataFrame(get_position_on_pitch(dataset, \"away\", 30))\n",
    "\n",
    "# Plot the player markers (once)\n",
    "# for the home team\n",
    "pitch.scatter(\n",
    "    coordinates_home[\"x\"], coordinates_home[\"y\"],\n",
    "    s=200, c='green', label='home',\n",
    "    ax=axs['pitch']\n",
    ")\n",
    "# for the away team\n",
    "pitch.scatter(\n",
    "    coordinates_away[\"x\"], coordinates_away[\"y\"],\n",
    "    s=200, c='orange', label='away',\n",
    "    ax=axs['pitch']\n",
    ")\n",
    "# for the ball\n",
    "pitch.scatter(\n",
    "    1-dataset.frames[0].ball_coordinates.x, 1-dataset.frames[0].ball_coordinates.y,\n",
    "    s=50,marker=\"football\", label='Ball',\n",
    "    ax=axs['pitch']\n",
    ")\n",
    "\n",
    "# Plot the jersey numbers (one by one)\n",
    "for _, player in coordinates_home.iterrows():\n",
    "    pitch.annotate(\n",
    "        text=player[\"jersey_no\"],\n",
    "        xy=(player[\"x\"], player[\"y\"]),\n",
    "        va='center', ha='center', color='white',\n",
    "        fontsize=9, ax=axs['pitch']\n",
    "    )\n",
    "for _, player in coordinates_away.iterrows():\n",
    "    pitch.annotate(\n",
    "        text=player[\"jersey_no\"],\n",
    "        xy=(player[\"x\"], player[\"y\"]),\n",
    "        va='center', ha='center', color='white',\n",
    "        fontsize=9, ax=axs['pitch']\n",
    "    )\n",
    "\n",
    "# Add the legend (once)\n",
    "legend = axs['pitch'].legend(loc='lower left', labelspacing=1.5)\n",
    "for text in legend.get_texts():\n",
    "    text.set_fontsize(10)\n",
    "    text.set_va('center')\n",
    "\n",
    "# Add a title\n",
    "axs['title'].text(\n",
    "    0.5, 0.5,\n",
    "    f'2022 football world cup: {dataset.metadata.teams[0]} vs {dataset.metadata.teams[1]}',\n",
    "    va='center', ha='center', color='black', fontsize=17\n",
    ")\n"
   ]
  },
  {
   "cell_type": "markdown",
   "metadata": {},
   "source": [
    "**pretty good...**"
   ]
  },
  {
   "cell_type": "code",
   "execution_count": 240,
   "metadata": {},
   "outputs": [
    {
     "data": {
      "text/plain": [
       "away-home"
      ]
     },
     "execution_count": 240,
     "metadata": {},
     "output_type": "execute_result"
    }
   ],
   "source": [
    "# the orientation is right\n",
    "dataset.metadata.orientation"
   ]
  },
  {
   "cell_type": "code",
   "execution_count": 241,
   "metadata": {},
   "outputs": [
    {
     "data": {
      "text/plain": [
       "away-home"
      ]
     },
     "execution_count": 241,
     "metadata": {},
     "output_type": "execute_result"
    }
   ],
   "source": [
    "# let try to change the orientation\n",
    "dataset.transform(to_orientation=\"ACTION_EXECUTING_TEAM\")\n",
    "dataset.metadata.orientation"
   ]
  },
  {
   "cell_type": "code",
   "execution_count": 242,
   "metadata": {},
   "outputs": [
    {
     "data": {
      "text/plain": [
       "away-home"
      ]
     },
     "execution_count": 242,
     "metadata": {},
     "output_type": "execute_result"
    }
   ],
   "source": [
    "# let us try to make the home team playing from the left to the right.\n",
    "from kloppy.domain import Orientation\n",
    "dataset.transform(\n",
    "    to_orientation=Orientation.HOME_AWAY\n",
    ")\n",
    "dataset.metadata.orientation"
   ]
  },
  {
   "cell_type": "markdown",
   "metadata": {},
   "source": [
    "**Hahaa it is not working ... why ?**"
   ]
  },
  {
   "cell_type": "code",
   "execution_count": 243,
   "metadata": {},
   "outputs": [
    {
     "data": {
      "text/plain": [
       "<kloppy.domain.models.common.PFFCoordinateSystem at 0x7ff289644750>"
      ]
     },
     "execution_count": 243,
     "metadata": {},
     "output_type": "execute_result"
    }
   ],
   "source": [
    "# let us check the coordinate_system \n",
    "dataset.metadata.coordinate_system"
   ]
  },
  {
   "cell_type": "markdown",
   "metadata": {},
   "source": [
    "# Now Let try to get an animation of the first ten second of the game."
   ]
  },
  {
   "cell_type": "code",
   "execution_count": 244,
   "metadata": {},
   "outputs": [],
   "source": [
    "from matplotlib import animation"
   ]
  },
  {
   "cell_type": "code",
   "execution_count": 245,
   "metadata": {},
   "outputs": [
    {
     "data": {
      "application/vnd.microsoft.datawrangler.viewer.v0+json": {
       "columns": [
        {
         "name": "index",
         "rawType": "int64",
         "type": "integer"
        },
        {
         "name": "ball_x",
         "rawType": "float64",
         "type": "float"
        },
        {
         "name": "ball_y",
         "rawType": "float64",
         "type": "float"
        },
        {
         "name": "frame_id",
         "rawType": "int64",
         "type": "integer"
        }
       ],
       "ref": "12630189-90e0-429b-a051-673cf7335ffb",
       "rows": [
        [
         "0",
         "2.46",
         "1.58",
         "4226"
        ],
        [
         "1",
         "2.04",
         "1.62",
         "4227"
        ],
        [
         "2",
         "1.62",
         "1.67",
         "4228"
        ],
        [
         "3",
         "1.2",
         "1.71",
         "4229"
        ],
        [
         "4",
         "0.78",
         "1.76",
         "4230"
        ],
        [
         "5",
         "0.36",
         "1.8",
         "4231"
        ],
        [
         "6",
         "-0.07",
         "1.84",
         "4232"
        ],
        [
         "7",
         "-0.49",
         "1.89",
         "4233"
        ],
        [
         "8",
         "-0.91",
         "1.93",
         "4234"
        ],
        [
         "9",
         "-1.33",
         "1.98",
         "4235"
        ],
        [
         "10",
         "-1.75",
         "2.02",
         "4236"
        ],
        [
         "11",
         "-2.17",
         "2.06",
         "4237"
        ],
        [
         "12",
         "-2.59",
         "2.11",
         "4238"
        ],
        [
         "13",
         "-3.01",
         "2.15",
         "4239"
        ],
        [
         "14",
         "-3.44",
         "2.2",
         "4240"
        ],
        [
         "15",
         "-3.86",
         "2.24",
         "4241"
        ],
        [
         "16",
         "-4.28",
         "2.28",
         "4242"
        ],
        [
         "17",
         "-4.7",
         "2.33",
         "4243"
        ],
        [
         "18",
         "-5.12",
         "2.37",
         "4244"
        ],
        [
         "19",
         "-5.54",
         "2.42",
         "4245"
        ],
        [
         "20",
         "-5.96",
         "2.46",
         "4246"
        ],
        [
         "21",
         "-6.38",
         "2.51",
         "4247"
        ],
        [
         "22",
         "-6.81",
         "2.55",
         "4248"
        ],
        [
         "23",
         "-7.23",
         "2.59",
         "4249"
        ],
        [
         "24",
         "-7.65",
         "2.64",
         "4250"
        ],
        [
         "25",
         "-8.07",
         "2.68",
         "4251"
        ],
        [
         "26",
         "-8.49",
         "2.73",
         "4252"
        ],
        [
         "27",
         "-8.91",
         "2.77",
         "4253"
        ],
        [
         "28",
         "-9.33",
         "2.81",
         "4254"
        ],
        [
         "29",
         "-9.75",
         "2.86",
         "4255"
        ],
        [
         "30",
         "-10.17",
         "2.9",
         "4256"
        ],
        [
         "31",
         "-10.6",
         "2.95",
         "4257"
        ],
        [
         "32",
         "-11.02",
         "2.99",
         "4258"
        ],
        [
         "33",
         "-11.01",
         "3.02",
         "4259"
        ],
        [
         "34",
         "-11.0",
         "3.06",
         "4260"
        ],
        [
         "35",
         "-10.99",
         "3.09",
         "4261"
        ],
        [
         "36",
         "-10.98",
         "3.13",
         "4262"
        ],
        [
         "37",
         "-10.97",
         "3.16",
         "4263"
        ],
        [
         "38",
         "-10.96",
         "3.2",
         "4264"
        ],
        [
         "39",
         "-10.96",
         "3.23",
         "4265"
        ],
        [
         "40",
         "-10.95",
         "3.26",
         "4266"
        ],
        [
         "41",
         "-10.94",
         "3.3",
         "4267"
        ],
        [
         "42",
         "-10.93",
         "3.33",
         "4268"
        ],
        [
         "43",
         "-10.92",
         "3.36",
         "4269"
        ],
        [
         "44",
         "-10.91",
         "3.4",
         "4270"
        ],
        [
         "45",
         "-10.9",
         "3.43",
         "4271"
        ],
        [
         "46",
         "-10.89",
         "3.46",
         "4272"
        ],
        [
         "47",
         "-10.88",
         "3.5",
         "4273"
        ],
        [
         "48",
         "-10.88",
         "3.53",
         "4274"
        ],
        [
         "49",
         "-10.87",
         "3.56",
         "4275"
        ]
       ],
       "shape": {
        "columns": 3,
        "rows": 600
       }
      },
      "text/html": [
       "<div>\n",
       "<style scoped>\n",
       "    .dataframe tbody tr th:only-of-type {\n",
       "        vertical-align: middle;\n",
       "    }\n",
       "\n",
       "    .dataframe tbody tr th {\n",
       "        vertical-align: top;\n",
       "    }\n",
       "\n",
       "    .dataframe thead th {\n",
       "        text-align: right;\n",
       "    }\n",
       "</style>\n",
       "<table border=\"1\" class=\"dataframe\">\n",
       "  <thead>\n",
       "    <tr style=\"text-align: right;\">\n",
       "      <th></th>\n",
       "      <th>ball_x</th>\n",
       "      <th>ball_y</th>\n",
       "      <th>frame_id</th>\n",
       "    </tr>\n",
       "  </thead>\n",
       "  <tbody>\n",
       "    <tr>\n",
       "      <th>0</th>\n",
       "      <td>2.46</td>\n",
       "      <td>1.58</td>\n",
       "      <td>4226</td>\n",
       "    </tr>\n",
       "    <tr>\n",
       "      <th>1</th>\n",
       "      <td>2.04</td>\n",
       "      <td>1.62</td>\n",
       "      <td>4227</td>\n",
       "    </tr>\n",
       "    <tr>\n",
       "      <th>2</th>\n",
       "      <td>1.62</td>\n",
       "      <td>1.67</td>\n",
       "      <td>4228</td>\n",
       "    </tr>\n",
       "    <tr>\n",
       "      <th>3</th>\n",
       "      <td>1.20</td>\n",
       "      <td>1.71</td>\n",
       "      <td>4229</td>\n",
       "    </tr>\n",
       "    <tr>\n",
       "      <th>4</th>\n",
       "      <td>0.78</td>\n",
       "      <td>1.76</td>\n",
       "      <td>4230</td>\n",
       "    </tr>\n",
       "    <tr>\n",
       "      <th>...</th>\n",
       "      <td>...</td>\n",
       "      <td>...</td>\n",
       "      <td>...</td>\n",
       "    </tr>\n",
       "    <tr>\n",
       "      <th>595</th>\n",
       "      <td>-17.18</td>\n",
       "      <td>16.99</td>\n",
       "      <td>4821</td>\n",
       "    </tr>\n",
       "    <tr>\n",
       "      <th>596</th>\n",
       "      <td>-17.14</td>\n",
       "      <td>16.98</td>\n",
       "      <td>4822</td>\n",
       "    </tr>\n",
       "    <tr>\n",
       "      <th>597</th>\n",
       "      <td>-17.10</td>\n",
       "      <td>16.97</td>\n",
       "      <td>4823</td>\n",
       "    </tr>\n",
       "    <tr>\n",
       "      <th>598</th>\n",
       "      <td>-17.05</td>\n",
       "      <td>16.97</td>\n",
       "      <td>4824</td>\n",
       "    </tr>\n",
       "    <tr>\n",
       "      <th>599</th>\n",
       "      <td>-17.01</td>\n",
       "      <td>16.96</td>\n",
       "      <td>4825</td>\n",
       "    </tr>\n",
       "  </tbody>\n",
       "</table>\n",
       "<p>600 rows × 3 columns</p>\n",
       "</div>"
      ],
      "text/plain": [
       "     ball_x  ball_y  frame_id\n",
       "0      2.46    1.58      4226\n",
       "1      2.04    1.62      4227\n",
       "2      1.62    1.67      4228\n",
       "3      1.20    1.71      4229\n",
       "4      0.78    1.76      4230\n",
       "..      ...     ...       ...\n",
       "595  -17.18   16.99      4821\n",
       "596  -17.14   16.98      4822\n",
       "597  -17.10   16.97      4823\n",
       "598  -17.05   16.97      4824\n",
       "599  -17.01   16.96      4825\n",
       "\n",
       "[600 rows x 3 columns]"
      ]
     },
     "execution_count": 245,
     "metadata": {},
     "output_type": "execute_result"
    }
   ],
   "source": [
    "# from what we understood from the mplsoccer documentation to make and animation we need dataframes that contain on a selected duration the positions of the ball, the away players and the home players\n",
    "\n",
    "# let create these dataframes over a ten seconds periods so around 300 frames\n",
    "\n",
    "\n",
    "# first get the 300 first frame of the game \n",
    "selected_frames = dataset.frames[:600]\n",
    "\n",
    "# we define a function to get specific attribute values on multiple frame\n",
    "def get_values(list_frames):\n",
    "    data = {\"ball_x\":[],\"ball_y\":[]}\n",
    "    for frame in list_frames:\n",
    "        data[\"ball_x\"].append(frame.ball_coordinates.x)\n",
    "        data[\"ball_y\"].append(frame.ball_coordinates.y)\n",
    "    data[\"frame_id\"] = [frame.frame_id for frame in list_frames]\n",
    "    return pd.DataFrame(data)\n",
    "\n",
    "df_ball = get_values(selected_frames)\n",
    "df_ball"
   ]
  },
  {
   "cell_type": "code",
   "execution_count": 246,
   "metadata": {},
   "outputs": [],
   "source": [
    "away_player_coord_dfs = [pd.DataFrame(get_position_on_pitch(dataset,\"away\",i)).set_index(\"jersey_no\").sort_index(ascending=True)for i in range(600)]\n",
    "home_player_coord_dfs = [pd.DataFrame(get_position_on_pitch(dataset,\"home\",i)).set_index(\"jersey_no\").sort_index(ascending=True)for i in range(600)]\n"
   ]
  },
  {
   "cell_type": "code",
   "execution_count": 247,
   "metadata": {},
   "outputs": [],
   "source": [
    "away_coord_df = pd.concat(away_player_coord_dfs,axis=0,ignore_index=True)\n",
    "home_coord_df = pd.concat(home_player_coord_dfs,axis=0,ignore_index=True)"
   ]
  },
  {
   "cell_type": "code",
   "execution_count": 248,
   "metadata": {},
   "outputs": [
    {
     "data": {
      "application/vnd.microsoft.datawrangler.viewer.v0+json": {
       "columns": [
        {
         "name": "index",
         "rawType": "int64",
         "type": "integer"
        },
        {
         "name": "player_name",
         "rawType": "object",
         "type": "string"
        },
        {
         "name": "x",
         "rawType": "float64",
         "type": "float"
        },
        {
         "name": "y",
         "rawType": "float64",
         "type": "float"
        },
        {
         "name": "frame_id",
         "rawType": "int64",
         "type": "integer"
        }
       ],
       "ref": "71a15e9e-8c39-4f8b-ac60-a119807c911e",
       "rows": [
        [
         "0",
         "Matthijs De Ligt",
         "-22.65",
         "-16.07",
         "4226"
        ],
        [
         "1",
         "Virgil van Dijk",
         "-20.279",
         "4.833",
         "4226"
        ],
        [
         "2",
         "Nathan Aké",
         "-21.746",
         "14.948",
         "4226"
        ],
        [
         "3",
         "Steven Bergwijn",
         "-0.322",
         "8.845",
         "4226"
        ],
        [
         "4",
         "Cody Gakpo",
         "1.247",
         "-11.488",
         "4226"
        ],
        [
         "5",
         "Steven Berghuis",
         "-11.765",
         "-4.032",
         "4226"
        ],
        [
         "6",
         "Daley Blind",
         "-7.984",
         "25.201",
         "4226"
        ],
        [
         "7",
         "Vincent Janssen",
         "2.461",
         "1.58",
         "4226"
        ],
        [
         "8",
         "Frenkie de Jong",
         "-11.375",
         "1.698",
         "4226"
        ],
        [
         "9",
         "Denzel Dumfries",
         "-0.132",
         "-33.214",
         "4226"
        ],
        [
         "10",
         "Andries Noppert",
         "-30.699",
         "-9.363",
         "4226"
        ],
        [
         "11",
         "Matthijs De Ligt",
         "-22.632",
         "-16.084",
         "4227"
        ],
        [
         "12",
         "Virgil van Dijk",
         "-20.304",
         "4.819",
         "4227"
        ],
        [
         "13",
         "Nathan Aké",
         "-21.746",
         "14.979",
         "4227"
        ],
        [
         "14",
         "Steven Bergwijn",
         "-0.265",
         "8.866",
         "4227"
        ],
        [
         "15",
         "Cody Gakpo",
         "1.292",
         "-11.425",
         "4227"
        ],
        [
         "16",
         "Steven Berghuis",
         "-11.739",
         "-4.014",
         "4227"
        ],
        [
         "17",
         "Daley Blind",
         "-7.989",
         "25.225",
         "4227"
        ],
        [
         "18",
         "Vincent Janssen",
         "2.517",
         "1.56",
         "4227"
        ],
        [
         "19",
         "Frenkie de Jong",
         "-11.361",
         "1.745",
         "4227"
        ],
        [
         "20",
         "Denzel Dumfries",
         "-0.118",
         "-33.213",
         "4227"
        ],
        [
         "21",
         "Andries Noppert",
         "-30.699",
         "-9.349",
         "4227"
        ],
        [
         "22",
         "Matthijs De Ligt",
         "-22.614",
         "-16.098",
         "4228"
        ],
        [
         "23",
         "Virgil van Dijk",
         "-20.329",
         "4.806",
         "4228"
        ],
        [
         "24",
         "Nathan Aké",
         "-21.746",
         "15.009",
         "4228"
        ],
        [
         "25",
         "Steven Bergwijn",
         "-0.208",
         "8.886",
         "4228"
        ],
        [
         "26",
         "Cody Gakpo",
         "1.337",
         "-11.362",
         "4228"
        ],
        [
         "27",
         "Steven Berghuis",
         "-11.714",
         "-3.997",
         "4228"
        ],
        [
         "28",
         "Daley Blind",
         "-7.995",
         "25.249",
         "4228"
        ],
        [
         "29",
         "Vincent Janssen",
         "2.574",
         "1.54",
         "4228"
        ],
        [
         "30",
         "Frenkie de Jong",
         "-11.348",
         "1.792",
         "4228"
        ],
        [
         "31",
         "Denzel Dumfries",
         "-0.105",
         "-33.211",
         "4228"
        ],
        [
         "32",
         "Andries Noppert",
         "-30.699",
         "-9.313",
         "4228"
        ],
        [
         "33",
         "Matthijs De Ligt",
         "-22.597",
         "-16.112",
         "4229"
        ],
        [
         "34",
         "Virgil van Dijk",
         "-20.355",
         "4.793",
         "4229"
        ],
        [
         "35",
         "Nathan Aké",
         "-21.746",
         "15.039",
         "4229"
        ],
        [
         "36",
         "Steven Bergwijn",
         "-0.151",
         "8.906",
         "4229"
        ],
        [
         "37",
         "Cody Gakpo",
         "1.382",
         "-11.3",
         "4229"
        ],
        [
         "38",
         "Steven Berghuis",
         "-11.69",
         "-3.979",
         "4229"
        ],
        [
         "39",
         "Daley Blind",
         "-8.0",
         "25.273",
         "4229"
        ],
        [
         "40",
         "Vincent Janssen",
         "2.631",
         "1.52",
         "4229"
        ],
        [
         "41",
         "Frenkie de Jong",
         "-11.334",
         "1.838",
         "4229"
        ],
        [
         "42",
         "Denzel Dumfries",
         "-0.091",
         "-33.21",
         "4229"
        ],
        [
         "43",
         "Andries Noppert",
         "-30.701",
         "-9.256",
         "4229"
        ],
        [
         "44",
         "Matthijs De Ligt",
         "-22.58",
         "-16.126",
         "4230"
        ],
        [
         "45",
         "Virgil van Dijk",
         "-20.38",
         "4.78",
         "4230"
        ],
        [
         "46",
         "Nathan Aké",
         "-21.746",
         "15.068",
         "4230"
        ],
        [
         "47",
         "Steven Bergwijn",
         "-0.094",
         "8.926",
         "4230"
        ],
        [
         "48",
         "Cody Gakpo",
         "1.427",
         "-11.238",
         "4230"
        ],
        [
         "49",
         "Steven Berghuis",
         "-11.666",
         "-3.961",
         "4230"
        ]
       ],
       "shape": {
        "columns": 4,
        "rows": 6600
       }
      },
      "text/html": [
       "<div>\n",
       "<style scoped>\n",
       "    .dataframe tbody tr th:only-of-type {\n",
       "        vertical-align: middle;\n",
       "    }\n",
       "\n",
       "    .dataframe tbody tr th {\n",
       "        vertical-align: top;\n",
       "    }\n",
       "\n",
       "    .dataframe thead th {\n",
       "        text-align: right;\n",
       "    }\n",
       "</style>\n",
       "<table border=\"1\" class=\"dataframe\">\n",
       "  <thead>\n",
       "    <tr style=\"text-align: right;\">\n",
       "      <th></th>\n",
       "      <th>player_name</th>\n",
       "      <th>x</th>\n",
       "      <th>y</th>\n",
       "      <th>frame_id</th>\n",
       "    </tr>\n",
       "  </thead>\n",
       "  <tbody>\n",
       "    <tr>\n",
       "      <th>0</th>\n",
       "      <td>Matthijs De Ligt</td>\n",
       "      <td>-22.650</td>\n",
       "      <td>-16.070</td>\n",
       "      <td>4226</td>\n",
       "    </tr>\n",
       "    <tr>\n",
       "      <th>1</th>\n",
       "      <td>Virgil van Dijk</td>\n",
       "      <td>-20.279</td>\n",
       "      <td>4.833</td>\n",
       "      <td>4226</td>\n",
       "    </tr>\n",
       "    <tr>\n",
       "      <th>2</th>\n",
       "      <td>Nathan Aké</td>\n",
       "      <td>-21.746</td>\n",
       "      <td>14.948</td>\n",
       "      <td>4226</td>\n",
       "    </tr>\n",
       "    <tr>\n",
       "      <th>3</th>\n",
       "      <td>Steven Bergwijn</td>\n",
       "      <td>-0.322</td>\n",
       "      <td>8.845</td>\n",
       "      <td>4226</td>\n",
       "    </tr>\n",
       "    <tr>\n",
       "      <th>4</th>\n",
       "      <td>Cody Gakpo</td>\n",
       "      <td>1.247</td>\n",
       "      <td>-11.488</td>\n",
       "      <td>4226</td>\n",
       "    </tr>\n",
       "    <tr>\n",
       "      <th>...</th>\n",
       "      <td>...</td>\n",
       "      <td>...</td>\n",
       "      <td>...</td>\n",
       "      <td>...</td>\n",
       "    </tr>\n",
       "    <tr>\n",
       "      <th>6595</th>\n",
       "      <td>Daley Blind</td>\n",
       "      <td>-7.239</td>\n",
       "      <td>31.940</td>\n",
       "      <td>4825</td>\n",
       "    </tr>\n",
       "    <tr>\n",
       "      <th>6596</th>\n",
       "      <td>Vincent Janssen</td>\n",
       "      <td>10.885</td>\n",
       "      <td>-2.008</td>\n",
       "      <td>4825</td>\n",
       "    </tr>\n",
       "    <tr>\n",
       "      <th>6597</th>\n",
       "      <td>Frenkie de Jong</td>\n",
       "      <td>-2.187</td>\n",
       "      <td>15.441</td>\n",
       "      <td>4825</td>\n",
       "    </tr>\n",
       "    <tr>\n",
       "      <th>6598</th>\n",
       "      <td>Denzel Dumfries</td>\n",
       "      <td>2.554</td>\n",
       "      <td>-31.855</td>\n",
       "      <td>4825</td>\n",
       "    </tr>\n",
       "    <tr>\n",
       "      <th>6599</th>\n",
       "      <td>Andries Noppert</td>\n",
       "      <td>-33.381</td>\n",
       "      <td>-0.655</td>\n",
       "      <td>4825</td>\n",
       "    </tr>\n",
       "  </tbody>\n",
       "</table>\n",
       "<p>6600 rows × 4 columns</p>\n",
       "</div>"
      ],
      "text/plain": [
       "           player_name       x       y  frame_id\n",
       "0     Matthijs De Ligt -22.650 -16.070      4226\n",
       "1      Virgil van Dijk -20.279   4.833      4226\n",
       "2           Nathan Aké -21.746  14.948      4226\n",
       "3      Steven Bergwijn  -0.322   8.845      4226\n",
       "4           Cody Gakpo   1.247 -11.488      4226\n",
       "...                ...     ...     ...       ...\n",
       "6595       Daley Blind  -7.239  31.940      4825\n",
       "6596   Vincent Janssen  10.885  -2.008      4825\n",
       "6597   Frenkie de Jong  -2.187  15.441      4825\n",
       "6598   Denzel Dumfries   2.554 -31.855      4825\n",
       "6599   Andries Noppert -33.381  -0.655      4825\n",
       "\n",
       "[6600 rows x 4 columns]"
      ]
     },
     "execution_count": 248,
     "metadata": {},
     "output_type": "execute_result"
    }
   ],
   "source": [
    "away_coord_df"
   ]
  },
  {
   "cell_type": "code",
   "execution_count": 249,
   "metadata": {},
   "outputs": [
    {
     "data": {
      "application/vnd.microsoft.datawrangler.viewer.v0+json": {
       "columns": [
        {
         "name": "index",
         "rawType": "int64",
         "type": "integer"
        },
        {
         "name": "player_name",
         "rawType": "object",
         "type": "string"
        },
        {
         "name": "x",
         "rawType": "float64",
         "type": "float"
        },
        {
         "name": "y",
         "rawType": "float64",
         "type": "float"
        },
        {
         "name": "frame_id",
         "rawType": "int64",
         "type": "integer"
        }
       ],
       "ref": "d9de598b-e029-48e5-8e71-9a3c18dfa155",
       "rows": [
        [
         "0",
         "Kalidou Koulibaly",
         "19.462",
         "3.407",
         "4226"
        ],
        [
         "1",
         "Pape Abou Cissé",
         "7.543",
         "4.958",
         "4226"
        ],
        [
         "2",
         "Idrissa Gueye",
         "7.011",
         "-8.378",
         "4226"
        ],
        [
         "3",
         "Nampalys Mendy",
         "9.501",
         "-1.919",
         "4226"
        ],
        [
         "4",
         "Cheikhou Kouyaté",
         "18.662",
         "-4.934",
         "4226"
        ],
        [
         "5",
         "Boulaye Dia",
         "-0.771",
         "-9.96",
         "4226"
        ],
        [
         "6",
         "Krépin Diatta",
         "2.879",
         "11.588",
         "4226"
        ],
        [
         "7",
         "Edouard Mendy",
         "42.184",
         "-0.469",
         "4226"
        ],
        [
         "8",
         "Ismaïla Sarr",
         "1.351",
         "-22.141",
         "4226"
        ],
        [
         "9",
         "Youssouf Sabaly",
         "14.357",
         "18.306",
         "4226"
        ],
        [
         "10",
         "Abdou Diallo",
         "18.819",
         "-21.928",
         "4226"
        ],
        [
         "11",
         "Kalidou Koulibaly",
         "19.431",
         "3.434",
         "4227"
        ],
        [
         "12",
         "Pape Abou Cissé",
         "7.527",
         "4.993",
         "4227"
        ],
        [
         "13",
         "Idrissa Gueye",
         "6.947",
         "-8.298",
         "4227"
        ],
        [
         "14",
         "Nampalys Mendy",
         "9.478",
         "-1.89",
         "4227"
        ],
        [
         "15",
         "Cheikhou Kouyaté",
         "18.639",
         "-4.912",
         "4227"
        ],
        [
         "16",
         "Boulaye Dia",
         "-0.833",
         "-9.884",
         "4227"
        ],
        [
         "17",
         "Krépin Diatta",
         "2.851",
         "11.637",
         "4227"
        ],
        [
         "18",
         "Edouard Mendy",
         "42.173",
         "-0.464",
         "4227"
        ],
        [
         "19",
         "Ismaïla Sarr",
         "1.333",
         "-22.092",
         "4227"
        ],
        [
         "20",
         "Youssouf Sabaly",
         "14.335",
         "18.322",
         "4227"
        ],
        [
         "21",
         "Abdou Diallo",
         "18.782",
         "-21.922",
         "4227"
        ],
        [
         "22",
         "Kalidou Koulibaly",
         "19.401",
         "3.46",
         "4228"
        ],
        [
         "23",
         "Pape Abou Cissé",
         "7.512",
         "5.028",
         "4228"
        ],
        [
         "24",
         "Idrissa Gueye",
         "6.883",
         "-8.218",
         "4228"
        ],
        [
         "25",
         "Nampalys Mendy",
         "9.455",
         "-1.862",
         "4228"
        ],
        [
         "26",
         "Cheikhou Kouyaté",
         "18.615",
         "-4.89",
         "4228"
        ],
        [
         "27",
         "Boulaye Dia",
         "-0.895",
         "-9.81",
         "4228"
        ],
        [
         "28",
         "Krépin Diatta",
         "2.823",
         "11.685",
         "4228"
        ],
        [
         "29",
         "Edouard Mendy",
         "42.163",
         "-0.459",
         "4228"
        ],
        [
         "30",
         "Ismaïla Sarr",
         "1.315",
         "-22.045",
         "4228"
        ],
        [
         "31",
         "Youssouf Sabaly",
         "14.313",
         "18.338",
         "4228"
        ],
        [
         "32",
         "Abdou Diallo",
         "18.746",
         "-21.915",
         "4228"
        ],
        [
         "33",
         "Kalidou Koulibaly",
         "19.37",
         "3.486",
         "4229"
        ],
        [
         "34",
         "Pape Abou Cissé",
         "7.497",
         "5.063",
         "4229"
        ],
        [
         "35",
         "Idrissa Gueye",
         "6.82",
         "-8.14",
         "4229"
        ],
        [
         "36",
         "Nampalys Mendy",
         "9.432",
         "-1.834",
         "4229"
        ],
        [
         "37",
         "Cheikhou Kouyaté",
         "18.591",
         "-4.867",
         "4229"
        ],
        [
         "38",
         "Boulaye Dia",
         "-0.957",
         "-9.735",
         "4229"
        ],
        [
         "39",
         "Krépin Diatta",
         "2.796",
         "11.733",
         "4229"
        ],
        [
         "40",
         "Edouard Mendy",
         "42.152",
         "-0.454",
         "4229"
        ],
        [
         "41",
         "Ismaïla Sarr",
         "1.298",
         "-21.998",
         "4229"
        ],
        [
         "42",
         "Youssouf Sabaly",
         "14.291",
         "18.353",
         "4229"
        ],
        [
         "43",
         "Abdou Diallo",
         "18.71",
         "-21.909",
         "4229"
        ],
        [
         "44",
         "Kalidou Koulibaly",
         "19.339",
         "3.511",
         "4230"
        ],
        [
         "45",
         "Pape Abou Cissé",
         "7.481",
         "5.097",
         "4230"
        ],
        [
         "46",
         "Idrissa Gueye",
         "6.757",
         "-8.062",
         "4230"
        ],
        [
         "47",
         "Nampalys Mendy",
         "9.409",
         "-1.807",
         "4230"
        ],
        [
         "48",
         "Cheikhou Kouyaté",
         "18.567",
         "-4.845",
         "4230"
        ],
        [
         "49",
         "Boulaye Dia",
         "-1.019",
         "-9.661",
         "4230"
        ]
       ],
       "shape": {
        "columns": 4,
        "rows": 6600
       }
      },
      "text/html": [
       "<div>\n",
       "<style scoped>\n",
       "    .dataframe tbody tr th:only-of-type {\n",
       "        vertical-align: middle;\n",
       "    }\n",
       "\n",
       "    .dataframe tbody tr th {\n",
       "        vertical-align: top;\n",
       "    }\n",
       "\n",
       "    .dataframe thead th {\n",
       "        text-align: right;\n",
       "    }\n",
       "</style>\n",
       "<table border=\"1\" class=\"dataframe\">\n",
       "  <thead>\n",
       "    <tr style=\"text-align: right;\">\n",
       "      <th></th>\n",
       "      <th>player_name</th>\n",
       "      <th>x</th>\n",
       "      <th>y</th>\n",
       "      <th>frame_id</th>\n",
       "    </tr>\n",
       "  </thead>\n",
       "  <tbody>\n",
       "    <tr>\n",
       "      <th>0</th>\n",
       "      <td>Kalidou Koulibaly</td>\n",
       "      <td>19.462</td>\n",
       "      <td>3.407</td>\n",
       "      <td>4226</td>\n",
       "    </tr>\n",
       "    <tr>\n",
       "      <th>1</th>\n",
       "      <td>Pape Abou Cissé</td>\n",
       "      <td>7.543</td>\n",
       "      <td>4.958</td>\n",
       "      <td>4226</td>\n",
       "    </tr>\n",
       "    <tr>\n",
       "      <th>2</th>\n",
       "      <td>Idrissa Gueye</td>\n",
       "      <td>7.011</td>\n",
       "      <td>-8.378</td>\n",
       "      <td>4226</td>\n",
       "    </tr>\n",
       "    <tr>\n",
       "      <th>3</th>\n",
       "      <td>Nampalys Mendy</td>\n",
       "      <td>9.501</td>\n",
       "      <td>-1.919</td>\n",
       "      <td>4226</td>\n",
       "    </tr>\n",
       "    <tr>\n",
       "      <th>4</th>\n",
       "      <td>Cheikhou Kouyaté</td>\n",
       "      <td>18.662</td>\n",
       "      <td>-4.934</td>\n",
       "      <td>4226</td>\n",
       "    </tr>\n",
       "    <tr>\n",
       "      <th>...</th>\n",
       "      <td>...</td>\n",
       "      <td>...</td>\n",
       "      <td>...</td>\n",
       "      <td>...</td>\n",
       "    </tr>\n",
       "    <tr>\n",
       "      <th>6595</th>\n",
       "      <td>Krépin Diatta</td>\n",
       "      <td>-6.540</td>\n",
       "      <td>19.845</td>\n",
       "      <td>4825</td>\n",
       "    </tr>\n",
       "    <tr>\n",
       "      <th>6596</th>\n",
       "      <td>Edouard Mendy</td>\n",
       "      <td>37.746</td>\n",
       "      <td>1.199</td>\n",
       "      <td>4825</td>\n",
       "    </tr>\n",
       "    <tr>\n",
       "      <th>6597</th>\n",
       "      <td>Ismaïla Sarr</td>\n",
       "      <td>-5.949</td>\n",
       "      <td>-8.059</td>\n",
       "      <td>4825</td>\n",
       "    </tr>\n",
       "    <tr>\n",
       "      <th>6598</th>\n",
       "      <td>Youssouf Sabaly</td>\n",
       "      <td>5.226</td>\n",
       "      <td>23.536</td>\n",
       "      <td>4825</td>\n",
       "    </tr>\n",
       "    <tr>\n",
       "      <th>6599</th>\n",
       "      <td>Abdou Diallo</td>\n",
       "      <td>9.406</td>\n",
       "      <td>-16.763</td>\n",
       "      <td>4825</td>\n",
       "    </tr>\n",
       "  </tbody>\n",
       "</table>\n",
       "<p>6600 rows × 4 columns</p>\n",
       "</div>"
      ],
      "text/plain": [
       "            player_name       x       y  frame_id\n",
       "0     Kalidou Koulibaly  19.462   3.407      4226\n",
       "1       Pape Abou Cissé   7.543   4.958      4226\n",
       "2         Idrissa Gueye   7.011  -8.378      4226\n",
       "3        Nampalys Mendy   9.501  -1.919      4226\n",
       "4      Cheikhou Kouyaté  18.662  -4.934      4226\n",
       "...                 ...     ...     ...       ...\n",
       "6595      Krépin Diatta  -6.540  19.845      4825\n",
       "6596      Edouard Mendy  37.746   1.199      4825\n",
       "6597       Ismaïla Sarr  -5.949  -8.059      4825\n",
       "6598    Youssouf Sabaly   5.226  23.536      4825\n",
       "6599       Abdou Diallo   9.406 -16.763      4825\n",
       "\n",
       "[6600 rows x 4 columns]"
      ]
     },
     "execution_count": 249,
     "metadata": {},
     "output_type": "execute_result"
    }
   ],
   "source": [
    "home_coord_df"
   ]
  },
  {
   "cell_type": "code",
   "execution_count": null,
   "metadata": {},
   "outputs": [
    {
     "data": {
      "image/png": "[encoded data removed]",
      "text/plain": [
       "<Figure size 1000x740 with 1 Axes>"
      ]
     },
     "metadata": {},
     "output_type": "display_data"
    }
   ],
   "source": [
    "# First set up the figure, the axis\n",
    "pitch = Pitch(pitch_type='skillcorner', goal_type='line', pitch_width=68, pitch_length=105)\n",
    "fig, ax = pitch.draw(figsize=(10, 7.4))\n",
    "\n",
    "# then setup the pitch plot markers we want to animate\n",
    "marker_kwargs = {'marker': 'o', 'markeredgecolor': 'black', 'linestyle': 'None'}\n",
    "ball, = ax.plot([], [], ms=6, markerfacecolor='w', zorder=3, **marker_kwargs)\n",
    "away, = ax.plot([], [], ms=10, markerfacecolor='orange', **marker_kwargs)  \n",
    "home, = ax.plot([], [], ms=10, markerfacecolor='green', **marker_kwargs) \n",
    "\n",
    "# animation function\n",
    "def animate(i):\n",
    "    \"\"\" Function to animate the data. Each frame it sets the data for the players and the ball.\"\"\"\n",
    "    # set the ball data with the x and y positions for the ith frame\n",
    "    ball.set_data(df_ball.iloc[i, [0]], df_ball.iloc[i, [1]])\n",
    "    # get the frame id for the ith frame\n",
    "    frame = df_ball.iloc[i, 2]\n",
    "    # set the player data using the frame id\n",
    "    away.set_data(away_coord_df.loc[away_coord_df.frame_id == frame, 'x'],\n",
    "                  away_coord_df.loc[away_coord_df.frame_id == frame, 'y'])\n",
    "    home.set_data(home_coord_df.loc[home_coord_df.frame_id == frame, 'x'],\n",
    "                  home_coord_df.loc[home_coord_df.frame_id == frame, 'y'])\n",
    "    return ball, away, home\n",
    "\n",
    "\n",
    "# call the animator, animate so 25 frames per second\n",
    "anim = animation.FuncAnimation(fig, animate, frames=len(df_ball), interval=33, blit=True)\n",
    "\n",
    "plt.show()\n"
   ]
  },
  {
   "cell_type": "code",
   "execution_count": 259,
   "metadata": {},
   "outputs": [],
   "source": [
    "anim.save(\"animation.mp4\", fps=30, extra_args=['-vcodec', 'libx264'])"
   ]
  },
  {
   "cell_type": "code",
   "execution_count": null,
   "metadata": {},
   "outputs": [],
   "source": []
  },
  {
   "cell_type": "code",
   "execution_count": null,
   "metadata": {},
   "outputs": [],
   "source": []
  },
  {
   "cell_type": "code",
   "execution_count": null,
   "metadata": {},
   "outputs": [],
   "source": []
  },
  {
   "cell_type": "code",
   "execution_count": null,
   "metadata": {},
   "outputs": [],
   "source": []
  },
  {
   "cell_type": "code",
   "execution_count": null,
   "metadata": {},
   "outputs": [],
   "source": []
  },
  {
   "cell_type": "code",
   "execution_count": null,
   "metadata": {},
   "outputs": [],
   "source": []
  },
  {
   "cell_type": "code",
   "execution_count": null,
   "metadata": {},
   "outputs": [],
   "source": []
  },
  {
   "cell_type": "code",
   "execution_count": null,
   "metadata": {},
   "outputs": [],
   "source": []
  },
  {
   "cell_type": "code",
   "execution_count": null,
   "metadata": {},
   "outputs": [],
   "source": []
  },
  {
   "cell_type": "code",
   "execution_count": null,
   "metadata": {},
   "outputs": [],
   "source": []
  },
  {
   "cell_type": "code",
   "execution_count": null,
   "metadata": {},
   "outputs": [],
   "source": []
  },
  {
   "cell_type": "code",
   "execution_count": null,
   "metadata": {},
   "outputs": [],
   "source": []
  },
  {
   "cell_type": "code",
   "execution_count": null,
   "metadata": {},
   "outputs": [],
   "source": []
  }
 ],
 "metadata": {
  "kernelspec": {
   "display_name": "pysport_env",
   "language": "python",
   "name": "python3"
  },
  "language_info": {
   "codemirror_mode": {
    "name": "ipython",
    "version": 3
   },
   "file_extension": ".py",
   "mimetype": "text/x-python",
   "name": "python",
   "nbconvert_exporter": "python",
   "pygments_lexer": "ipython3",
   "version": "3.11.13"
  }
 },
 "nbformat": 4,
 "nbformat_minor": 2
}
