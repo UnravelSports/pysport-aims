{
 "cells": [
  {
   "cell_type": "markdown",
   "id": "e1fa619e",
   "metadata": {},
   "source": [
    "## AIMS - Getting Started with Kloppy"
   ]
  },
  {
   "cell_type": "markdown",
   "id": "5adf3751",
   "metadata": {},
   "source": [
    "- Download open dataset at [PFF Google Docs](https://drive.google.com/drive/u/0/folders/1_a_q1e9CXeEPJ3GdCv_3-rNO3gPqacfa). \n",
    "- A full list of match_ids and their related fixture information can be found [here](https://github.com/UnravelSports/kloppy-user-guide/blob/main/user-guide/loading/pff.ipynb)\n",
    "\n",
    "Unfortunately \"event data\" (passes, shots etc.) on this open [PFF](https://fc.pff.com/) data is not yet supported. But \"tracking data\" (positions etc.) is supported. To load a single game, we need to download the respective Tracking Data file, Metadata file and Rosters file from the Google Drive.\n",
    "\n",
    "After we have the data that belongs to the same game, we can load it into Kloppy.\n",
    "\n",
    "---\n",
    "\n",
    "### Before we get started:\n",
    "- Download Python3.11+ if you don't have it already.\n",
    "- Make a virtual environment to store and install all the Python packages related to this project.\n",
    "- Activate the virtual environment (select it as a Kernel for this Jupyter Notebook)\n",
    "- [Install Kloppy](https://kloppy.pysport.org/user-guide/installation/) (`pip install kloppy`) into the virtual environment\n",
    "\n",
    "---\n",
    "\n",
    "### Kloppy\n",
    "\n",
    "Now we can load our tracking data. (Game Id 10517 is the World Cup Final)"
   ]
  },
  {
   "cell_type": "code",
   "execution_count": null,
   "id": "eb91b6d1",
   "metadata": {},
   "outputs": [],
   "source": [
    "from kloppy import pff\n",
    "\n",
    "dataset = pff.load_tracking(\n",
    "    meta_data=\"metadata_10517.json\",\n",
    "    roster_meta_data= \"rosters_10517.json\",\n",
    "    raw_data = \"pff_10517.jsonl.bz2\",\n",
    "    # Optional Parameters\n",
    "    coordinates = \"pff\",\n",
    "    sample_rate = None,\n",
    "    limit = None\n",
    ")"
   ]
  },
  {
   "cell_type": "markdown",
   "id": "71805006",
   "metadata": {},
   "source": [
    "#### Basic Kloppy Functionalities\n",
    "- [Coordinate Systems](https://kloppy.pysport.org/user-guide/concepts/coordinates/#built-in-coordinate-systems)\n",
    "- [Sample Rates](https://kloppy.pysport.org/user-guide/loading-data/#sample_rate)\n",
    "- [Limit](https://kloppy.pysport.org/user-guide/loading-data/#sample_rate)\n",
    "\n",
    "\n",
    "\n",
    "#### Dataset \n",
    "- [dataset](https://kloppy.pysport.org/user-guide/concepts/tracking-data/)\n",
    "- [dataset.metadata](https://kloppy.pysport.org/user-guide/concepts/metadata/)\n",
    "\n",
    "#### Exporting Data\n",
    "- [pandas / polars DataFrames](https://kloppy.pysport.org/user-guide/exporting-data/dataframes/)\n",
    "\n",
    "#### Transformations\n",
    "- [Transformations](https://kloppy.pysport.org/user-guide/transformations/coordinates/)"
   ]
  },
  {
   "cell_type": "markdown",
   "id": "1e268c67",
   "metadata": {},
   "source": [
    "### Plotting\n",
    "\n",
    "Use `mplsoccer` and `matplotlib` to plot some different configurations of tracking data.\n",
    "\n",
    "See https://kloppy.pysport.org/user-guide/getting-started/#exec-51--__tabbed_1_2"
   ]
  }
 ],
 "metadata": {
  "language_info": {
   "name": "python"
  }
 },
 "nbformat": 4,
 "nbformat_minor": 5
}
